{
 "cells": [
  {
   "cell_type": "markdown",
   "metadata": {},
   "source": [
    "# Investigation of performance of net mechanism on a two dimensional toy data set"
   ]
  },
  {
   "cell_type": "code",
   "execution_count": 1,
   "metadata": {
    "collapsed": true
   },
   "outputs": [],
   "source": [
    "import second_moment_experiments_main as experiment\n",
    "import pickle\n",
    "import matplotlib\n",
    "import matplotlib.pyplot as plt\n",
    "plt.rc('text', usetex = True)\n",
    "plt.rc('font', family = 'serif')\n",
    "matplotlib.rc('xtick', labelsize=14) \n",
    "matplotlib.rc('ytick', labelsize=14) \n",
    "from exputils import extract_data\n",
    "from baselines import Regression, DPRegression\n",
    "import numpy as np"
   ]
  },
  {
   "cell_type": "code",
   "execution_count": 2,
   "metadata": {
    "collapsed": true
   },
   "outputs": [],
   "source": [
    "# Load data\n",
    "exp_name = 'exp_1_features_eps_01'\n",
    "with open ('D:/Thesis/Experiments/exp_1/' + exp_name, \"rb\") as container:\n",
    "    results = pickle.load(container)\n",
    "exp_name = 'exp_1_features_eps_1'\n",
    "with open ('D:/Thesis/Experiments/exp_1/' + exp_name, \"rb\") as container:\n",
    "    results_eps_1 = pickle.load(container)\n",
    "exp_name = 'exp_1_features_eps_5'\n",
    "with open ('D:/Thesis/Experiments/exp_1/' + exp_name, \"rb\") as container:\n",
    "    results_eps_5 = pickle.load(container)\n",
    "exp_name = 'exp_1_features_eps_10'\n",
    "with open ('D:/Thesis/Experiments/exp_1/' + exp_name, \"rb\") as container:\n",
    "    results_eps_10 = pickle.load(container)"
   ]
  },
  {
   "cell_type": "markdown",
   "metadata": {},
   "source": [
    "## Feature lattice discretisation"
   ]
  },
  {
   "cell_type": "markdown",
   "metadata": {},
   "source": [
    "$\\textbf{Setup}$: Set the number of coordinates of the feature lattice to $n_t = 5$ and increment to $n_t = 20$ in steps of $1$. Repeat the experiment for $\\varepsilon \\in \\{0.1, 1, 5, 10\\}$. Compare the RMSE of the regression perfromed on the net mechansim synthetic output with the RMSE of the ADASSP algorithm. The targets lattice density remains constant, $n_f = 5$."
   ]
  },
  {
   "cell_type": "code",
   "execution_count": 3,
   "metadata": {
    "collapsed": true
   },
   "outputs": [],
   "source": [
    "# Default parameters list\n",
    "dimensionality = 2\n",
    "num_records = 40\n",
    "test_frac = 0.5\n",
    "batch_size = 100\n",
    "directory = 'D:/Thesis/Experiments/exp_1/'\n",
    "parallel = False\n",
    "save_data = False\n",
    "partition_method = 'fast_2'\n",
    "workers = -1\n",
    "num_samples = 25\n",
    "sample_parallel = False \n",
    "load_data = False\n",
    "num_points_targets = 5\n",
    "seed = 23"
   ]
  },
  {
   "cell_type": "code",
   "execution_count": 4,
   "metadata": {
    "collapsed": true
   },
   "outputs": [],
   "source": [
    "num_points_features_vec = range(5,21)"
   ]
  },
  {
   "cell_type": "markdown",
   "metadata": {},
   "source": [
    "### $\\varepsilon = 0.1$ case"
   ]
  },
  {
   "cell_type": "code",
   "execution_count": 3,
   "metadata": {},
   "outputs": [
    {
     "name": "stdout",
     "output_type": "stream",
     "text": [
      "Initialising synthetic feature space lattice\n",
      "Synthetic feature space initialised\n",
      "Initialising synthethic target space lattice\n",
      "Synthethic target space initialised\n",
      "Number of batches is 1\n",
      "Generating batch 0\n",
      "Partition function is 1278.6343819472354\n",
      "Max scaled utility is -0.020620200021951876\n",
      "Generation time 0.012993812561035156\n",
      "Sampling time 0.001965045928955078\n",
      "Overall max utility -0.04124040004390375\n",
      "Elapsed time without parallelisation is 0.01695418357849121\n",
      "Initialising synthetic feature space lattice\n",
      "Synthetic feature space initialised\n",
      "Initialising synthethic target space lattice\n",
      "Synthethic target space initialised\n",
      "Number of batches is 2\n",
      "Generating batch 0\n",
      "Partition function is 2085.033487762967\n",
      "Max scaled utility is -0.03008700135623214\n",
      "Generation time 0.0029921531677246094\n",
      "Sampling time 0.000997304916381836\n",
      "Overall max utility -0.06017400271246428\n",
      "Elapsed time without parallelisation is 0.006982326507568359\n",
      "Initialising synthetic feature space lattice\n",
      "Synthetic feature space initialised\n",
      "Initialising synthethic target space lattice\n",
      "Synthethic target space initialised\n",
      "Number of batches is 5\n",
      "Generating batch 0\n",
      "Partition function is 6768.053495270103\n",
      "Max scaled utility is -0.02230922357845441\n",
      "Generation time 0.004959583282470703\n",
      "Sampling time 0.004015684127807617\n",
      "Overall max utility -0.04461844715690882\n",
      "Elapsed time without parallelisation is 0.010947227478027344\n",
      "Initialising synthetic feature space lattice\n",
      "Synthetic feature space initialised\n",
      "Initialising synthethic target space lattice\n",
      "Synthethic target space initialised\n",
      "Number of batches is 5\n",
      "Generating batch 0\n",
      "Partition function is 8552.918952571275\n",
      "Max scaled utility is -0.01354395615792502\n",
      "Generation time 0.0059850215911865234\n",
      "Sampling time 0.0049877166748046875\n",
      "Overall max utility -0.02708791231585004\n",
      "Elapsed time without parallelisation is 0.012966156005859375\n",
      "Initialising synthetic feature space lattice\n",
      "Synthetic feature space initialised\n",
      "Initialising synthethic target space lattice\n",
      "Synthethic target space initialised\n",
      "Number of batches is 12\n",
      "Generating batch 0\n",
      "Partition function is 19765.79353343354\n",
      "Max scaled utility is -0.018837001356232175\n",
      "Generation time 0.009981870651245117\n",
      "Sampling time 0.00894021987915039\n",
      "Overall max utility -0.03767400271246435\n",
      "Elapsed time without parallelisation is 0.021914958953857422\n",
      "Initialising synthetic feature space lattice\n",
      "Synthetic feature space initialised\n",
      "Initialising synthethic target space lattice\n",
      "Synthethic target space initialised\n",
      "Number of batches is 18\n",
      "Generating batch 0\n",
      "Partition function is 30079.319612811243\n",
      "Max scaled utility is -0.018202075588106725\n",
      "Generation time 0.012966156005859375\n",
      "Sampling time 0.012963533401489258\n",
      "Overall max utility -0.03640415117621345\n",
      "Elapsed time without parallelisation is 0.02892303466796875\n",
      "Initialising synthetic feature space lattice\n",
      "Synthetic feature space initialised\n",
      "Initialising synthethic target space lattice\n",
      "Synthethic target space initialised\n",
      "Number of batches is 33\n",
      "Generating batch 0\n",
      "Partition function is 54232.2679642688\n",
      "Max scaled utility is -0.010087001356232146\n",
      "Generation time 0.026926517486572266\n",
      "Sampling time 0.01399087905883789\n",
      "Overall max utility -0.020174002712464292\n",
      "Elapsed time without parallelisation is 0.043909311294555664\n",
      "Initialising synthetic feature space lattice\n",
      "Synthetic feature space initialised\n",
      "Initialising synthethic target space lattice\n",
      "Synthethic target space initialised\n",
      "Number of batches is 39\n",
      "Generating batch 0\n",
      "Partition function is 65053.91295930435\n",
      "Max scaled utility is -0.01193329667373564\n",
      "Generation time 0.024937868118286133\n",
      "Sampling time 0.02393507957458496\n",
      "Overall max utility -0.02386659334747128\n",
      "Elapsed time without parallelisation is 0.0518338680267334\n",
      "Initialising synthetic feature space lattice\n",
      "Synthetic feature space initialised\n",
      "Initialising synthethic target space lattice\n",
      "Synthethic target space initialised\n",
      "Number of batches is 64\n",
      "Generating batch 0\n",
      "Partition function is 106275.07920224726\n",
      "Max scaled utility is -0.015364779134009979\n",
      "Generation time 0.04291796684265137\n",
      "Sampling time 0.015928030014038086\n",
      "Overall max utility -0.030729558268019957\n",
      "Elapsed time without parallelisation is 0.06186699867248535\n",
      "Initialising synthetic feature space lattice\n",
      "Synthetic feature space initialised\n",
      "Initialising synthethic target space lattice\n",
      "Synthethic target space initialised\n",
      "Number of batches is 77\n",
      "Generating batch 0\n",
      "Partition function is 129370.81388937407\n",
      "Max scaled utility is -0.011625462894693711\n",
      "Generation time 0.04787707328796387\n",
      "Sampling time 0.01592540740966797\n",
      "Overall max utility -0.023250925789387422\n",
      "Elapsed time without parallelisation is 0.06678962707519531\n",
      "Initialising synthetic feature space lattice\n",
      "Synthetic feature space initialised\n",
      "Initialising synthethic target space lattice\n",
      "Synthethic target space initialised\n",
      "Number of batches is 111\n",
      "Generating batch 0\n",
      "Partition function is 185726.5987656605\n",
      "Max scaled utility is -0.008686543426982364\n",
      "Generation time 0.0688481330871582\n",
      "Sampling time 0.016922712326049805\n",
      "Overall max utility -0.017373086853964728\n",
      "Elapsed time without parallelisation is 0.08876323699951172\n",
      "Initialising synthetic feature space lattice\n",
      "Synthetic feature space initialised\n",
      "Initialising synthethic target space lattice\n",
      "Synthethic target space initialised\n",
      "Number of batches is 148\n",
      "Generating batch 0\n",
      "Partition function is 248156.8037898415\n",
      "Max scaled utility is -0.012990911089159247\n",
      "Generation time 0.10076165199279785\n",
      "Sampling time 0.016954421997070312\n",
      "Overall max utility -0.025981822178318494\n",
      "Elapsed time without parallelisation is 0.12070846557617188\n",
      "Initialising synthetic feature space lattice\n",
      "Synthetic feature space initialised\n",
      "Initialising synthethic target space lattice\n",
      "Synthethic target space initialised\n",
      "Number of batches is 194\n",
      "Generating batch 0\n",
      "Partition function is 325001.7186737015\n",
      "Max scaled utility is -0.011024501356232175\n",
      "Generation time 0.1276557445526123\n",
      "Sampling time 0.020941734313964844\n",
      "Overall max utility -0.02204900271246435\n",
      "Elapsed time without parallelisation is 0.15158987045288086\n",
      "Initialising synthetic feature space lattice\n",
      "Synthetic feature space initialised\n",
      "Initialising synthethic target space lattice\n",
      "Synthethic target space initialised\n",
      "Number of batches is 233\n",
      "Generating batch 0\n",
      "Partition function is 392466.25122912944\n",
      "Max scaled utility is -0.0068344062005228565\n",
      "Generation time 0.16059541702270508\n",
      "Sampling time 0.020943641662597656\n",
      "Overall max utility -0.013668812401045713\n",
      "Elapsed time without parallelisation is 0.18350768089294434\n",
      "Initialising synthetic feature space lattice\n",
      "Synthetic feature space initialised\n",
      "Initialising synthethic target space lattice\n",
      "Synthethic target space initialised\n",
      "Number of batches is 319\n",
      "Generating batch 0\n",
      "Partition function is 535474.7732195925\n",
      "Max scaled utility is -0.010670670411109369\n",
      "Generation time 0.34108924865722656\n",
      "Sampling time 0.021941423416137695\n",
      "Overall max utility -0.021341340822218738\n",
      "Elapsed time without parallelisation is 0.4547841548919678\n",
      "Initialising synthetic feature space lattice\n",
      "Synthetic feature space initialised\n",
      "Initialising synthethic target space lattice\n",
      "Synthethic target space initialised\n",
      "Number of batches is 380\n",
      "Generating batch 0\n",
      "Partition function is 640120.318543348\n",
      "Max scaled utility is -0.010892134067638875\n",
      "Generation time 0.31614089012145996\n",
      "Sampling time 0.03792619705200195\n",
      "Overall max utility -0.02178426813527775\n",
      "Elapsed time without parallelisation is 0.35804033279418945\n"
     ]
    }
   ],
   "source": [
    "results = []\n",
    "epsilon = 0.1\n",
    "for num_points_features in num_points_features_vec:\n",
    "    results.append(experiment.second_order_moment_experiment(dimensionality = dimensionality, num_records = num_records, test_frac = test_frac, batch_size = batch_size,\\\n",
    "                                               directory = directory, parallel = parallel, save_data = save_data, partition_method = partition_method,\\\n",
    "                                               workers = workers, num_samples = num_samples, sample_parallel = sample_parallel, load_data = load_data,\\\n",
    "                                               num_points_targets = num_points_targets, num_points_features = num_points_features, epsilon = epsilon,\\\n",
    "                                               seed = seed))"
   ]
  },
  {
   "cell_type": "code",
   "execution_count": 4,
   "metadata": {
    "collapsed": true
   },
   "outputs": [],
   "source": [
    "# Save the results for latter access\n",
    "exp_name = 'exp_1_features_eps_01'\n",
    "with open (directory + exp_name, \"wb\") as container:\n",
    "    pickle.dump(results, container)"
   ]
  },
  {
   "cell_type": "code",
   "execution_count": 5,
   "metadata": {
    "collapsed": true
   },
   "outputs": [],
   "source": [
    "# Extract data from the results structure \n",
    "avg_2_norms, double_std_2_norms, avg_f_norms, double_std_f_norms, max_utilities, max_sampled_utilities, avg_samples_utility, double_std_utility, \\\n",
    "    avg_samples_score, double_std_score, synthetic_datasets_vec, test_set, private_data = extract_data(results) "
   ]
  },
  {
   "cell_type": "code",
   "execution_count": 6,
   "metadata": {},
   "outputs": [
    {
     "name": "stdout",
     "output_type": "stream",
     "text": [
      "Min predictive error adassp 0.04146445130318529\n",
      "Mean predictive error adassp 0.3177099951581301\n",
      "Twice the std of predictive err adassp 0.5273382251758172\n"
     ]
    }
   ],
   "source": [
    "# Fit ADASSP to the private dataset\n",
    "epsilon = 0.1\n",
    "adassp_regressor = DPRegression()\n",
    "adassp_reg_coef = adassp_regressor.get_parameters(private_data.features, private_data.targets, num_samples, epsilon)\n",
    "predictive_err_adassp = Regression().calculate_predictive_error(private_data.test_data, adassp_reg_coef)\n",
    "min_predictive_err_adassp = np.min(predictive_err_adassp)\n",
    "mean_predictive_err_adassp = np.mean(predictive_err_adassp)\n",
    "double_std_predictive_err_adassp = 2*np.std(predictive_err_adassp)\n",
    "print (\"Min predictive error adassp\", min_predictive_err_adassp)\n",
    "print (\"Mean predictive error adassp\", mean_predictive_err_adassp)\n",
    "print (\"Twice the std of predictive err adassp\", double_std_predictive_err_adassp)"
   ]
  },
  {
   "cell_type": "code",
   "execution_count": 7,
   "metadata": {},
   "outputs": [
    {
     "name": "stdout",
     "output_type": "stream",
     "text": [
      "Warning, there were singular sythethic matrices\n",
      "Warning, there were singular sythethic matrices\n",
      "Warning, there were singular sythethic matrices\n",
      "Warning, there were singular sythethic matrices\n",
      "Warning, there were singular sythethic matrices\n",
      "Warning, there were singular sythethic matrices\n",
      "Warning, there were singular sythethic matrices\n",
      "Warning, there were singular sythethic matrices\n",
      "Warning, there were singular sythethic matrices\n",
      "Warning, there were singular sythethic matrices\n",
      "Warning, there were singular sythethic matrices\n",
      "Warning, there were singular sythethic matrices\n",
      "Overall minimum predictive error for netmechanism (eps = 0.1) is 0.03562937639947024, obtained for n_t = 5.\n",
      "Minimum average predictive error for netmechanism (eps = 0.1) is 0.4207955076706867, obtained for n_t = 5.\n",
      "[0.4207955076706867, 0.6501317872920047, 0.4878262213700784, 0.6356238298597635, 0.9272891648771002, 0.666364844648204, 0.8864092997311608, 1.1577448403209223, 0.6448425174424557, 0.6752630082205355, 0.7132997473889323, 1.0424014340205365, 0.759102356447777, 2.0683936351806556, 1.354525424944081, 1.3525912073626947]\n"
     ]
    },
    {
     "name": "stderr",
     "output_type": "stream",
     "text": [
      "C:\\Users\\alexc\\OneDrive\\Documents\\GitHub\\Thesis\\baselines.py:121: FutureWarning: `rcond` parameter will change to the default of machine precision times ``max(M, N)`` where M and N are the input matrix dimensions.\n",
      "To use the future default and silence this warning we advise to pass `rcond=None`, to keep using the old, explicitly pass `rcond=-1`.\n",
      "  parameters[index] = np.linalg.lstsq(Sigma_tensor[index,:,:], correlations[index])[0]\n"
     ]
    }
   ],
   "source": [
    "# Regress on the private data for each parameter setting and calculate RMSE statistics\n",
    "net_mech_reg_coefs = []\n",
    "predictive_errs_netmech = []\n",
    "min_predictive_errs_netmech = []\n",
    "mean_predictive_errs_netmech = []\n",
    "double_std_predictive_errs_netmech = []\n",
    "for synthetic_datasets in synthetic_datasets_vec:\n",
    "    netmech_regressor = Regression()\n",
    "    net_mech_reg_coef = netmech_regressor.fit_data(synthetic_datasets)\n",
    "    net_mech_reg_coefs.append(net_mech_reg_coef)\n",
    "    predictive_err_netmech = netmech_regressor.calculate_predictive_error(private_data.test_data, net_mech_reg_coef)\n",
    "    predictive_errs_netmech.append(predictive_err_netmech)\n",
    "    min_predictive_errs_netmech.append(np.min(predictive_err_netmech))\n",
    "    mean_predictive_errs_netmech.append(np.mean(predictive_err_netmech))\n",
    "    double_std_predictive_errs_netmech.append(2*np.std(predictive_err_netmech))\n",
    "print(\"Overall minimum predictive error for netmechanism (eps = 0.1) is {}, obtained for n_t = {}.\"\\\n",
    "      .format(str(np.min(np.array(min_predictive_errs_netmech))),\\\n",
    "              str(list(range(5,21))[np.argmin(np.array(min_predictive_errs_netmech))])))\n",
    "print(\"Minimum average predictive error for netmechanism (eps = 0.1) is {}, obtained for n_t = {}.\"\\\n",
    "      .format(str(np.min(np.array(mean_predictive_errs_netmech))),\\\n",
    "              str(list(range(5,21))[np.argmin(np.array(mean_predictive_errs_netmech))])))\n",
    "print(mean_predictive_errs_netmech)"
   ]
  },
  {
   "cell_type": "code",
   "execution_count": null,
   "metadata": {
    "collapsed": true
   },
   "outputs": [],
   "source": [
    "# A look at regression coefficients\n",
    "# print(net_mech_reg_params)\n",
    "# print"
   ]
  },
  {
   "cell_type": "markdown",
   "metadata": {},
   "source": [
    "## $\\varepsilon = 1$ case"
   ]
  },
  {
   "cell_type": "code",
   "execution_count": 9,
   "metadata": {},
   "outputs": [
    {
     "name": "stdout",
     "output_type": "stream",
     "text": [
      "Initialising synthetic feature space lattice\n",
      "Synthetic feature space initialised\n",
      "Initialising synthethic target space lattice\n",
      "Synthethic target space initialised\n",
      "Number of batches is 1\n",
      "Generating batch 0\n",
      "Partition function is 293.5100365808609\n",
      "Max scaled utility is -0.20620200021951876\n",
      "Generation time 0.0029921531677246094\n",
      "Sampling time 0.00299072265625\n",
      "Overall max utility -0.04124040004390375\n",
      "Elapsed time without parallelisation is 0.008975028991699219\n",
      "Initialising synthetic feature space lattice\n",
      "Synthetic feature space initialised\n",
      "Initialising synthethic target space lattice\n",
      "Synthethic target space initialised\n",
      "Number of batches is 2\n",
      "Generating batch 0\n",
      "Partition function is 672.4687567175656\n",
      "Max scaled utility is -0.3008700135623214\n",
      "Generation time 0.0030274391174316406\n",
      "Sampling time 0.001991748809814453\n",
      "Overall max utility -0.06017400271246428\n",
      "Elapsed time without parallelisation is 0.00701451301574707\n",
      "Initialising synthetic feature space lattice\n",
      "Synthetic feature space initialised\n",
      "Initialising synthethic target space lattice\n",
      "Synthethic target space initialised\n",
      "Number of batches is 5\n",
      "Generating batch 0\n",
      "Partition function is 1686.2538280924991\n",
      "Max scaled utility is -0.2230922357845441\n",
      "Generation time 0.005013227462768555\n",
      "Sampling time 0.0039942264556884766\n",
      "Overall max utility -0.04461844715690882\n",
      "Elapsed time without parallelisation is 0.011996984481811523\n",
      "Initialising synthetic feature space lattice\n",
      "Synthetic feature space initialised\n",
      "Initialising synthethic target space lattice\n",
      "Synthethic target space initialised\n",
      "Number of batches is 5\n",
      "Generating batch 0\n",
      "Partition function is 2619.829827689846\n",
      "Max scaled utility is -0.1354395615792502\n",
      "Generation time 0.004997968673706055\n",
      "Sampling time 0.005001544952392578\n",
      "Overall max utility -0.02708791231585004\n",
      "Elapsed time without parallelisation is 0.012997150421142578\n",
      "Initialising synthetic feature space lattice\n",
      "Synthetic feature space initialised\n",
      "Initialising synthethic target space lattice\n",
      "Synthethic target space initialised\n",
      "Number of batches is 12\n",
      "Generating batch 0\n",
      "Partition function is 5167.966854314534\n",
      "Max scaled utility is -0.18837001356232175\n",
      "Generation time 0.009001970291137695\n",
      "Sampling time 0.008949041366577148\n",
      "Overall max utility -0.03767400271246435\n",
      "Elapsed time without parallelisation is 0.020943403244018555\n",
      "Initialising synthetic feature space lattice\n",
      "Synthetic feature space initialised\n",
      "Initialising synthethic target space lattice\n",
      "Synthethic target space initialised\n",
      "Number of batches is 18\n",
      "Generating batch 0\n",
      "Partition function is 8302.394992362142\n",
      "Max scaled utility is -0.18202075588106725\n",
      "Generation time 0.012965679168701172\n",
      "Sampling time 0.011967658996582031\n",
      "Overall max utility -0.03640415117621345\n",
      "Elapsed time without parallelisation is 0.02692699432373047\n",
      "Initialising synthetic feature space lattice\n",
      "Synthetic feature space initialised\n",
      "Initialising synthethic target space lattice\n",
      "Synthethic target space initialised\n",
      "Number of batches is 33\n",
      "Generating batch 0\n",
      "Partition function is 13642.760084204927\n",
      "Max scaled utility is -0.10087001356232146\n",
      "Generation time 0.02096271514892578\n",
      "Sampling time 0.01196432113647461\n",
      "Overall max utility -0.020174002712464292\n",
      "Elapsed time without parallelisation is 0.03592252731323242\n",
      "Initialising synthetic feature space lattice\n",
      "Synthetic feature space initialised\n",
      "Initialising synthethic target space lattice\n",
      "Synthethic target space initialised\n",
      "Number of batches is 39\n",
      "Generating batch 0\n",
      "Partition function is 18068.792972897638\n",
      "Max scaled utility is -0.1193329667373564\n",
      "Generation time 0.02490520477294922\n",
      "Sampling time 0.013989925384521484\n",
      "Overall max utility -0.02386659334747128\n",
      "Elapsed time without parallelisation is 0.04185962677001953\n",
      "Initialising synthetic feature space lattice\n",
      "Synthetic feature space initialised\n",
      "Initialising synthethic target space lattice\n",
      "Synthethic target space initialised\n",
      "Number of batches is 64\n",
      "Generating batch 0\n",
      "Partition function is 27394.940046226293\n",
      "Max scaled utility is -0.1536477913400998\n",
      "Generation time 0.042917490005493164\n",
      "Sampling time 0.018953561782836914\n",
      "Overall max utility -0.030729558268019957\n",
      "Elapsed time without parallelisation is 0.06482625007629395\n",
      "Initialising synthetic feature space lattice\n",
      "Synthetic feature space initialised\n",
      "Initialising synthethic target space lattice\n",
      "Synthethic target space initialised\n",
      "Number of batches is 77\n",
      "Generating batch 0\n",
      "Partition function is 35541.1663906515\n",
      "Max scaled utility is -0.11625462894693711\n",
      "Generation time 0.04987788200378418\n",
      "Sampling time 0.014951944351196289\n",
      "Overall max utility -0.023250925789387422\n",
      "Elapsed time without parallelisation is 0.06682538986206055\n",
      "Initialising synthetic feature space lattice\n",
      "Synthetic feature space initialised\n",
      "Initialising synthethic target space lattice\n",
      "Synthethic target space initialised\n",
      "Number of batches is 111\n",
      "Generating batch 0\n",
      "Partition function is 48983.26585658587\n",
      "Max scaled utility is -0.08686543426982364\n",
      "Generation time 0.0717926025390625\n",
      "Sampling time 0.01594066619873047\n",
      "Overall max utility -0.017373086853964728\n",
      "Elapsed time without parallelisation is 0.08976006507873535\n",
      "Initialising synthetic feature space lattice\n",
      "Synthetic feature space initialised\n",
      "Initialising synthethic target space lattice\n",
      "Synthethic target space initialised\n",
      "Number of batches is 148\n",
      "Generating batch 0\n",
      "Partition function is 65753.00684579596\n",
      "Max scaled utility is -0.12990911089159246\n",
      "Generation time 0.10275459289550781\n",
      "Sampling time 0.01994919776916504\n",
      "Overall max utility -0.025981822178318494\n",
      "Elapsed time without parallelisation is 0.12568879127502441\n",
      "Initialising synthetic feature space lattice\n",
      "Synthetic feature space initialised\n",
      "Initialising synthethic target space lattice\n",
      "Synthethic target space initialised\n",
      "Number of batches is 194\n",
      "Generating batch 0\n",
      "Partition function is 85151.47587084323\n",
      "Max scaled utility is -0.11024501356232175\n",
      "Generation time 0.13860511779785156\n",
      "Sampling time 0.029912233352661133\n",
      "Overall max utility -0.02204900271246435\n",
      "Elapsed time without parallelisation is 0.17250609397888184\n",
      "Initialising synthetic feature space lattice\n",
      "Synthetic feature space initialised\n",
      "Initialising synthethic target space lattice\n",
      "Synthethic target space initialised\n",
      "Number of batches is 233\n",
      "Generating batch 0\n",
      "Partition function is 105532.72346625381\n",
      "Max scaled utility is -0.06834406200522856\n",
      "Generation time 0.18151545524597168\n",
      "Sampling time 0.022971153259277344\n",
      "Overall max utility -0.013668812401045713\n",
      "Elapsed time without parallelisation is 0.20745468139648438\n",
      "Initialising synthetic feature space lattice\n",
      "Synthetic feature space initialised\n",
      "Initialising synthethic target space lattice\n",
      "Synthethic target space initialised\n",
      "Number of batches is 319\n",
      "Generating batch 0\n",
      "Partition function is 138273.1834535788\n",
      "Max scaled utility is -0.10670670411109369\n",
      "Generation time 0.3042166233062744\n",
      "Sampling time 0.023931264877319336\n",
      "Overall max utility -0.021341340822218738\n",
      "Elapsed time without parallelisation is 0.3321106433868408\n",
      "Initialising synthetic feature space lattice\n",
      "Synthetic feature space initialised\n",
      "Initialising synthethic target space lattice\n",
      "Synthethic target space initialised\n",
      "Number of batches is 380\n",
      "Generating batch 0\n",
      "Partition function is 169423.10433651108\n",
      "Max scaled utility is -0.10892134067638876\n",
      "Generation time 0.280224084854126\n",
      "Sampling time 0.023963451385498047\n",
      "Overall max utility -0.02178426813527775\n",
      "Elapsed time without parallelisation is 0.30718469619750977\n"
     ]
    }
   ],
   "source": [
    "results_eps_1 = []\n",
    "epsilon = 1\n",
    "for num_points_features in num_points_features_vec:\n",
    "    results_eps_1.append(experiment.second_order_moment_experiment(dimensionality = dimensionality, num_records = num_records, test_frac = test_frac, batch_size = batch_size,\\\n",
    "                                               directory = directory, parallel = parallel, save_data = save_data, partition_method = partition_method,\\\n",
    "                                               workers = workers, num_samples = num_samples, sample_parallel = sample_parallel, load_data = load_data,\\\n",
    "                                               num_points_targets = num_points_targets, num_points_features = num_points_features, epsilon = epsilon,\\\n",
    "                                               seed = seed))"
   ]
  },
  {
   "cell_type": "code",
   "execution_count": 10,
   "metadata": {
    "collapsed": true
   },
   "outputs": [],
   "source": [
    "# Save the results for latter access\n",
    "exp_name = 'exp_1_features_eps_1'\n",
    "with open (directory + exp_name, \"wb\") as container:\n",
    "    pickle.dump(results_eps_1, container)"
   ]
  },
  {
   "cell_type": "code",
   "execution_count": 8,
   "metadata": {
    "collapsed": true
   },
   "outputs": [],
   "source": [
    "# Extract data from the results structure \n",
    "avg_2_norms_eps_1, double_std_2_norms_eps_1, avg_f_norms_eps_1, double_std_f_norms_eps_1, max_utilities_eps_1, max_sampled_utilities_eps_1, avg_samples_utility_eps_1, double_std_utility_eps_1, \\\n",
    "    avg_samples_score_eps_1, double_std_score_eps_1, synthetic_datasets_vec_eps_1, test_set_eps_1, private_data_eps_1 = extract_data(results_eps_1) "
   ]
  },
  {
   "cell_type": "code",
   "execution_count": 9,
   "metadata": {},
   "outputs": [
    {
     "name": "stdout",
     "output_type": "stream",
     "text": [
      "Min predictive error adassp, eps=1 0.037812781581986823\n",
      "Mean predictive error adassp, eps=1 0.431556791730517\n",
      "Twice the std of predictive err adassp, eps=1 1.7151257776130495\n"
     ]
    }
   ],
   "source": [
    "# Fit ADASSP to the private dataset\n",
    "epsilon = 1\n",
    "adassp_regressor = DPRegression()\n",
    "adassp_reg_coef_1 = adassp_regressor.get_parameters(private_data_eps_1.features, private_data_eps_1.targets, num_samples, epsilon)\n",
    "predictive_err_adassp_eps_1 = Regression().calculate_predictive_error(private_data_eps_1.test_data, adassp_reg_coef_1)\n",
    "min_predictive_err_adassp_eps_1 = np.min(predictive_err_adassp_eps_1)\n",
    "mean_predictive_err_adassp_eps_1 = np.mean(predictive_err_adassp_eps_1)\n",
    "double_std_predictive_err_adassp_eps_1 = 2*np.std(predictive_err_adassp_eps_1)\n",
    "print (\"Min predictive error adassp, eps=1\", min_predictive_err_adassp_eps_1)\n",
    "print (\"Mean predictive error adassp, eps=1\", mean_predictive_err_adassp_eps_1)\n",
    "print (\"Twice the std of predictive err adassp, eps=1\", double_std_predictive_err_adassp_eps_1)"
   ]
  },
  {
   "cell_type": "code",
   "execution_count": 10,
   "metadata": {},
   "outputs": [
    {
     "name": "stdout",
     "output_type": "stream",
     "text": [
      "Warning, there were singular sythethic matrices\n",
      "Warning, there were singular sythethic matrices\n",
      "Warning, there were singular sythethic matrices\n",
      "Warning, there were singular sythethic matrices\n",
      "Warning, there were singular sythethic matrices\n",
      "Warning, there were singular sythethic matrices\n",
      "Warning, there were singular sythethic matrices\n",
      "Warning, there were singular sythethic matrices\n",
      "Warning, there were singular sythethic matrices\n",
      "Warning, there were singular sythethic matrices\n",
      "Warning, there were singular sythethic matrices\n",
      "Overall minimum predictive error for netmechanism (eps = 1) is 0.005481116347875668, obtained for n_t = 7.\n",
      "Minimum average predictive error for netmechanism (eps = 1) is 0.3851413216499136, obtained for n_t = 5.\n"
     ]
    },
    {
     "name": "stderr",
     "output_type": "stream",
     "text": [
      "C:\\Users\\alexc\\OneDrive\\Documents\\GitHub\\Thesis\\baselines.py:121: FutureWarning: `rcond` parameter will change to the default of machine precision times ``max(M, N)`` where M and N are the input matrix dimensions.\n",
      "To use the future default and silence this warning we advise to pass `rcond=None`, to keep using the old, explicitly pass `rcond=-1`.\n",
      "  parameters[index] = np.linalg.lstsq(Sigma_tensor[index,:,:], correlations[index])[0]\n"
     ]
    }
   ],
   "source": [
    "# Regress on the private data for each parameter setting and calculate RMSE statistics\n",
    "net_mech_reg_coefs_eps_1 = []\n",
    "predictive_errs_netmech_eps_1 = []\n",
    "min_predictive_errs_netmech_eps_1 = []\n",
    "mean_predictive_errs_netmech_eps_1 = []\n",
    "double_std_predictive_errs_netmech_eps_1 = []\n",
    "for synthetic_datasets in synthetic_datasets_vec_eps_1:\n",
    "    netmech_regressor = Regression()\n",
    "    net_mech_reg_coef_eps_1 = netmech_regressor.fit_data(synthetic_datasets)\n",
    "    net_mech_reg_coefs_eps_1.append(net_mech_reg_coef_eps_1)\n",
    "    predictive_err_netmech_eps_1 = netmech_regressor.calculate_predictive_error(private_data_eps_1.test_data, net_mech_reg_coef_eps_1)\n",
    "    predictive_errs_netmech_eps_1.append(predictive_err_netmech_eps_1)\n",
    "    min_predictive_errs_netmech_eps_1.append(np.min(predictive_err_netmech_eps_1))\n",
    "    mean_predictive_errs_netmech_eps_1.append(np.mean(predictive_err_netmech_eps_1))\n",
    "    double_std_predictive_errs_netmech_eps_1.append(2*np.std(predictive_err_netmech_eps_1))\n",
    "print(\"Overall minimum predictive error for netmechanism (eps = 1) is {}, obtained for n_t = {}.\"\\\n",
    "      .format(str(np.min(np.array(min_predictive_errs_netmech_eps_1))),\\\n",
    "              str(list(range(5,21))[np.argmin(np.array(min_predictive_errs_netmech_eps_1))])))\n",
    "print(\"Minimum average predictive error for netmechanism (eps = 1) is {}, obtained for n_t = {}.\"\\\n",
    "      .format(str(np.min(np.array(mean_predictive_errs_netmech_eps_1))),\\\n",
    "              str(list(range(5,21))[np.argmin(np.array(mean_predictive_errs_netmech_eps_1))])))"
   ]
  },
  {
   "cell_type": "markdown",
   "metadata": {},
   "source": [
    "## $\\varepsilon = 5$ case"
   ]
  },
  {
   "cell_type": "code",
   "execution_count": 14,
   "metadata": {},
   "outputs": [
    {
     "name": "stdout",
     "output_type": "stream",
     "text": [
      "Initialising synthetic feature space lattice\n",
      "Synthetic feature space initialised\n",
      "Initialising synthethic target space lattice\n",
      "Synthethic target space initialised\n",
      "Number of batches is 1\n",
      "Generating batch 0\n",
      "Partition function is 9.890828878411348\n",
      "Max scaled utility is -1.0310100010975938\n",
      "Generation time 0.001997709274291992\n",
      "Sampling time 0.0019922256469726562\n",
      "Overall max utility -0.04124040004390375\n",
      "Elapsed time without parallelisation is 0.006983518600463867\n",
      "Initialising synthetic feature space lattice\n",
      "Synthetic feature space initialised\n",
      "Initialising synthethic target space lattice\n",
      "Synthethic target space initialised\n",
      "Number of batches is 2\n",
      "Generating batch 0\n",
      "Partition function is 26.651587972928812\n",
      "Max scaled utility is -1.504350067811607\n",
      "Generation time 0.001964569091796875\n",
      "Sampling time 0.0019931793212890625\n",
      "Overall max utility -0.060174002712464286\n",
      "Elapsed time without parallelisation is 0.005951881408691406\n",
      "Initialising synthetic feature space lattice\n",
      "Synthetic feature space initialised\n",
      "Initialising synthethic target space lattice\n",
      "Synthethic target space initialised\n",
      "Number of batches is 5\n",
      "Generating batch 0\n",
      "Partition function is 52.07043220270238\n",
      "Max scaled utility is -1.1154611789227205\n",
      "Generation time 0.003989458084106445\n",
      "Sampling time 0.003989219665527344\n",
      "Overall max utility -0.04461844715690882\n",
      "Elapsed time without parallelisation is 0.010971784591674805\n",
      "Initialising synthetic feature space lattice\n",
      "Synthetic feature space initialised\n",
      "Initialising synthethic target space lattice\n",
      "Synthethic target space initialised\n",
      "Number of batches is 5\n",
      "Generating batch 0\n",
      "Partition function is 99.45967045686979\n",
      "Max scaled utility is -0.677197807896251\n",
      "Generation time 0.005010128021240234\n",
      "Sampling time 0.003996133804321289\n",
      "Overall max utility -0.02708791231585004\n",
      "Elapsed time without parallelisation is 0.011997461318969727\n",
      "Initialising synthetic feature space lattice\n",
      "Synthetic feature space initialised\n",
      "Initialising synthethic target space lattice\n",
      "Synthethic target space initialised\n",
      "Number of batches is 12\n",
      "Generating batch 0\n",
      "Partition function is 182.67162508068776\n",
      "Max scaled utility is -0.9418500678116087\n",
      "Generation time 0.008975744247436523\n",
      "Sampling time 0.005985736846923828\n",
      "Overall max utility -0.03767400271246435\n",
      "Elapsed time without parallelisation is 0.017968177795410156\n",
      "Initialising synthetic feature space lattice\n",
      "Synthetic feature space initialised\n",
      "Initialising synthethic target space lattice\n",
      "Synthethic target space initialised\n",
      "Number of batches is 18\n",
      "Generating batch 0\n",
      "Partition function is 291.92954097247366\n",
      "Max scaled utility is -0.9101037794053363\n",
      "Generation time 0.013963460922241211\n",
      "Sampling time 0.005983114242553711\n",
      "Overall max utility -0.03640415117621345\n",
      "Elapsed time without parallelisation is 0.023936033248901367\n",
      "Initialising synthetic feature space lattice\n",
      "Synthetic feature space initialised\n",
      "Initialising synthethic target space lattice\n",
      "Synthethic target space initialised\n",
      "Number of batches is 33\n",
      "Generating batch 0\n",
      "Partition function is 446.85746244172395\n",
      "Max scaled utility is -0.5043500678116073\n",
      "Generation time 0.02090764045715332\n",
      "Sampling time 0.008975982666015625\n",
      "Overall max utility -0.020174002712464292\n",
      "Elapsed time without parallelisation is 0.03191018104553223\n",
      "Initialising synthetic feature space lattice\n",
      "Synthetic feature space initialised\n",
      "Initialising synthethic target space lattice\n",
      "Synthethic target space initialised\n",
      "Number of batches is 39\n",
      "Generating batch 0\n",
      "Partition function is 661.037022455093\n",
      "Max scaled utility is -0.596664833686782\n",
      "Generation time 0.02490091323852539\n",
      "Sampling time 0.015957355499267578\n",
      "Overall max utility -0.02386659334747128\n",
      "Elapsed time without parallelisation is 0.04791688919067383\n",
      "Initialising synthetic feature space lattice\n",
      "Synthetic feature space initialised\n",
      "Initialising synthethic target space lattice\n",
      "Synthethic target space initialised\n",
      "Number of batches is 64\n",
      "Generating batch 0\n",
      "Partition function is 939.0119154902053\n",
      "Max scaled utility is -0.7682389567004989\n",
      "Generation time 0.04085588455200195\n",
      "Sampling time 0.01399683952331543\n",
      "Overall max utility -0.030729558268019957\n",
      "Elapsed time without parallelisation is 0.056841373443603516\n",
      "Initialising synthetic feature space lattice\n",
      "Synthetic feature space initialised\n",
      "Initialising synthethic target space lattice\n",
      "Synthethic target space initialised\n",
      "Number of batches is 77\n",
      "Generating batch 0\n",
      "Partition function is 1284.3671591855075\n",
      "Max scaled utility is -0.5812731447346855\n",
      "Generation time 0.054822444915771484\n",
      "Sampling time 0.013000249862670898\n",
      "Overall max utility -0.02325092578938742\n",
      "Elapsed time without parallelisation is 0.07081198692321777\n",
      "Initialising synthetic feature space lattice\n",
      "Synthetic feature space initialised\n",
      "Initialising synthethic target space lattice\n",
      "Synthethic target space initialised\n",
      "Number of batches is 111\n",
      "Generating batch 0\n",
      "Partition function is 1740.120586841902\n",
      "Max scaled utility is -0.4343271713491182\n",
      "Generation time 0.07077789306640625\n",
      "Sampling time 0.014989852905273438\n",
      "Overall max utility -0.017373086853964728\n",
      "Elapsed time without parallelisation is 0.08872747421264648\n",
      "Initialising synthetic feature space lattice\n",
      "Synthetic feature space initialised\n",
      "Initialising synthethic target space lattice\n",
      "Synthethic target space initialised\n",
      "Number of batches is 148\n",
      "Generating batch 0\n",
      "Partition function is 2293.3235705426496\n",
      "Max scaled utility is -0.6495455544579624\n",
      "Generation time 0.10170340538024902\n",
      "Sampling time 0.0169832706451416\n",
      "Overall max utility -0.025981822178318494\n",
      "Elapsed time without parallelisation is 0.12167906761169434\n",
      "Initialising synthetic feature space lattice\n",
      "Synthetic feature space initialised\n",
      "Initialising synthethic target space lattice\n",
      "Synthethic target space initialised\n",
      "Number of batches is 194\n",
      "Generating batch 0\n",
      "Partition function is 2964.3082943423233\n",
      "Max scaled utility is -0.5512250678116087\n",
      "Generation time 0.13463902473449707\n",
      "Sampling time 0.02593255043029785\n",
      "Overall max utility -0.02204900271246435\n",
      "Elapsed time without parallelisation is 0.16257715225219727\n",
      "Initialising synthetic feature space lattice\n",
      "Synthetic feature space initialised\n",
      "Initialising synthethic target space lattice\n",
      "Synthethic target space initialised\n",
      "Number of batches is 233\n",
      "Generating batch 0\n",
      "Partition function is 3781.0714714686537\n",
      "Max scaled utility is -0.34172031002614284\n",
      "Generation time 0.17253398895263672\n",
      "Sampling time 0.01894998550415039\n",
      "Overall max utility -0.013668812401045713\n",
      "Elapsed time without parallelisation is 0.19448113441467285\n",
      "Initialising synthetic feature space lattice\n",
      "Synthetic feature space initialised\n",
      "Initialising synthethic target space lattice\n",
      "Synthethic target space initialised\n",
      "Number of batches is 319\n",
      "Generating batch 0\n",
      "Partition function is 4774.849058273091\n",
      "Max scaled utility is -0.5335335205554684\n",
      "Generation time 0.2941865921020508\n",
      "Sampling time 0.028949499130249023\n",
      "Overall max utility -0.021341340822218738\n",
      "Elapsed time without parallelisation is 0.3251376152038574\n",
      "Initialising synthetic feature space lattice\n",
      "Synthetic feature space initialised\n",
      "Initialising synthethic target space lattice\n",
      "Synthethic target space initialised\n",
      "Number of batches is 380\n",
      "Generating batch 0\n",
      "Partition function is 5935.6622735560595\n",
      "Max scaled utility is -0.5446067033819437\n",
      "Generation time 0.2921876907348633\n",
      "Sampling time 0.029918193817138672\n",
      "Overall max utility -0.02178426813527775\n",
      "Elapsed time without parallelisation is 0.32509803771972656\n"
     ]
    }
   ],
   "source": [
    "results_eps_5 = []\n",
    "epsilon = 5\n",
    "for num_points_features in num_points_features_vec:\n",
    "    results_eps_5.append(experiment.second_order_moment_experiment(dimensionality = dimensionality, num_records = num_records, test_frac = test_frac, batch_size = batch_size,\\\n",
    "                                               directory = directory, parallel = parallel, save_data = save_data, partition_method = partition_method,\\\n",
    "                                               workers = workers, num_samples = num_samples, sample_parallel = sample_parallel, load_data = load_data,\\\n",
    "                                               num_points_targets = num_points_targets, num_points_features = num_points_features, epsilon = epsilon,\\\n",
    "                                               seed = seed))"
   ]
  },
  {
   "cell_type": "code",
   "execution_count": 15,
   "metadata": {
    "collapsed": true
   },
   "outputs": [],
   "source": [
    "# Save the results for latter access\n",
    "exp_name = 'exp_1_features_eps_5'\n",
    "with open (directory + exp_name, \"wb\") as container:\n",
    "    pickle.dump(results_eps_5, container)"
   ]
  },
  {
   "cell_type": "code",
   "execution_count": 11,
   "metadata": {
    "collapsed": true
   },
   "outputs": [],
   "source": [
    "# Extract data from the results structure \n",
    "avg_2_norms_eps_5, double_std_2_norms_eps_5, avg_f_norms_eps_5, double_std_f_norms_eps_5, max_utilities_eps_5, max_sampled_utilities_eps_5, avg_samples_utility_eps_5, double_std_utility_eps_5, \\\n",
    "    avg_samples_score_eps_5, double_std_score_eps_5, synthetic_datasets_vec_eps_5, test_set_eps_5, private_data_eps_5 = extract_data(results_eps_5)"
   ]
  },
  {
   "cell_type": "code",
   "execution_count": 12,
   "metadata": {},
   "outputs": [
    {
     "name": "stdout",
     "output_type": "stream",
     "text": [
      "Min predictive error adassp 0.02723301461081399\n",
      "Mean predictive error adassp 0.218371543626001\n",
      "Twice the std of predictive err adassp 0.17760520347229442\n"
     ]
    }
   ],
   "source": [
    "# Fit ADASSP to the private dataset\n",
    "epsilon = 5 \n",
    "adassp_regressor = DPRegression()\n",
    "adassp_reg_coef_5 = adassp_regressor.get_parameters(private_data_eps_5.features, private_data_eps_5.targets, num_samples, epsilon)\n",
    "predictive_err_adassp_eps_5 = Regression().calculate_predictive_error(private_data_eps_5.test_data, adassp_reg_coef_5)\n",
    "min_predictive_err_adassp_eps_5 = np.min(predictive_err_adassp_eps_5)\n",
    "mean_predictive_err_adassp_eps_5 = np.mean(predictive_err_adassp_eps_5)\n",
    "double_std_predictive_err_adassp_eps_5 = 2*np.std(predictive_err_adassp_eps_5)\n",
    "print (\"Min predictive error adassp\", min_predictive_err_adassp_eps_5)\n",
    "print (\"Mean predictive error adassp\", mean_predictive_err_adassp_eps_5)\n",
    "print (\"Twice the std of predictive err adassp\", double_std_predictive_err_adassp_eps_5)"
   ]
  },
  {
   "cell_type": "code",
   "execution_count": 13,
   "metadata": {},
   "outputs": [
    {
     "name": "stdout",
     "output_type": "stream",
     "text": [
      "Warning, there were singular sythethic matrices\n",
      "Warning, there were singular sythethic matrices\n",
      "Warning, there were singular sythethic matrices\n",
      "Warning, there were singular sythethic matrices\n",
      "Warning, there were singular sythethic matrices\n",
      "Warning, there were singular sythethic matrices\n",
      "Warning, there were singular sythethic matrices\n",
      "Warning, there were singular sythethic matrices\n",
      "Warning, there were singular sythethic matrices\n",
      "Warning, there were singular sythethic matrices\n",
      "Overall minimum predictive error for netmechanism (eps = 5) is 0.008733237475423329, obtained for n_t = 15.\n",
      "Minimum average predictive error for netmechanism (eps = 5) is 0.32005622290864155, obtained for n_t = 5.\n"
     ]
    },
    {
     "name": "stderr",
     "output_type": "stream",
     "text": [
      "C:\\Users\\alexc\\OneDrive\\Documents\\GitHub\\Thesis\\baselines.py:121: FutureWarning: `rcond` parameter will change to the default of machine precision times ``max(M, N)`` where M and N are the input matrix dimensions.\n",
      "To use the future default and silence this warning we advise to pass `rcond=None`, to keep using the old, explicitly pass `rcond=-1`.\n",
      "  parameters[index] = np.linalg.lstsq(Sigma_tensor[index,:,:], correlations[index])[0]\n"
     ]
    }
   ],
   "source": [
    "net_mech_reg_coefs_eps_5 = []\n",
    "predictive_errs_netmech_eps_5 = []\n",
    "min_predictive_errs_netmech_eps_5 = []\n",
    "mean_predictive_errs_netmech_eps_5 = []\n",
    "double_std_predictive_errs_netmech_eps_5 = []\n",
    "for synthetic_datasets in synthetic_datasets_vec_eps_5:\n",
    "    netmech_regressor = Regression()\n",
    "    net_mech_reg_coef_eps_5 = netmech_regressor.fit_data(synthetic_datasets)\n",
    "    net_mech_reg_coefs_eps_5.append(net_mech_reg_coef_eps_5)\n",
    "    predictive_err_netmech_eps_5 = netmech_regressor.calculate_predictive_error(private_data_eps_5.test_data, net_mech_reg_coef_eps_5)\n",
    "    predictive_errs_netmech_eps_5.append(predictive_err_netmech_eps_5)\n",
    "    min_predictive_errs_netmech_eps_5.append(np.min(predictive_err_netmech_eps_5))\n",
    "    mean_predictive_errs_netmech_eps_5.append(np.mean(predictive_err_netmech_eps_5))\n",
    "    double_std_predictive_errs_netmech_eps_5.append(2*np.std(predictive_err_netmech_eps_5))\n",
    "print(\"Overall minimum predictive error for netmechanism (eps = 5) is {}, obtained for n_t = {}.\"\\\n",
    "      .format(str(np.min(np.array(min_predictive_errs_netmech_eps_5))),\\\n",
    "              str(list(range(5,21))[np.argmin(np.array(min_predictive_errs_netmech_eps_5))])))\n",
    "print(\"Minimum average predictive error for netmechanism (eps = 5) is {}, obtained for n_t = {}.\"\\\n",
    "      .format(str(np.min(np.array(mean_predictive_errs_netmech_eps_5))),\\\n",
    "              str(list(range(5,21))[np.argmin(np.array(mean_predictive_errs_netmech_eps_5))])))"
   ]
  },
  {
   "cell_type": "markdown",
   "metadata": {},
   "source": [
    "## $\\varepsilon = 10$ case"
   ]
  },
  {
   "cell_type": "code",
   "execution_count": 19,
   "metadata": {},
   "outputs": [
    {
     "name": "stdout",
     "output_type": "stream",
     "text": [
      "Initialising synthetic feature space lattice\n",
      "Synthetic feature space initialised\n",
      "Initialising synthethic target space lattice\n",
      "Synthethic target space initialised\n",
      "Number of batches is 1\n",
      "Generating batch 0\n",
      "Partition function is 0.9469883269664153\n",
      "Max scaled utility is -2.0620200021951876\n",
      "Generation time 0.0029921531677246094\n",
      "Sampling time 0.0020232200622558594\n",
      "Overall max utility -0.04124040004390375\n",
      "Elapsed time without parallelisation is 0.007979154586791992\n",
      "Initialising synthetic feature space lattice\n",
      "Synthetic feature space initialised\n",
      "Initialising synthethic target space lattice\n",
      "Synthethic target space initialised\n",
      "Number of batches is 2\n",
      "Generating batch 0\n",
      "Partition function is 2.2888976213023673\n",
      "Max scaled utility is -3.008700135623214\n",
      "Generation time 0.0019953250885009766\n",
      "Sampling time 0.001995086669921875\n",
      "Overall max utility -0.060174002712464286\n",
      "Elapsed time without parallelisation is 0.00598454475402832\n",
      "Initialising synthetic feature space lattice\n",
      "Synthetic feature space initialised\n",
      "Initialising synthethic target space lattice\n",
      "Synthethic target space initialised\n",
      "Number of batches is 5\n",
      "Generating batch 0\n",
      "Partition function is 4.596254829855219\n",
      "Max scaled utility is -2.230922357845441\n",
      "Generation time 0.003989458084106445\n",
      "Sampling time 0.003988742828369141\n",
      "Overall max utility -0.04461844715690882\n",
      "Elapsed time without parallelisation is 0.009973287582397461\n",
      "Initialising synthetic feature space lattice\n",
      "Synthetic feature space initialised\n",
      "Initialising synthethic target space lattice\n",
      "Synthethic target space initialised\n",
      "Number of batches is 5\n",
      "Generating batch 0\n",
      "Partition function is 9.97760979280835\n",
      "Max scaled utility is -1.354395615792502\n",
      "Generation time 0.003989458084106445\n",
      "Sampling time 0.0039904117584228516\n",
      "Overall max utility -0.02708791231585004\n",
      "Elapsed time without parallelisation is 0.010971784591674805\n",
      "Initialising synthetic feature space lattice\n",
      "Synthetic feature space initialised\n",
      "Initialising synthethic target space lattice\n",
      "Synthethic target space initialised\n",
      "Number of batches is 12\n",
      "Generating batch 0\n",
      "Partition function is 19.862516917747318\n",
      "Max scaled utility is -1.8837001356232175\n",
      "Generation time 0.00997304916381836\n",
      "Sampling time 0.00498509407043457\n",
      "Overall max utility -0.03767400271246435\n",
      "Elapsed time without parallelisation is 0.017981767654418945\n",
      "Initialising synthetic feature space lattice\n",
      "Synthetic feature space initialised\n",
      "Initialising synthethic target space lattice\n",
      "Synthethic target space initialised\n",
      "Number of batches is 18\n",
      "Generating batch 0\n",
      "Partition function is 29.488097339252732\n",
      "Max scaled utility is -1.8202075588106725\n",
      "Generation time 0.012958288192749023\n",
      "Sampling time 0.005975961685180664\n",
      "Overall max utility -0.03640415117621345\n",
      "Elapsed time without parallelisation is 0.02191162109375\n",
      "Initialising synthetic feature space lattice\n",
      "Synthetic feature space initialised\n",
      "Initialising synthethic target space lattice\n",
      "Synthethic target space initialised\n",
      "Number of batches is 33\n",
      "Generating batch 0\n",
      "Partition function is 43.77859371474911\n",
      "Max scaled utility is -1.0087001356232146\n",
      "Generation time 0.020943403244018555\n",
      "Sampling time 0.0059850215911865234\n",
      "Overall max utility -0.020174002712464292\n",
      "Elapsed time without parallelisation is 0.030917644500732422\n",
      "Initialising synthetic feature space lattice\n",
      "Synthetic feature space initialised\n",
      "Initialising synthethic target space lattice\n",
      "Synthethic target space initialised\n",
      "Number of batches is 39\n",
      "Generating batch 0\n",
      "Partition function is 69.4780547546284\n",
      "Max scaled utility is -1.193329667373564\n",
      "Generation time 0.025929927825927734\n",
      "Sampling time 0.00797891616821289\n",
      "Overall max utility -0.02386659334747128\n",
      "Elapsed time without parallelisation is 0.036900997161865234\n",
      "Initialising synthetic feature space lattice\n",
      "Synthetic feature space initialised\n",
      "Initialising synthethic target space lattice\n",
      "Synthethic target space initialised\n",
      "Number of batches is 64\n",
      "Generating batch 0\n",
      "Partition function is 95.22347178957781\n",
      "Max scaled utility is -1.5364779134009978\n",
      "Generation time 0.0528566837310791\n",
      "Sampling time 0.014960765838623047\n",
      "Overall max utility -0.030729558268019957\n",
      "Elapsed time without parallelisation is 0.07081103324890137\n",
      "Initialising synthetic feature space lattice\n",
      "Synthetic feature space initialised\n",
      "Initialising synthethic target space lattice\n",
      "Synthethic target space initialised\n",
      "Number of batches is 77\n",
      "Generating batch 0\n",
      "Partition function is 130.86302939460066\n",
      "Max scaled utility is -1.162546289469371\n",
      "Generation time 0.0559077262878418\n",
      "Sampling time 0.01196742057800293\n",
      "Overall max utility -0.02325092578938742\n",
      "Elapsed time without parallelisation is 0.0698709487915039\n",
      "Initialising synthetic feature space lattice\n",
      "Synthetic feature space initialised\n",
      "Initialising synthethic target space lattice\n",
      "Synthethic target space initialised\n",
      "Number of batches is 111\n",
      "Generating batch 0\n",
      "Partition function is 177.4693270271696\n",
      "Max scaled utility is -0.8686543426982364\n",
      "Generation time 0.07579755783081055\n",
      "Sampling time 0.013962507247924805\n",
      "Overall max utility -0.017373086853964728\n",
      "Elapsed time without parallelisation is 0.09275221824645996\n",
      "Initialising synthetic feature space lattice\n",
      "Synthetic feature space initialised\n",
      "Initialising synthethic target space lattice\n",
      "Synthethic target space initialised\n",
      "Number of batches is 148\n",
      "Generating batch 0\n",
      "Partition function is 234.61695115856205\n",
      "Max scaled utility is -1.2990911089159247\n",
      "Generation time 0.10171723365783691\n",
      "Sampling time 0.016954421997070312\n",
      "Overall max utility -0.025981822178318494\n",
      "Elapsed time without parallelisation is 0.12166309356689453\n",
      "Initialising synthetic feature space lattice\n",
      "Synthetic feature space initialised\n",
      "Initialising synthethic target space lattice\n",
      "Synthethic target space initialised\n",
      "Number of batches is 194\n",
      "Generating batch 0\n",
      "Partition function is 300.0811875437866\n",
      "Max scaled utility is -1.1024501356232175\n",
      "Generation time 0.12865567207336426\n",
      "Sampling time 0.01695418357849121\n",
      "Overall max utility -0.02204900271246435\n",
      "Elapsed time without parallelisation is 0.14860296249389648\n",
      "Initialising synthetic feature space lattice\n",
      "Synthetic feature space initialised\n",
      "Initialising synthethic target space lattice\n",
      "Synthethic target space initialised\n",
      "Number of batches is 233\n",
      "Generating batch 0\n",
      "Partition function is 384.1197689348829\n",
      "Max scaled utility is -0.6834406200522857\n",
      "Generation time 0.15658259391784668\n",
      "Sampling time 0.023932695388793945\n",
      "Overall max utility -0.013668812401045713\n",
      "Elapsed time without parallelisation is 0.18350768089294434\n",
      "Initialising synthetic feature space lattice\n",
      "Synthetic feature space initialised\n",
      "Initialising synthethic target space lattice\n",
      "Synthethic target space initialised\n",
      "Number of batches is 319\n",
      "Generating batch 0\n",
      "Partition function is 485.743698557464\n",
      "Max scaled utility is -1.0670670411109369\n",
      "Generation time 0.3480682373046875\n",
      "Sampling time 0.024934768676757812\n",
      "Overall max utility -0.021341340822218738\n",
      "Elapsed time without parallelisation is 0.3749985694885254\n",
      "Initialising synthetic feature space lattice\n",
      "Synthetic feature space initialised\n",
      "Initialising synthethic target space lattice\n",
      "Synthethic target space initialised\n",
      "Number of batches is 380\n",
      "Generating batch 0\n",
      "Partition function is 604.2955070228871\n",
      "Max scaled utility is -1.0892134067638874\n",
      "Generation time 0.3011939525604248\n",
      "Sampling time 0.0249330997467041\n",
      "Overall max utility -0.02178426813527775\n",
      "Elapsed time without parallelisation is 0.328122615814209\n"
     ]
    }
   ],
   "source": [
    "results_eps_10 = []\n",
    "epsilon = 10\n",
    "for num_points_features in num_points_features_vec:\n",
    "    results_eps_10.append(experiment.second_order_moment_experiment(dimensionality = dimensionality, num_records = num_records, test_frac = test_frac, batch_size = batch_size,\\\n",
    "                                               directory = directory, parallel = parallel, save_data = save_data, partition_method = partition_method,\\\n",
    "                                               workers = workers, num_samples = num_samples, sample_parallel = sample_parallel, load_data = load_data,\\\n",
    "                                               num_points_targets = num_points_targets, num_points_features = num_points_features, epsilon = epsilon,\\\n",
    "                                               seed = seed))"
   ]
  },
  {
   "cell_type": "code",
   "execution_count": 20,
   "metadata": {
    "collapsed": true
   },
   "outputs": [],
   "source": [
    "# Save the results for latter access\n",
    "exp_name = 'exp_1_features_eps_10'\n",
    "with open (directory + exp_name, \"wb\") as container:\n",
    "    pickle.dump(results_eps_10, container)"
   ]
  },
  {
   "cell_type": "code",
   "execution_count": 14,
   "metadata": {
    "collapsed": true
   },
   "outputs": [],
   "source": [
    "# Extract data from the results structure \n",
    "avg_2_norms_eps_10, double_std_2_norms_eps_10, avg_f_norms_eps_10, double_std_f_norms_eps_10, max_utilities_eps_10,max_sampled_utilities_eps_10, avg_samples_utility_eps_10, double_std_utility_eps_10, \\\n",
    "    avg_samples_score_eps_10, double_std_score_eps_10, synthetic_datasets_vec_eps_10, test_set_eps_10, private_data_eps_10 = extract_data(results_eps_10)  "
   ]
  },
  {
   "cell_type": "code",
   "execution_count": 15,
   "metadata": {},
   "outputs": [
    {
     "name": "stdout",
     "output_type": "stream",
     "text": [
      "Min predictive error adassp 0.020252205033086633\n",
      "Mean predictive error adassp 0.18301459498295325\n",
      "Twice the std of predictive err adassp 0.15505836426454134\n"
     ]
    }
   ],
   "source": [
    "# Fit ADASSP to the private dataset\n",
    "epsilon = 10\n",
    "adassp_regressor = DPRegression()\n",
    "adassp_reg_coef_10 = adassp_regressor.get_parameters(private_data_eps_10.features, private_data_eps_10.targets, num_samples, epsilon)\n",
    "predictive_err_adassp_eps_10 = Regression().calculate_predictive_error(private_data_eps_10.test_data, adassp_reg_coef_10)\n",
    "min_predictive_err_adassp_eps_10 = np.min(predictive_err_adassp_eps_10)\n",
    "mean_predictive_err_adassp_eps_10 = np.mean(predictive_err_adassp_eps_10)\n",
    "double_std_predictive_err_adassp_eps_10 = 2*np.std(predictive_err_adassp_eps_10)\n",
    "print (\"Min predictive error adassp\", min_predictive_err_adassp_eps_10)\n",
    "print (\"Mean predictive error adassp\", mean_predictive_err_adassp_eps_10)\n",
    "print (\"Twice the std of predictive err adassp\", double_std_predictive_err_adassp_eps_10)"
   ]
  },
  {
   "cell_type": "code",
   "execution_count": 16,
   "metadata": {},
   "outputs": [
    {
     "name": "stdout",
     "output_type": "stream",
     "text": [
      "Warning, there were singular sythethic matrices\n",
      "Warning, there were singular sythethic matrices\n",
      "Warning, there were singular sythethic matrices\n",
      "Warning, there were singular sythethic matrices\n",
      "Warning, there were singular sythethic matrices\n",
      "Warning, there were singular sythethic matrices\n",
      "Warning, there were singular sythethic matrices\n",
      "Warning, there were singular sythethic matrices\n",
      "Warning, there were singular sythethic matrices\n",
      "Warning, there were singular sythethic matrices\n",
      "Warning, there were singular sythethic matrices\n",
      "Warning, there were singular sythethic matrices\n",
      "Overall minimum predictive error for netmechanism (eps = 10) is 0.008733237475423344, obtained for n_t = 15.\n",
      "Minimum average predictive error for netmechanism (eps = 10) is 0.14718054276489176, obtained for n_t = 5.\n"
     ]
    },
    {
     "name": "stderr",
     "output_type": "stream",
     "text": [
      "C:\\Users\\alexc\\OneDrive\\Documents\\GitHub\\Thesis\\baselines.py:121: FutureWarning: `rcond` parameter will change to the default of machine precision times ``max(M, N)`` where M and N are the input matrix dimensions.\n",
      "To use the future default and silence this warning we advise to pass `rcond=None`, to keep using the old, explicitly pass `rcond=-1`.\n",
      "  parameters[index] = np.linalg.lstsq(Sigma_tensor[index,:,:], correlations[index])[0]\n"
     ]
    }
   ],
   "source": [
    "net_mech_reg_coefs_eps_10 = []\n",
    "predictive_errs_netmech_eps_10 = []\n",
    "min_predictive_errs_netmech_eps_10 = []\n",
    "mean_predictive_errs_netmech_eps_10 = []\n",
    "double_std_predictive_errs_netmech_eps_10 = []\n",
    "for synthetic_datasets in synthetic_datasets_vec_eps_10:\n",
    "    netmech_regressor = Regression()\n",
    "    net_mech_reg_coef_eps_10 = netmech_regressor.fit_data(synthetic_datasets)\n",
    "    net_mech_reg_coefs_eps_10.append(net_mech_reg_coef_eps_5)\n",
    "    predictive_err_netmech_eps_10 = netmech_regressor.calculate_predictive_error(private_data_eps_10.test_data, net_mech_reg_coef_eps_10)\n",
    "    predictive_errs_netmech_eps_10.append(predictive_err_netmech_eps_10)\n",
    "    min_predictive_errs_netmech_eps_10.append(np.min(predictive_err_netmech_eps_10))\n",
    "    mean_predictive_errs_netmech_eps_10.append(np.mean(predictive_err_netmech_eps_10))\n",
    "    double_std_predictive_errs_netmech_eps_10.append(2*np.std(predictive_err_netmech_eps_10))\n",
    "print(\"Overall minimum predictive error for netmechanism (eps = 10) is {}, obtained for n_t = {}.\"\\\n",
    "      .format(str(np.min(np.array(min_predictive_errs_netmech_eps_10))),\\\n",
    "              str(list(range(5,21))[np.argmin(np.array(min_predictive_errs_netmech_eps_10))])))\n",
    "print(\"Minimum average predictive error for netmechanism (eps = 10) is {}, obtained for n_t = {}.\"\\\n",
    "      .format(str(np.min(np.array(mean_predictive_errs_netmech_eps_10))),\\\n",
    "              str(list(range(5,21))[np.argmin(np.array(mean_predictive_errs_netmech_eps_10))])))"
   ]
  },
  {
   "cell_type": "markdown",
   "metadata": {},
   "source": [
    "## Plots"
   ]
  },
  {
   "cell_type": "code",
   "execution_count": 17,
   "metadata": {
    "collapsed": true
   },
   "outputs": [],
   "source": [
    "xcoordinate = list(num_points_features_vec)"
   ]
  },
  {
   "cell_type": "markdown",
   "metadata": {},
   "source": [
    "#### Average samples utility"
   ]
  },
  {
   "cell_type": "code",
   "execution_count": 18,
   "metadata": {},
   "outputs": [
    {
     "data": {
      "image/png": "[encoded data removed]",
      "text/plain": [
       "<Figure size 432x288 with 1 Axes>"
      ]
     },
     "metadata": {},
     "output_type": "display_data"
    },
    {
     "data": {
      "image/png": "[encoded data removed]",
      "text/plain": [
       "<Figure size 432x288 with 1 Axes>"
      ]
     },
     "metadata": {},
     "output_type": "display_data"
    },
    {
     "data": {
      "image/png": "[encoded data removed]",
      "text/plain": [
       "<Figure size 432x288 with 1 Axes>"
      ]
     },
     "metadata": {},
     "output_type": "display_data"
    },
    {
     "data": {
      "image/png": "[encoded data removed]",
      "text/plain": [
       "<Figure size 432x288 with 1 Axes>"
      ]
     },
     "metadata": {},
     "output_type": "display_data"
    }
   ],
   "source": [
    "plt.errorbar(xcoordinate, avg_samples_utility, yerr = double_std_utility, fmt = 'g^', label = 'Mean samples utility')\n",
    "plt.plot(xcoordinate, max_utilities, 'r*', label = 'Optimal utility')\n",
    "plt.plot(xcoordinate, max_sampled_utilities, 'ko', label = 'Max samples utility')\n",
    "plt.xticks(xcoordinate)\n",
    "plt.yticks(np.arange(-0.8, 0.02, step = 0.05))\n",
    "plt.xlabel('Feature lattice denisity (points)', fontsize = 16)\n",
    "plt.ylabel(r'$\\mu_u$ ($\\varepsilon = 0.1$)', fontsize = 16)\n",
    "plt.legend(fontsize = 13)\n",
    "plt.grid(True)\n",
    "plt.show()\n",
    "\n",
    "plt.errorbar(xcoordinate, avg_samples_utility_eps_1, yerr = double_std_utility_eps_1, fmt = 'g^', label = 'Mean samples utility')\n",
    "plt.plot(xcoordinate, max_utilities, 'r*', label = 'Optimal utility')\n",
    "plt.plot(xcoordinate, max_sampled_utilities_eps_1, 'ko', label = 'Max samples utility')\n",
    "plt.xticks(range(5,21))\n",
    "plt.yticks(np.arange(-0.65, 0.02, step = 0.05))\n",
    "plt.xlabel('Feature lattice denisity (points)', fontsize = 16)\n",
    "plt.ylabel(r'$\\mu_u$ ($\\varepsilon = 1$)', fontsize = 16)\n",
    "plt.grid(True)\n",
    "plt.legend(fontsize = 13)\n",
    "plt.show()\n",
    "\n",
    "plt.errorbar(xcoordinate, avg_samples_utility_eps_5, yerr = double_std_utility_eps_5, fmt = 'g^', label = 'Mean samples utility')\n",
    "plt.plot(xcoordinate, max_utilities, 'r*', label = 'Optimal utility')\n",
    "plt.plot(xcoordinate, max_sampled_utilities_eps_5, 'ko', label = 'Max samples utility')\n",
    "plt.xticks(range(5,21))\n",
    "plt.yticks(np.arange(-0.35, 0.02, step = 0.05))\n",
    "plt.xlabel('Feature lattice denisity (points)', fontsize = 16)\n",
    "plt.ylabel(r'$\\mu_u$ ($\\varepsilon = 5$)', fontsize = 16)\n",
    "plt.grid(True)\n",
    "plt.legend(fontsize = 13)\n",
    "plt.show()\n",
    "\n",
    "plt.errorbar(xcoordinate, avg_samples_utility_eps_10, yerr = double_std_utility_eps_10, fmt = 'g^', label = 'Mean samples utility')\n",
    "plt.plot(xcoordinate, max_utilities, 'r*', label = 'Optimal utility')\n",
    "plt.plot(xcoordinate, max_sampled_utilities_eps_10, 'ko', label = 'Max samples utility')\n",
    "plt.xticks(range(5,21))\n",
    "plt.yticks(np.arange(-0.2, 0.02, step = 0.05))\n",
    "plt.xlabel('Feature lattice denisity (points)', fontsize = 16)\n",
    "plt.ylabel(r'$\\mu_u$ ($\\varepsilon = 10$)', fontsize = 16)\n",
    "plt.grid(True)\n",
    "plt.legend(fontsize = 13)\n",
    "plt.show()"
   ]
  },
  {
   "cell_type": "markdown",
   "metadata": {},
   "source": [
    "#### RMSE plots"
   ]
  },
  {
   "cell_type": "markdown",
   "metadata": {},
   "source": [
    "The variance/mean of ADASSP blows up when $\\varepsilon$ is around $1$. For example, when setting $\\varepsilon = 0.8$, the standard deviation of the ADASSP solution is $23.60$ while the mean is $5.07$ while the minimum RMSE error is $0.03$. This is caused by one sample, for which the RMSE is $120.707$. For that example, the regression coefficients are $-392.68$ and $330.50$. The same sample causes the large standard deviation for the $\\varepsilon = 1$ case (plotted). "
   ]
  },
  {
   "cell_type": "code",
   "execution_count": 19,
   "metadata": {},
   "outputs": [
    {
     "data": {
      "image/png": "[encoded data removed]",
      "text/plain": [
       "<Figure size 432x288 with 1 Axes>"
      ]
     },
     "metadata": {},
     "output_type": "display_data"
    },
    {
     "data": {
      "image/png": "[encoded data removed]",
      "text/plain": [
       "<Figure size 432x288 with 1 Axes>"
      ]
     },
     "metadata": {},
     "output_type": "display_data"
    },
    {
     "data": {
      "image/png": "[encoded data removed]",
      "text/plain": [
       "<Figure size 432x288 with 1 Axes>"
      ]
     },
     "metadata": {},
     "output_type": "display_data"
    },
    {
     "data": {
      "image/png": "[encoded data removed]",
      "text/plain": [
       "<Figure size 432x288 with 1 Axes>"
      ]
     },
     "metadata": {},
     "output_type": "display_data"
    }
   ],
   "source": [
    "eb = plt.errorbar(xcoordinate, mean_predictive_errs_netmech, yerr = double_std_predictive_errs_netmech, fmt = 'bv', label = 'Net mechanism mean RMSE')\n",
    "eb[-1][0].set_linestyle('--')\n",
    "plt.xticks(xcoordinate)\n",
    "# plt.axhline(y = mean_predictive_err_adassp, color = 'r', linestyle='--', label = 'ADASSP mean RMSE')\n",
    "eb1 = plt.errorbar(xcoordinate, [mean_predictive_err_adassp]*len(xcoordinate), yerr = [double_std_predictive_err_adassp]*len(xcoordinate), fmt = 'k^', label = 'ADASSP mean RMSE')\n",
    "eb1[-1][0].set_linestyle('--')\n",
    "#plt.yticks(np.arange(0, 0.8, step = 0.05))\n",
    "plt.ylim([0, 5])\n",
    "plt.xlabel('Feature lattice density (points)', fontsize = 16)\n",
    "plt.ylabel(r'RMSE ($\\varepsilon = 0.1$)', fontsize = 16)\n",
    "plt.grid(True)\n",
    "plt.legend(fontsize=13)\n",
    "plt.show()\n",
    "\n",
    "eb =plt.errorbar(xcoordinate, mean_predictive_errs_netmech_eps_1, yerr = double_std_predictive_errs_netmech, fmt = 'bv', label = 'Net mechanism mean RMSE')\n",
    "eb[-1][0].set_linestyle('--')\n",
    "plt.xticks(xcoordinate)\n",
    "#plt.axhline(y = mean_predictive_err_adassp_eps_1, color = 'r', linestyle='--', label = 'ADASSP mean RMSE')\n",
    "eb = plt.errorbar(xcoordinate, [mean_predictive_err_adassp_eps_1]*len(xcoordinate), yerr = [double_std_predictive_err_adassp_eps_1]*len(xcoordinate), fmt = 'k^', label = 'ADASSP mean RMSE')\n",
    "eb[-1][0].set_linestyle('--')\n",
    "#plt.yticks(np.arange(0, 0.8, step = 0.05))\n",
    "plt.ylim([0, 5])\n",
    "plt.xlabel('Feature lattice density (points)', fontsize = 16)\n",
    "plt.ylabel(r'RMSE ($\\varepsilon = 1$)', fontsize = 16)\n",
    "plt.grid(True)\n",
    "plt.legend(fontsize = 13)\n",
    "plt.show()\n",
    "\n",
    "eb = plt.errorbar(xcoordinate, mean_predictive_errs_netmech_eps_5, yerr = double_std_predictive_errs_netmech, fmt = 'bv', label = 'Net mechanism mean RMSE')\n",
    "eb[-1][0].set_linestyle('--')\n",
    "plt.xticks(xcoordinate)\n",
    "#plt.axhline(y = mean_predictive_err_adassp_eps_5, color = 'r', linestyle='--', label = 'ADASSP mean RMSE')\n",
    "eb = plt.errorbar(xcoordinate, [mean_predictive_err_adassp_eps_5]*len(xcoordinate), yerr = [double_std_predictive_err_adassp_eps_5]*len(xcoordinate), fmt = 'k^', label = 'ADASSP mean RMSE')\n",
    "eb[-1][0].set_linestyle('--')\n",
    "#plt.yticks(np.arange(0, 0.8, step = 0.05))\n",
    "plt.ylim([0, 5])\n",
    "plt.xlabel('Feature lattice density (points)', fontsize = 16)\n",
    "plt.ylabel(r'RMSE ($\\varepsilon = 5$)', fontsize = 16)\n",
    "plt.grid(True)\n",
    "plt.legend(fontsize=13)\n",
    "plt.show()\n",
    "\n",
    "eb = plt.errorbar(xcoordinate, mean_predictive_errs_netmech_eps_10, yerr = double_std_predictive_errs_netmech, fmt = 'bv', label = 'Net mechanism mean RMSE')\n",
    "eb[-1][0].set_linestyle('--')\n",
    "plt.xticks(xcoordinate)\n",
    "#plt.axhline(y = mean_predictive_err_adassp_eps_10, color = 'r', linestyle='--', label = 'ADASSP mean RMSE')\n",
    "eb = plt.errorbar(xcoordinate, [mean_predictive_err_adassp_eps_10]*len(xcoordinate), yerr = [double_std_predictive_err_adassp_eps_10]*len(xcoordinate), fmt = 'k^', label = 'ADASSP mean RMSE')\n",
    "#plt.yticks(np.arange(0, 0.8, step = 0.05))\n",
    "plt.ylim([0, 5])\n",
    "plt.xlabel('Feature lattice density (points)', fontsize = 16)\n",
    "plt.ylabel(r'RMSE ($\\varepsilon = 10$)', fontsize = 16)\n",
    "plt.grid(True)\n",
    "plt.legend(fontsize=13)\n",
    "plt.show()"
   ]
  },
  {
   "cell_type": "markdown",
   "metadata": {},
   "source": [
    "## Plots"
   ]
  },
  {
   "cell_type": "markdown",
   "metadata": {},
   "source": [
    "#### Correlations difference norm (!!!)"
   ]
  },
  {
   "cell_type": "code",
   "execution_count": 20,
   "metadata": {},
   "outputs": [
    {
     "data": {
      "image/png": "[encoded data removed]",
      "text/plain": [
       "<Figure size 432x288 with 1 Axes>"
      ]
     },
     "metadata": {},
     "output_type": "display_data"
    },
    {
     "data": {
      "image/png": "[encoded data removed]",
      "text/plain": [
       "<Figure size 432x288 with 1 Axes>"
      ]
     },
     "metadata": {},
     "output_type": "display_data"
    },
    {
     "data": {
      "image/png": "[encoded data removed]",
      "text/plain": [
       "<Figure size 432x288 with 1 Axes>"
      ]
     },
     "metadata": {},
     "output_type": "display_data"
    },
    {
     "data": {
      "image/png": "[encoded data removed]",
      "text/plain": [
       "<Figure size 432x288 with 1 Axes>"
      ]
     },
     "metadata": {},
     "output_type": "display_data"
    }
   ],
   "source": [
    "plt.errorbar(xcoordinate, avg_2_norms, yerr = double_std_2_norms, fmt = 'g^')\n",
    "plt.xticks(xcoordinate)\n",
    "plt.yticks(np.arange(0, 0.8, step = 0.05))\n",
    "plt.xlabel('Feature lattice density (points)', fontsize = 16)\n",
    "plt.ylabel(r'$\\|X^Ty - \\hat{X}^T\\hat{y}\\|_2$ ($\\varepsilon = 0.1$)', fontsize = 16)\n",
    "plt.grid(True)\n",
    "plt.show()\n",
    "\n",
    "plt.errorbar(xcoordinate, avg_2_norms_eps_1, yerr = double_std_2_norms_eps_1, fmt = 'g^')\n",
    "plt.xticks(xcoordinate)\n",
    "plt.yticks(np.arange(0, 0.6, step = 0.05))\n",
    "plt.xlabel('Feature lattice density (points)', fontsize = 16)\n",
    "plt.ylabel(r'$\\|X^Ty - \\hat{X}^T\\hat{y}\\|_2$ ($\\varepsilon = 1$)', fontsize = 16)\n",
    "plt.grid(True)\n",
    "plt.show()\n",
    "\n",
    "plt.errorbar(xcoordinate, avg_2_norms_eps_5, yerr = double_std_2_norms_eps_5, fmt = 'g^')\n",
    "plt.xticks(xcoordinate)\n",
    "plt.yticks(np.arange(0, 0.3, step = 0.05))\n",
    "plt.xlabel('Feature lattice density (points)', fontsize = 16)\n",
    "plt.ylabel(r'$\\|X^Ty - \\hat{X}^T\\hat{y}\\|_2$ ($\\varepsilon = 5$)', fontsize = 16)\n",
    "plt.grid(True)\n",
    "plt.show()\n",
    "\n",
    "plt.errorbar(xcoordinate, avg_2_norms_eps_10, yerr = double_std_2_norms_eps_10, fmt = 'g^')\n",
    "plt.xticks(xcoordinate)\n",
    "plt.yticks(np.arange(0, 0.2, step = 0.05))\n",
    "plt.xlabel('Feature lattice density (points)', fontsize = 16)\n",
    "plt.ylabel(r'$\\|X^Ty - \\hat{X}^T\\hat{y}\\|_2$ ($\\varepsilon = 10$)', fontsize = 16)\n",
    "plt.grid(True)\n",
    "plt.show()"
   ]
  },
  {
   "cell_type": "markdown",
   "metadata": {},
   "source": [
    "#### Frobenius norm"
   ]
  },
  {
   "cell_type": "code",
   "execution_count": 21,
   "metadata": {},
   "outputs": [
    {
     "data": {
      "image/png": "[encoded data removed]",
      "text/plain": [
       "<Figure size 432x288 with 1 Axes>"
      ]
     },
     "metadata": {},
     "output_type": "display_data"
    },
    {
     "data": {
      "image/png": "[encoded data removed]",
      "text/plain": [
       "<Figure size 432x288 with 1 Axes>"
      ]
     },
     "metadata": {},
     "output_type": "display_data"
    },
    {
     "data": {
      "image/png": "[encoded data removed]",
      "text/plain": [
       "<Figure size 432x288 with 1 Axes>"
      ]
     },
     "metadata": {},
     "output_type": "display_data"
    },
    {
     "data": {
      "image/png": "[encoded data removed]",
      "text/plain": [
       "<Figure size 432x288 with 1 Axes>"
      ]
     },
     "metadata": {},
     "output_type": "display_data"
    }
   ],
   "source": [
    "plt.errorbar(xcoordinate, avg_f_norms, yerr = double_std_f_norms, fmt = 'g^')\n",
    "plt.xticks(xcoordinate)\n",
    "plt.yticks(np.arange(0, 0.8, step = 0.1))\n",
    "plt.xlabel('Feature lattice density (points)', fontsize = 16)\n",
    "plt.ylabel(r'$\\|X^TX - \\hat{X}^T \\hat{X} \\|_F$ ($\\varepsilon = 0.1$)', fontsize = 16)\n",
    "plt.grid(True)\n",
    "plt.show()\n",
    "\n",
    "plt.errorbar(xcoordinate, avg_f_norms_eps_1, yerr = double_std_f_norms_eps_1, fmt = 'g^')\n",
    "plt.xticks(xcoordinate)\n",
    "plt.yticks(np.arange(0, 0.8, step = 0.1))\n",
    "plt.xlabel('Feature lattice density (points)', fontsize = 16)\n",
    "plt.ylabel(r'$\\|X^TX - \\hat{X}^T \\hat{X} \\|_F$ ($\\varepsilon = 1$)', fontsize = 16)\n",
    "plt.grid(True)\n",
    "plt.show()\n",
    "\n",
    "plt.errorbar(xcoordinate, avg_f_norms_eps_5, yerr = double_std_f_norms_eps_5, fmt = 'g^')\n",
    "plt.xticks(xcoordinate)\n",
    "plt.yticks(np.arange(0, 0.4, step = 0.1))\n",
    "plt.xlabel('Feature lattice density (points)', fontsize = 16)\n",
    "plt.ylabel(r'$\\|X^TX - \\hat{X}^T \\hat{X} \\|_F$ ($\\varepsilon = 5$)', fontsize = 16)\n",
    "plt.grid(True)\n",
    "plt.show()\n",
    "\n",
    "plt.errorbar(xcoordinate, avg_f_norms_eps_10, yerr = double_std_f_norms_eps_10, fmt = 'g^')\n",
    "plt.xticks(xcoordinate)\n",
    "plt.yticks(np.arange(0, 0.3, step = 0.1))\n",
    "plt.xlabel('Feature lattice density (points)', fontsize = 16)\n",
    "plt.ylabel(r'$\\|X^TX - \\hat{X}^T \\hat{X} \\|_F$ ($\\varepsilon = 10$)', fontsize = 16)\n",
    "plt.grid(True)\n",
    "plt.show()"
   ]
  },
  {
   "cell_type": "markdown",
   "metadata": {},
   "source": [
    "#### Optimal utility"
   ]
  },
  {
   "cell_type": "code",
   "execution_count": 22,
   "metadata": {},
   "outputs": [
    {
     "data": {
      "image/png": "[encoded data removed]",
      "text/plain": [
       "<Figure size 432x288 with 1 Axes>"
      ]
     },
     "metadata": {},
     "output_type": "display_data"
    }
   ],
   "source": [
    "plt.plot(xcoordinate, max_utilities, 'r*', label = 'Optimal utility')\n",
    "plt.xticks(xcoordinate)\n",
    "plt.yticks(np.arange(-0.07, 0.0, step = 0.005))\n",
    "plt.xlabel('Feature lattice density (points)', fontsize = 16)\n",
    "plt.ylabel('max $u$', fontsize = 16)\n",
    "plt.ylim([-0.08,0])\n",
    "plt.grid(True)\n",
    "# plt.legend(fontsize = 13)\n",
    "plt.show()"
   ]
  },
  {
   "cell_type": "code",
   "execution_count": null,
   "metadata": {
    "collapsed": true
   },
   "outputs": [],
   "source": []
  }
 ],
 "metadata": {
  "kernelspec": {
   "display_name": "Python 3",
   "language": "python",
   "name": "python3"
  },
  "language_info": {
   "codemirror_mode": {
    "name": "ipython",
    "version": 3
   },
   "file_extension": ".py",
   "mimetype": "text/x-python",
   "name": "python",
   "nbconvert_exporter": "python",
   "pygments_lexer": "ipython3",
   "version": "3.6.1"
  }
 },
 "nbformat": 4,
 "nbformat_minor": 2
}
