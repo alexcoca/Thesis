{
 "cells": [
  {
   "cell_type": "markdown",
   "metadata": {},
   "source": [
    "# Minimum predictive error experiment"
   ]
  },
  {
   "cell_type": "code",
   "execution_count": 36,
   "metadata": {
    "collapsed": true
   },
   "outputs": [],
   "source": [
    "import math\n",
    "import matplotlib\n",
    "import matplotlib.pyplot as plt\n",
    "import testutilities\n",
    "import time\n",
    "import second_moment_experiments_main as experiment\n",
    "import numpy as np\n",
    "from scipy.special import comb\n",
    "from baselines import Regression\n",
    "from data_generators import ContinuousGenerator\n",
    "from itertools import chain\n",
    "from netmechanism import FeaturesLattice, TargetsLattice\n",
    "\n",
    "plt.rc('text', usetex = True)\n",
    "plt.rc('font', family = 'serif')\n",
    "matplotlib.rc('xtick', labelsize=14) \n",
    "matplotlib.rc('ytick', labelsize=14) "
   ]
  },
  {
   "cell_type": "markdown",
   "metadata": {},
   "source": [
    "$\\textbf{Setup:}$ Plot minimum and maximum of the predictive error of a range of outcomes as a function of the lattice density. Sample $250$ samples with the netmechanism for each lattice density and plot the minimum predictive error of the samples against the min/max predictive error corresponding to the datasets with optimal utility"
   ]
  },
  {
   "cell_type": "markdown",
   "metadata": {},
   "source": [
    "## Experiment set-up"
   ]
  },
  {
   "cell_type": "code",
   "execution_count": 37,
   "metadata": {
    "collapsed": true
   },
   "outputs": [],
   "source": [
    "# General parameters\n",
    "batch_size = 3000\n",
    "n_private = 40 # 20 for test, 20 to train since test_frac is set to 0.5\n",
    "test_frac = 0.5\n",
    "dim = 2 "
   ]
  },
  {
   "cell_type": "code",
   "execution_count": 38,
   "metadata": {},
   "outputs": [
    {
     "name": "stdout",
     "output_type": "stream",
     "text": [
      "Coefficients of the model from which the private data was generated are [[0.03459577]\n",
      " [0.89392521]]\n"
     ]
    }
   ],
   "source": [
    "# Generate the private data\n",
    "private_data = ContinuousGenerator(d = dim, n = n_private)\n",
    "private_data.generate_data(test_frac = test_frac)\n",
    "print (\"Coefficients of the model from which the private data was generated are\", private_data.coefs)\n",
    "# Calculate its 'contribution' to the utility\n",
    "F_tilde_x = testutilities.get_private_F_tilde(private_data)"
   ]
  },
  {
   "cell_type": "code",
   "execution_count": 39,
   "metadata": {
    "collapsed": true
   },
   "outputs": [],
   "source": [
    "# Experiment specific\n",
    "# Mesh quality parameters\n",
    "num_points_min = 3\n",
    "num_points_max = 20\n",
    "epsilon = 5.0"
   ]
  },
  {
   "cell_type": "code",
   "execution_count": 40,
   "metadata": {
    "collapsed": true
   },
   "outputs": [],
   "source": [
    "# Derived parameters\n",
    "# Calculate the constant that multiplies the utility to get the score\n",
    "scaled_epsilon = epsilon/2 \n",
    "# Inverse global sensitivity\n",
    "igs = private_data.features.shape[0]/2 \n",
    "# Utility scaling constant \n",
    "scaling_const = igs*scaled_epsilon"
   ]
  },
  {
   "cell_type": "code",
   "execution_count": 41,
   "metadata": {
    "collapsed": true
   },
   "outputs": [],
   "source": [
    "# Set other parameters necessary for the code to work\n",
    "experiment_name = 'test_struct_integrity'\n",
    "directory = 'C:/Users/alexc/OneDrive/Documents/GitHub/Thesis/Experiments/' + experiment_name + '/OutcomeSpace'\n",
    "base_filename_s = \"s_eps\" + str(epsilon).replace(\".\", \"\") + \"d\" + str(dim)"
   ]
  },
  {
   "cell_type": "code",
   "execution_count": 42,
   "metadata": {
    "collapsed": true
   },
   "outputs": [],
   "source": [
    "# Additional parameters for sampling algorithm\n",
    "parallel = False\n",
    "save_data = False\n",
    "partition_method = 'fast_2'\n",
    "workers = -1\n",
    "num_samples = 250\n",
    "sample_parallel = False \n",
    "load_data = False\n",
    "seed = 23"
   ]
  },
  {
   "cell_type": "markdown",
   "metadata": {},
   "source": [
    "## Obtain the minimum and maximum of the predictive error for the optimal outcomes for each lattice density "
   ]
  },
  {
   "cell_type": "code",
   "execution_count": 43,
   "metadata": {},
   "outputs": [
    {
     "name": "stdout",
     "output_type": "stream",
     "text": [
      "Number of batches is 1\n",
      "Warning, there were singular sythethic matrices\n",
      "Number of batches is 1\n",
      "Number of batches is 1\n",
      "Number of batches is 1\n",
      "Warning, there were singular sythethic matrices\n",
      "Number of batches is 1\n",
      "Number of batches is 1\n",
      "Number of batches is 1\n",
      "Number of batches is 1\n",
      "Number of batches is 2\n"
     ]
    },
    {
     "name": "stderr",
     "output_type": "stream",
     "text": [
      "C:\\Users\\alexc\\OneDrive\\Documents\\GitHub\\Thesis\\baselines.py:121: FutureWarning: `rcond` parameter will change to the default of machine precision times ``max(M, N)`` where M and N are the input matrix dimensions.\n",
      "To use the future default and silence this warning we advise to pass `rcond=None`, to keep using the old, explicitly pass `rcond=-1`.\n",
      "  parameters[index] = np.linalg.lstsq(Sigma_tensor[index,:,:], correlations[index])[0]\n"
     ]
    },
    {
     "name": "stdout",
     "output_type": "stream",
     "text": [
      "Number of batches is 2\n",
      "Number of batches is 3\n",
      "Number of batches is 3\n",
      "Number of batches is 4\n",
      "Number of batches is 5\n",
      "Number of batches is 7\n",
      "Number of batches is 8\n",
      "Number of batches is 11\n",
      "Number of batches is 13\n"
     ]
    }
   ],
   "source": [
    "# Generate the synthetic features and targets\n",
    "opt_pred_err_netmech_min = []\n",
    "opt_pred_err_netmech_max = []\n",
    "for num_points_feat, num_points_targ in zip(range(num_points_min, num_points_max + 1), range(num_points_min, num_points_max + 1)):\n",
    "    results = []\n",
    "    OutputLattice = FeaturesLattice()\n",
    "    OutputLattice2 = TargetsLattice()\n",
    "    OutputLattice.generate_l2_lattice(dim = dim, num_points = num_points_feat)\n",
    "    OutputLattice2.generate_lattice(dim = dim, num_points = num_points_targ)\n",
    "    targets = OutputLattice2.points\n",
    "    features = OutputLattice.points\n",
    "    n_batches = math.ceil(comb(features.shape[0], dim, exact = False)/batch_size)\n",
    "    print (\"Number of batches is\", n_batches)\n",
    "    for batch_index in range(n_batches):\n",
    "        results.append(testutilities.evaluate_sample_score(batch_index, features, targets, scaling_const, F_tilde_x, dim, \\\n",
    "                                                           batch_size, base_filename_s, directory))\n",
    "    optimal_synthetic_datasets = np.array(testutilities.get_optimal_datasets(results, features, targets, batch_size, dim))\n",
    "    optimal_netmech_regressor = Regression()\n",
    "    optimal_param = optimal_netmech_regressor.fit_data(optimal_synthetic_datasets)\n",
    "    optimal_predictive_err_netmech = optimal_netmech_regressor.calculate_predictive_error(private_data.test_data, optimal_param)\n",
    "    opt_pred_err_netmech_min.append(np.min(optimal_predictive_err_netmech))\n",
    "    opt_pred_err_netmech_max.append(np.max(optimal_predictive_err_netmech))"
   ]
  },
  {
   "cell_type": "markdown",
   "metadata": {},
   "source": [
    "## Sample $250$ samples with the netmechanism for each lattice density and record the minimum predictive error"
   ]
  },
  {
   "cell_type": "code",
   "execution_count": 44,
   "metadata": {},
   "outputs": [
    {
     "name": "stdout",
     "output_type": "stream",
     "text": [
      "Initialising synthetic feature space lattice\n",
      "Synthetic feature space initialised\n",
      "Initialising synthethic target space lattice\n",
      "Synthethic target space initialised\n",
      "Number of batches is 1\n",
      "Generating batch 0\n",
      "Partition function is 0.0006460257298256458\n",
      "Max scaled utility is -9.99564993218839\n",
      "Generation time 0.001994609832763672\n",
      "Sampling time 0.009974002838134766\n",
      "Overall max utility -0.39982599728753565\n",
      "Elapsed time without parallelisation is 0.017951011657714844\n",
      "Initialising synthetic feature space lattice\n",
      "Synthetic feature space initialised\n",
      "Initialising synthethic target space lattice\n",
      "Synthethic target space initialised\n",
      "Number of batches is 1\n",
      "Generating batch 0\n",
      "Partition function is 2.0678306293591144\n",
      "Max scaled utility is -0.6837877788753703\n",
      "Generation time 0.001994609832763672\n",
      "Sampling time 0.007979869842529297\n",
      "Overall max utility -0.027351511155014815\n",
      "Elapsed time without parallelisation is 0.01495981216430664\n",
      "Initialising synthetic feature space lattice\n",
      "Synthetic feature space initialised\n",
      "Initialising synthethic target space lattice\n",
      "Synthethic target space initialised\n",
      "Number of batches is 1\n",
      "Generating batch 0\n",
      "Partition function is 9.890828878411348\n",
      "Max scaled utility is -1.0310100010975938\n",
      "Generation time 0.002992391586303711\n",
      "Sampling time 0.0059850215911865234\n",
      "Overall max utility -0.04124040004390375\n",
      "Elapsed time without parallelisation is 0.012964248657226562\n",
      "Initialising synthetic feature space lattice\n",
      "Synthetic feature space initialised\n",
      "Initialising synthethic target space lattice\n",
      "Synthethic target space initialised\n",
      "Number of batches is 1\n",
      "Generating batch 0\n",
      "Partition function is 42.83970022093707\n",
      "Max scaled utility is -1.504350067811607\n",
      "Generation time 0.0029785633087158203\n",
      "Sampling time 0.002140045166015625\n",
      "Overall max utility -0.060174002712464286\n",
      "Elapsed time without parallelisation is 0.005118608474731445\n",
      "Initialising synthetic feature space lattice\n",
      "Synthetic feature space initialised\n",
      "Initialising synthethic target space lattice\n",
      "Synthethic target space initialised\n",
      "Number of batches is 1\n",
      "Generating batch 0\n",
      "Partition function is 126.05480280539786\n",
      "Max scaled utility is -0.6837877788753703\n",
      "Generation time 0.015622138977050781\n",
      "Sampling time 0.0\n",
      "Overall max utility -0.027351511155014815\n",
      "Elapsed time without parallelisation is 0.03124403953552246\n",
      "Initialising synthetic feature space lattice\n",
      "Synthetic feature space initialised\n",
      "Initialising synthethic target space lattice\n",
      "Synthethic target space initialised\n",
      "Number of batches is 1\n",
      "Generating batch 0\n",
      "Partition function is 317.94562191365407\n",
      "Max scaled utility is -0.4570304092608571\n",
      "Generation time 0.01562047004699707\n",
      "Sampling time 0.015621662139892578\n",
      "Overall max utility -0.018281216370434283\n",
      "Elapsed time without parallelisation is 0.03124213218688965\n",
      "Initialising synthetic feature space lattice\n",
      "Synthetic feature space initialised\n",
      "Initialising synthethic target space lattice\n",
      "Synthethic target space initialised\n",
      "Number of batches is 1\n",
      "Generating batch 0\n",
      "Partition function is 772.3122298633501\n",
      "Max scaled utility is -0.9418500678116087\n",
      "Generation time 0.018772125244140625\n",
      "Sampling time 0.04942035675048828\n",
      "Overall max utility -0.03767400271246435\n",
      "Elapsed time without parallelisation is 0.07460165023803711\n",
      "Initialising synthetic feature space lattice\n",
      "Synthetic feature space initialised\n",
      "Initialising synthethic target space lattice\n",
      "Synthethic target space initialised\n",
      "Number of batches is 1\n",
      "Generating batch 0\n",
      "Partition function is 1560.2916578503757\n",
      "Max scaled utility is -0.6837877788753703\n",
      "Generation time 0.06582403182983398\n",
      "Sampling time 0.0715799331665039\n",
      "Overall max utility -0.027351511155014815\n",
      "Elapsed time without parallelisation is 0.1433877944946289\n",
      "Initialising synthetic feature space lattice\n",
      "Synthetic feature space initialised\n",
      "Initialising synthethic target space lattice\n",
      "Synthethic target space initialised\n",
      "Number of batches is 2\n",
      "Generating batch 0\n",
      "Partition function is 2950.610895308806\n",
      "Max scaled utility is -0.406010001097596\n",
      "Generation time 0.11331987380981445\n",
      "Sampling time 0.12770748138427734\n",
      "Overall max utility -0.01624040004390384\n",
      "Elapsed time without parallelisation is 0.2410273551940918\n",
      "Initialising synthetic feature space lattice\n",
      "Synthetic feature space initialised\n",
      "Initialising synthethic target space lattice\n",
      "Synthethic target space initialised\n",
      "Number of batches is 2\n",
      "Generating batch 0\n",
      "Partition function is 5223.643997978124\n",
      "Max scaled utility is -0.5919604143207344\n",
      "Generation time 0.1873331069946289\n",
      "Sampling time 0.19273924827575684\n",
      "Overall max utility -0.02367841657282938\n",
      "Elapsed time without parallelisation is 0.38007235527038574\n",
      "Initialising synthetic feature space lattice\n",
      "Synthetic feature space initialised\n",
      "Initialising synthethic target space lattice\n",
      "Synthethic target space initialised\n",
      "Number of batches is 3\n",
      "Generating batch 0\n",
      "Partition function is 8908.076431378082\n",
      "Max scaled utility is -0.5342340127610347\n",
      "Generation time 0.33517003059387207\n",
      "Sampling time 0.34841442108154297\n",
      "Overall max utility -0.021369360510441388\n",
      "Elapsed time without parallelisation is 0.683584451675415\n",
      "Initialising synthetic feature space lattice\n",
      "Synthetic feature space initialised\n",
      "Initialising synthethic target space lattice\n",
      "Synthethic target space initialised\n",
      "Number of batches is 3\n",
      "Generating batch 0\n",
      "Partition function is 14440.149036740433\n",
      "Max scaled utility is -0.4208029005058778\n",
      "Generation time 0.5343327522277832\n",
      "Sampling time 0.5569396018981934\n",
      "Overall max utility -0.016832116020235113\n",
      "Elapsed time without parallelisation is 1.1068944931030273\n",
      "Initialising synthetic feature space lattice\n",
      "Synthetic feature space initialised\n",
      "Initialising synthethic target space lattice\n",
      "Synthethic target space initialised\n",
      "Number of batches is 4\n",
      "Generating batch 0\n",
      "Partition function is 22627.909870600513\n",
      "Max scaled utility is -0.21565933496089143\n",
      "Generation time 0.9995031356811523\n",
      "Sampling time 0.8097043037414551\n",
      "Overall max utility -0.008626373398435657\n",
      "Elapsed time without parallelisation is 1.8248279094696045\n",
      "Initialising synthetic feature space lattice\n",
      "Synthetic feature space initialised\n",
      "Initialising synthethic target space lattice\n",
      "Synthethic target space initialised\n",
      "Number of batches is 5\n",
      "Generating batch 0\n",
      "Partition function is 34340.862824935204\n",
      "Max scaled utility is -0.39534512387214543\n",
      "Generation time 1.1601471900939941\n",
      "Sampling time 1.1368434429168701\n",
      "Overall max utility -0.015813804954885817\n",
      "Elapsed time without parallelisation is 2.3167169094085693\n",
      "Initialising synthetic feature space lattice\n",
      "Synthetic feature space initialised\n",
      "Initialising synthethic target space lattice\n",
      "Synthethic target space initialised\n",
      "Number of batches is 7\n",
      "Generating batch 0\n",
      "Partition function is 50560.67884270967\n",
      "Max scaled utility is -0.42572706831659013\n",
      "Generation time 1.6667544841766357\n",
      "Sampling time 1.712348461151123\n",
      "Overall max utility -0.017029082732663604\n",
      "Elapsed time without parallelisation is 3.386084794998169\n",
      "Initialising synthetic feature space lattice\n",
      "Synthetic feature space initialised\n",
      "Initialising synthethic target space lattice\n",
      "Synthethic target space initialised\n",
      "Number of batches is 8\n",
      "Generating batch 0\n",
      "Partition function is 72888.21584246159\n",
      "Max scaled utility is -0.34172031002614073\n",
      "Generation time 2.278470993041992\n",
      "Sampling time 2.329948902130127\n",
      "Overall max utility -0.01366881240104563\n",
      "Elapsed time without parallelisation is 4.614377737045288\n",
      "Initialising synthetic feature space lattice\n",
      "Synthetic feature space initialised\n",
      "Initialising synthethic target space lattice\n",
      "Synthethic target space initialised\n",
      "Number of batches is 11\n",
      "Generating batch 0\n",
      "Partition function is 103082.71257470424\n",
      "Max scaled utility is -0.3027525312795532\n",
      "Generation time 3.8922321796417236\n",
      "Sampling time 3.0112128257751465\n",
      "Overall max utility -0.012110101251182129\n",
      "Elapsed time without parallelisation is 6.904442548751831\n",
      "Initialising synthetic feature space lattice\n",
      "Synthetic feature space initialised\n",
      "Initialising synthethic target space lattice\n",
      "Synthethic target space initialised\n",
      "Number of batches is 13\n",
      "Generating batch 0\n",
      "Partition function is 142852.02452536375\n",
      "Max scaled utility is -0.32455411125287736\n",
      "Generation time 4.797663450241089\n",
      "Sampling time 3.9792754650115967\n",
      "Overall max utility -0.012982164450115095\n",
      "Elapsed time without parallelisation is 8.776938915252686\n"
     ]
    }
   ],
   "source": [
    "# Run the experiment\n",
    "results = []\n",
    "for num_points_features, num_points_targets in zip(range(num_points_min, num_points_max + 1), range(num_points_min, num_points_max + 1)):\n",
    "    results.append(experiment.second_order_moment_experiment(dimensionality = dim, num_records = n_private, test_frac = test_frac,\\\n",
    "                                                             batch_size = batch_size,directory = directory, parallel = parallel, \\\n",
    "                                                             save_data = save_data,partition_method = partition_method, \\\n",
    "                                                             workers = workers, num_samples = num_samples,sample_parallel = sample_parallel, \\\n",
    "                                                             load_data = load_data, num_points_targets = num_points_targets,\\\n",
    "                                                             num_points_features = num_points_features, epsilon = epsilon, seed = seed))"
   ]
  },
  {
   "cell_type": "code",
   "execution_count": 45,
   "metadata": {
    "collapsed": true
   },
   "outputs": [],
   "source": [
    "# Extract synthetic data from the results\n",
    "synthetic_datasets_vec = []\n",
    "for result in results:\n",
    "    synthetic_datasets_vec.append(result['synthetic_data'])"
   ]
  },
  {
   "cell_type": "code",
   "execution_count": 46,
   "metadata": {},
   "outputs": [
    {
     "name": "stdout",
     "output_type": "stream",
     "text": [
      "Warning, there were singular sythethic matrices\n",
      "Warning, there were singular sythethic matrices\n",
      "Warning, there were singular sythethic matrices\n",
      "Warning, there were singular sythethic matrices\n",
      "Warning, there were singular sythethic matrices\n",
      "Warning, there were singular sythethic matrices\n",
      "Warning, there were singular sythethic matrices\n",
      "Warning, there were singular sythethic matrices\n",
      "Warning, there were singular sythethic matrices\n",
      "Warning, there were singular sythethic matrices\n",
      "Warning, there were singular sythethic matrices\n",
      "Warning, there were singular sythethic matrices\n",
      "Warning, there were singular sythethic matrices\n",
      "Warning, there were singular sythethic matrices\n",
      "Warning, there were singular sythethic matrices\n",
      "Warning, there were singular sythethic matrices\n",
      "Warning, there were singular sythethic matrices\n",
      "Warning, there were singular sythethic matrices\n"
     ]
    },
    {
     "name": "stderr",
     "output_type": "stream",
     "text": [
      "C:\\Users\\alexc\\OneDrive\\Documents\\GitHub\\Thesis\\baselines.py:121: FutureWarning: `rcond` parameter will change to the default of machine precision times ``max(M, N)`` where M and N are the input matrix dimensions.\n",
      "To use the future default and silence this warning we advise to pass `rcond=None`, to keep using the old, explicitly pass `rcond=-1`.\n",
      "  parameters[index] = np.linalg.lstsq(Sigma_tensor[index,:,:], correlations[index])[0]\n"
     ]
    }
   ],
   "source": [
    "# Regress on the private data for each parameter setting and calculate RMSE statistics\n",
    "net_mech_reg_coefs = []\n",
    "predictive_errs_netmech = []\n",
    "min_predictive_errs_netmech = []\n",
    "mean_predictive_errs_netmech = []\n",
    "double_std_predictive_errs_netmech = []\n",
    "for synthetic_datasets in synthetic_datasets_vec:\n",
    "    netmech_regressor = Regression()\n",
    "    net_mech_reg_coef = netmech_regressor.fit_data(synthetic_datasets)\n",
    "    net_mech_reg_coefs.append(net_mech_reg_coef)\n",
    "    predictive_err_netmech = netmech_regressor.calculate_predictive_error(private_data.test_data, net_mech_reg_coef)\n",
    "    predictive_errs_netmech.append(predictive_err_netmech)\n",
    "    min_predictive_errs_netmech.append(np.min(predictive_err_netmech))\n",
    "    mean_predictive_errs_netmech.append(np.mean(predictive_err_netmech))\n",
    "    double_std_predictive_errs_netmech.append(2*np.std(predictive_err_netmech))"
   ]
  },
  {
   "cell_type": "markdown",
   "metadata": {},
   "source": [
    "## Plots"
   ]
  },
  {
   "cell_type": "code",
   "execution_count": 47,
   "metadata": {
    "collapsed": true
   },
   "outputs": [],
   "source": [
    "xcoordinate = list(range(num_points_min, num_points_max + 1))\n",
    "def plot_sample_opt_rmse(xcoordinate, opt_pred_err_netmech_min, opt_pred_err_netmech_max, min_predictive_errs_netmech):\n",
    "    plt.plot(xcoordinate, opt_pred_err_netmech_min, label = r'$\\min$')\n",
    "    plt.plot(xcoordinate, opt_pred_err_netmech_max, '--', label = r'$\\max$')\n",
    "    plt.plot(xcoordinate, min_predictive_errs_netmech,'--', label = r'$\\min$ sampled')\n",
    "    plt.xticks(xcoordinate)\n",
    "    plt.xlabel('Lattice density', fontsize = 20)\n",
    "    plt.ylabel('RMSE', fontsize = 20)\n",
    "    plt.grid(True)\n",
    "    plt.legend (fontsize = 14)\n",
    "    plt.show()"
   ]
  },
  {
   "cell_type": "code",
   "execution_count": 22,
   "metadata": {},
   "outputs": [
    {
     "data": {
      "image/png": "[encoded data removed]",
      "text/plain": [
       "<Figure size 432x288 with 1 Axes>"
      ]
     },
     "metadata": {},
     "output_type": "display_data"
    },
    {
     "name": "stdout",
     "output_type": "stream",
     "text": [
      "Epsilon 0.1\n"
     ]
    }
   ],
   "source": [
    "#%matplotlib tk\n",
    "plot_sample_opt_rmse(xcoordinate, opt_pred_err_netmech_min, opt_pred_err_netmech_max, min_predictive_errs_netmech)\n",
    "print(\"Epsilon\", epsilon)"
   ]
  },
  {
   "cell_type": "code",
   "execution_count": 35,
   "metadata": {},
   "outputs": [
    {
     "data": {
      "image/png": "[encoded data removed]",
      "text/plain": [
       "<Figure size 432x288 with 1 Axes>"
      ]
     },
     "metadata": {},
     "output_type": "display_data"
    },
    {
     "name": "stdout",
     "output_type": "stream",
     "text": [
      "Epsilon 0.2\n"
     ]
    }
   ],
   "source": [
    "plot_sample_opt_rmse(xcoordinate, opt_pred_err_netmech_min, opt_pred_err_netmech_max, min_predictive_errs_netmech)\n",
    "print(\"Epsilon\", epsilon)"
   ]
  },
  {
   "cell_type": "code",
   "execution_count": 48,
   "metadata": {},
   "outputs": [
    {
     "data": {
      "image/png": "[encoded data removed]",
      "text/plain": [
       "<Figure size 432x288 with 1 Axes>"
      ]
     },
     "metadata": {},
     "output_type": "display_data"
    },
    {
     "name": "stdout",
     "output_type": "stream",
     "text": [
      "Epsilon 5.0\n"
     ]
    }
   ],
   "source": [
    "plot_sample_opt_rmse(xcoordinate, opt_pred_err_netmech_min, opt_pred_err_netmech_max, min_predictive_errs_netmech)\n",
    "print(\"Epsilon\", epsilon)"
   ]
  },
  {
   "cell_type": "code",
   "execution_count": 14,
   "metadata": {},
   "outputs": [
    {
     "name": "stdout",
     "output_type": "stream",
     "text": [
      "Utility is  0.09963140350411134\n",
      "Optimal coefficients [[0.0625]\n",
      " [0.8125]]\n"
     ]
    }
   ],
   "source": [
    "# Print the dataset that gives the overall min predictive error \n",
    "# NB: This is for epsilon = 0.2\n",
    "optimal_dataset = synthetic_datasets_vec[np.argmin(min_predictive_errs_netmech)][np.argmin(predictive_errs_netmech[np.argmin(min_predictive_errs_netmech)])]\n",
    "F_tilde_r = testutilities.get_synthetic_F_tilde(optimal_dataset, dim)\n",
    "print(\"Utility is \", np.max(np.abs(F_tilde_x - F_tilde_r)))\n",
    "coef = np.linalg.solve(optimal_dataset[:,:-1], optimal_dataset[:,-1:])\n",
    "print (\"Optimal coefficients\", coef)"
   ]
  },
  {
   "cell_type": "code",
   "execution_count": null,
   "metadata": {
    "collapsed": true
   },
   "outputs": [],
   "source": []
  }
 ],
 "metadata": {
  "kernelspec": {
   "display_name": "Python 3",
   "language": "python",
   "name": "python3"
  },
  "language_info": {
   "codemirror_mode": {
    "name": "ipython",
    "version": 3
   },
   "file_extension": ".py",
   "mimetype": "text/x-python",
   "name": "python",
   "nbconvert_exporter": "python",
   "pygments_lexer": "ipython3",
   "version": "3.6.1"
  }
 },
 "nbformat": 4,
 "nbformat_minor": 2
}
