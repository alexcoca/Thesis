{
 "cells": [
  {
   "cell_type": "markdown",
   "metadata": {},
   "source": [
    "# Investigation of performance of parallel algorithm"
   ]
  },
  {
   "cell_type": "code",
   "execution_count": null,
   "metadata": {
    "collapsed": true
   },
   "outputs": [],
   "source": [
    "import math\n",
    "import matplotlib\n",
    "import matplotlib.pyplot as plt\n",
    "import os\n",
    "import pickle\n",
    "import second_moment_experiments_main as experiment\n",
    "\n",
    "plt.rc('text', usetex = True)\n",
    "plt.rc('font', family = 'serif')\n",
    "matplotlib.rc('xtick', labelsize=14) \n",
    "matplotlib.rc('ytick', labelsize=14) "
   ]
  },
  {
   "cell_type": "code",
   "execution_count": null,
   "metadata": {},
   "outputs": [],
   "source": [
    "exp_name = 'exp_parallel_benchmark'\n",
    "with open ('D:/Thesis/Experiments/exp_parallel_benchmark/' + exp_name, \"rb\") as container:\n",
    "    results = pickle.load(container)\n",
    "generation_runtimes = results[0]\n",
    "sampling_runtimes = results[1]"
   ]
  },
  {
   "cell_type": "markdown",
   "metadata": {},
   "source": [
    "$\\textbf{Setup:}$ Measure the time it takes to perform the lattice generation and sampling as the number of cores is varied. The experiment is performed for a dataset with dimensionality $d = 3$ and features and lattice densities of $k = 10$."
   ]
  },
  {
   "cell_type": "markdown",
   "metadata": {},
   "source": [
    "## Parameter set-up"
   ]
  },
  {
   "cell_type": "code",
   "execution_count": null,
   "metadata": {
    "collapsed": true
   },
   "outputs": [],
   "source": [
    "# Default parameters list\n",
    "num_records = 40\n",
    "test_frac = 0.5\n",
    "batch_size = 1000\n",
    "directory = 'D:/Thesis/Experiments/exp_parallel_benchmark/'\n",
    "parallel = True\n",
    "save_data = False\n",
    "partition_method = 'fast_2'\n",
    "num_samples = 25\n",
    "sample_parallel = True \n",
    "load_data = False\n",
    "allow_overwrite = True # Allows overwriting the data log so that the experiment can be carried out\n",
    "seed = 23\n",
    "# sampling_workers = -1"
   ]
  },
  {
   "cell_type": "code",
   "execution_count": null,
   "metadata": {
    "collapsed": true
   },
   "outputs": [],
   "source": [
    "# Experiment specific\n",
    "lattice_density = 10\n",
    "dimensionality = 3\n",
    "workers_min = 1\n",
    "workers_max = os.cpu_count()\n",
    "num_points_features = lattice_density\n",
    "num_points_targets = lattice_density\n",
    "epsilon = 0.1"
   ]
  },
  {
   "cell_type": "markdown",
   "metadata": {},
   "source": [
    "## Run the experiment"
   ]
  },
  {
   "cell_type": "code",
   "execution_count": null,
   "metadata": {
    "collapsed": true
   },
   "outputs": [],
   "source": [
    "# Data containers \n",
    "generation_runtimes = []\n",
    "sampling_runtimes = []"
   ]
  },
  {
   "cell_type": "code",
   "execution_count": null,
   "metadata": {},
   "outputs": [],
   "source": [
    "for workers in reversed(range(workers_min, workers_max + 1)):\n",
    "    print (\"Number of cores\", workers)\n",
    "    data = experiment.second_order_moment_experiment(dimensionality = dimensionality, num_records = num_records, test_frac = test_frac, \\\n",
    "                                                     batch_size = batch_size,directory = directory, parallel = parallel, save_data = save_data,\\\n",
    "                                                     partition_method = partition_method, workers = workers, sampling_workers = workers,num_samples = num_samples,\\\n",
    "                                                     sample_parallel = sample_parallel, load_data = load_data, num_points_targets = num_points_targets,\\\n",
    "                                                     num_points_features = num_points_features, epsilon = epsilon, seed = seed,\\\n",
    "                                                     allow_overwrite = allow_overwrite)\n",
    "    generation_runtimes.append(data['tgen'])\n",
    "    sampling_runtimes.append(data['tsamp'])"
   ]
  },
  {
   "cell_type": "code",
   "execution_count": null,
   "metadata": {},
   "outputs": [],
   "source": [
    "# Save data\n",
    "results = [generation_runtimes, sampling_runtimes]\n",
    "exp_name = 'exp_parallel_benchmark'\n",
    "with open (directory + exp_name, \"wb\") as container:\n",
    "    pickle.dump(results, container)"
   ]
  },
  {
   "cell_type": "markdown",
   "metadata": {},
   "source": [
    "# Plot the results"
   ]
  },
  {
   "cell_type": "code",
   "execution_count": null,
   "metadata": {},
   "outputs": [],
   "source": [
    "xcoordinate_gen = range(workers_min, workers_max + 1)\n",
    "if num_samples > workers_max:\n",
    "    xcoordinate_samp = range(workers_min, workers_max + 1)\n",
    "else:\n",
    "    xcoordinate_samp = range(workers_min, num_samples + 1)"
   ]
  },
  {
   "cell_type": "code",
   "execution_count": null,
   "metadata": {},
   "outputs": [],
   "source": [
    "# Plot the generation time results\n",
    "plt.plot(xcoordinate_gen, list(reversed(generation_runtimes)), '--*')\n",
    "plt.xlabel('Number of cores', fontsize = 20)\n",
    "plt.ylabel('Runtime (s)', fontsize = 20)\n",
    "plt.xticks(xcoordinate_gen)\n",
    "plt.grid(True)\n",
    "plt.show()"
   ]
  },
  {
   "cell_type": "code",
   "execution_count": null,
   "metadata": {},
   "outputs": [],
   "source": [
    "# Plot the sampling time results\n",
    "plt.plot(xcoordinate_samp, list(reversed(sampling_runtimes[0:len(xcoordinate_samp)])), '--*')\n",
    "plt.xlabel('Number of cores', fontsize = 20)\n",
    "plt.ylabel('Runtime (s)', fontsize = 20)\n",
    "plt.xticks(xcoordinate_samp)\n",
    "plt.grid(True)\n",
    "plt.show()"
   ]
  },
  {
   "cell_type": "code",
   "execution_count": null,
   "metadata": {
    "collapsed": true
   },
   "outputs": [],
   "source": []
  }
 ],
 "metadata": {
  "kernelspec": {
   "display_name": "Python 3",
   "language": "python",
   "name": "python3"
  },
  "language_info": {
   "codemirror_mode": {
    "name": "ipython",
    "version": 3
   },
   "file_extension": ".py",
   "mimetype": "text/x-python",
   "name": "python",
   "nbconvert_exporter": "python",
   "pygments_lexer": "ipython3",
   "version": "3.6.1"
  }
 },
 "nbformat": 4,
 "nbformat_minor": 2
}
