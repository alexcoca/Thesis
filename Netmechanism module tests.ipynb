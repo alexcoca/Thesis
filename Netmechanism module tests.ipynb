{
 "cells": [
  {
   "cell_type": "markdown",
   "metadata": {},
   "source": [
    "# Test the L2Lattice class"
   ]
  },
  {
   "cell_type": "code",
   "execution_count": 1,
   "metadata": {
    "collapsed": true
   },
   "outputs": [],
   "source": [
    "from netmechanism import L2Lattice\n",
    "import testutilities\n",
    "import numpy as np\n",
    "import math"
   ]
  },
  {
   "cell_type": "markdown",
   "metadata": {},
   "source": [
    "Testing the recursive algorithm for $\\ell_2$-lattice generation against a brute force method which generates the $\\ell_\\infty$-lattice first and then discards points with $\\|\\cdot\\|_2 \\geq 1$. \n",
    "\n",
    "$\\textbf{Test case}$: the dimensionality $d$ varies between $2$ and $5$, and for each dimension the number of points $k$ is between $3$ and $25$. For speed, only solutions in the positive quadrant are considered. A relative tolerance of $1e-05$ is used for all comparisons (inc. difference calculation)."
   ]
  },
  {
   "cell_type": "code",
   "execution_count": 2,
   "metadata": {},
   "outputs": [
    {
     "name": "stdout",
     "output_type": "stream",
     "text": [
      "Testing complete\n"
     ]
    }
   ],
   "source": [
    "dim_range = range(2,6)\n",
    "num_points_range = range(3,26)\n",
    "upper_bound = 1.0\n",
    "lower_bound = -1.0\n",
    "radius = 1.0\n",
    "num_dec = 10\n",
    "for dim in dim_range:\n",
    "    for num_points in num_points_range:\n",
    "        # print(\"Dimension\",dim)\n",
    "        # print(\"Number of points\",num_points)\n",
    "        OutputLattice = L2Lattice()\n",
    "        OutputLattice.generate_l2_lattice(dim=dim,radius=radius,lower_bound=lower_bound,upper_bound=upper_bound,num_points=num_points,pos_ord=False,precision=num_dec,rel_tol=1e-05)\n",
    "        intersection_m2,coord_array_m2 = testutilities.bruteNonIntegerIntersection(dim=dim,radius=radius,num_points=num_points,lower_bound=lower_bound,upper_bound=upper_bound,filtered = True,num_dec=10,r_tol=1e-05)\n",
    "        test_points = OutputLattice.points\n",
    "        # Points that are returned by the fancy algorithm but not by brute\n",
    "        differences_1 = testutilities.get_differences(test_points,intersection_m2)\n",
    "        assert differences_1.size == 0\n",
    "        # Points that are returned by the brute but not the fancy algorithm\n",
    "        differences_2 = testutilities.get_differences(intersection_m2,test_points)\n",
    "        assert differences_2.size == 0\n",
    "        # Test that all the solutions have the correct dimensionality \n",
    "        lengths = [len(x) == dim for x in test_points]\n",
    "        assert np.all(lengths)\n",
    "        # Test that all the solutions are unique\n",
    "        assert np.unique(test_points,axis=0).shape[0] == len(test_points)\n",
    "        # Test that the norms of the elements returned are correct\n",
    "        norms = np.linalg.norm(np.array(test_points),ord=2,axis=1)\n",
    "        close_norms = [True if math.isclose(np.linalg.norm(x),1,rel_tol=1e-7) == True else False for x in norms]\n",
    "        small_norms = [True if x <= radius else False for x in norms]\n",
    "        all_norms = [x or y for x,y in zip(small_norms,close_norms)]\n",
    "        incorrect_points = [point for (indicator,point) in zip(np.logical_not(all_norms),test_points) if indicator==True]\n",
    "        assert np.all(all_norms)\n",
    "        # Test that the two methods return the same number of solutions\n",
    "        assert intersection_m2.shape[0] == len(test_points)\n",
    "print (\"Testing complete\")"
   ]
  },
  {
   "cell_type": "markdown",
   "metadata": {
    "collapsed": true
   },
   "source": [
    "$\\textbf{Test case}$: Testing the generation of permuted and signed solutions. For speed only small cases with dimensionality $d$ up to $4$ and with $k$ between $3$ and $9$ are considered. "
   ]
  },
  {
   "cell_type": "code",
   "execution_count": 4,
   "metadata": {},
   "outputs": [
    {
     "name": "stdout",
     "output_type": "stream",
     "text": [
      "Testing complete\n"
     ]
    }
   ],
   "source": [
    "dim_range = range(2,5)\n",
    "num_points_range = range(3,10)\n",
    "upper_bound = 1.0\n",
    "lower_bound = -1.0\n",
    "radius = 1.0\n",
    "num_dec = 10\n",
    "for dim in dim_range:\n",
    "    for num_points in num_points_range:\n",
    "        # print(\"Dimension\",dim)\n",
    "        # print(\"Number of points\",num_points)\n",
    "        OutputLattice = L2Lattice()\n",
    "        OutputLattice.generate_l2_lattice(dim=dim,radius=radius,lower_bound=lower_bound,upper_bound=upper_bound,num_points=num_points,pos_ord=True,precision=num_dec,rel_tol=1e-05)\n",
    "        intersection_m2,coord_array_m2 = testutilities.bruteNonIntegerIntersection(dim=dim,radius=radius,num_points=num_points,lower_bound=lower_bound,upper_bound=upper_bound,filtered = False,num_dec=10,r_tol=1e-05)\n",
    "        test_points = OutputLattice.points\n",
    "        # Points that are returned by the fancy algorithm but not by brute\n",
    "        differences_1 = testutilities.get_differences(test_points,intersection_m2)\n",
    "        assert differences_1.size == 0\n",
    "        # Points that are returned by the brute but not the fancy algorithm\n",
    "        differences_2 = testutilities.get_differences(intersection_m2,test_points)\n",
    "        assert differences_2.size == 0\n",
    "        # Test that all the solutions have the correct dimensionality \n",
    "        lengths = [len(x) == dim for x in test_points]\n",
    "        assert np.all(lengths)\n",
    "        # Test that all the solutions are unique\n",
    "        assert np.unique(test_points,axis=0).shape[0] == len(test_points)\n",
    "        # Test that the norms of the elements returned are correct\n",
    "        norms = np.linalg.norm(np.array(test_points),ord=2,axis=1)\n",
    "        close_norms = [True if math.isclose(np.linalg.norm(x),1,rel_tol=1e-7) == True else False for x in norms]\n",
    "        small_norms = [True if x <= radius else False for x in norms]\n",
    "        all_norms = [x or y for x,y in zip(small_norms,close_norms)]\n",
    "        incorrect_points = [point for (indicator,point) in zip(np.logical_not(all_norms),test_points) if indicator==True]\n",
    "        assert np.all(all_norms)\n",
    "        # Test that the two methods return the same number of solutions\n",
    "        assert intersection_m2.shape[0] == len(test_points)\n",
    "print (\"Testing complete\")"
   ]
  },
  {
   "cell_type": "code",
   "execution_count": null,
   "metadata": {
    "collapsed": true
   },
   "outputs": [],
   "source": []
  }
 ],
 "metadata": {
  "kernelspec": {
   "display_name": "Python 3",
   "language": "python",
   "name": "python3"
  },
  "language_info": {
   "codemirror_mode": {
    "name": "ipython",
    "version": 3
   },
   "file_extension": ".py",
   "mimetype": "text/x-python",
   "name": "python",
   "nbconvert_exporter": "python",
   "pygments_lexer": "ipython3",
   "version": "3.6.1"
  }
 },
 "nbformat": 4,
 "nbformat_minor": 2
}
