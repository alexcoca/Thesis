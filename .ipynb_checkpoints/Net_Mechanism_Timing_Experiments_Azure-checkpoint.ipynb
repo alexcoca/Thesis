{
 "cells": [
  {
   "cell_type": "markdown",
   "metadata": {},
   "source": [
    "# Net Mechanism Experiments"
   ]
  },
  {
   "cell_type": "code",
   "execution_count": 1,
   "metadata": {
    "collapsed": true
   },
   "outputs": [],
   "source": [
    "import second_moment_experiments_main as experiment"
   ]
  },
  {
   "cell_type": "markdown",
   "metadata": {},
   "source": [
    "## Baseline code performance for $d = 3, k_t = 10$ and $k_f = 10$"
   ]
  },
  {
   "cell_type": "code",
   "execution_count": 2,
   "metadata": {
    "collapsed": true
   },
   "outputs": [],
   "source": [
    "# Default parameters list\n",
    "dimensionality = 3\n",
    "num_records = 20\n",
    "directory = '/home/alexcoca/Thesis/Experiments'\n",
    "parallel = True\n",
    "save_data = False\n",
    "partition_method = 'fast_2'\n",
    "workers = -1\n",
    "num_samples = 25\n",
    "sample_parallel = True\n",
    "load_data = False\n",
    "num_points_targets = 10\n",
    "num_points_features = 10\n",
    "epsilon = 0.1\n",
    "seed = 23"
   ]
  },
  {
   "cell_type": "markdown",
   "metadata": {},
   "source": [
    "# Batch size $b = 500$"
   ]
  },
  {
   "cell_type": "code",
   "execution_count": 14,
   "metadata": {},
   "outputs": [
    {
     "name": "stdout",
     "output_type": "stream",
     "text": [
      "Initialising synthetic feature space lattice\n",
      "Synthetic feature space initialised\n",
      "Initialising synthethic target space lattice\n",
      "Synthethic target space initialised\n",
      "Number of batches is 15423\n",
      "Number of batches is  15423\n",
      "Starting parallel pool\n",
      "Outcome space generation parallel pool execution complete\n",
      "Partition function is 4862185999.035226\n",
      "Starting parallel sampling procedure\n",
      "Parallel sampling procedure complete\n",
      "Recovered combination (78, 222, 304)\n",
      "Recovered combination (226, 238, 265)\n",
      "Recovered combination (139, 268, 276)\n",
      "Recovered combination (38, 102, 311)\n",
      "Recovered combination (29, 77, 318)\n",
      "Recovered combination (116, 318, 329)\n",
      "Recovered combination (21, 163, 222)\n",
      "Recovered combination (55, 312, 322)\n",
      "Recovered combination (100, 130, 164)\n",
      "Recovered combination (59, 115, 286)\n",
      "Recovered combination (0, 61, 119)\n",
      "Recovered combination (186, 207, 232)\n",
      "Recovered combination (186, 262, 296)\n",
      "Recovered combination (41, 61, 166)\n",
      "Recovered combination (93, 240, 345)\n",
      "Recovered combination (260, 317, 356)\n",
      "Recovered combination (168, 230, 329)\n",
      "Recovered combination (8, 29, 306)\n",
      "Recovered combination (40, 82, 319)\n",
      "Recovered combination (39, 74, 124)\n",
      "Recovered combination (159, 229, 312)\n",
      "Recovered combination (102, 117, 172)\n",
      "Recovered combination (14, 19, 307)\n",
      "Recovered combination (0, 13, 88)\n",
      "Recovered combination (222, 238, 341)\n",
      "Elapsed time with -1 workers is 597.0220837593079\n"
     ]
    }
   ],
   "source": [
    "batch_size = 500\n",
    "synthetic_data = experiment.second_order_moment_experiment(dimensionality = dimensionality, num_records = num_records, batch_size = batch_size,\\\n",
    "                                           directory = directory, parallel = parallel, save_data = save_data, partition_method = partition_method,\\\n",
    "                                           workers = workers, num_samples = num_samples, sample_parallel = sample_parallel, load_data = load_data,\\\n",
    "                                           num_points_targets = num_points_targets, num_points_features = num_points_features, epsilon = epsilon,\\\n",
    "                                           seed = seed)"
   ]
  },
  {
   "cell_type": "markdown",
   "metadata": {},
   "source": [
    "## Batch size $b = 1,000$"
   ]
  },
  {
   "cell_type": "code",
   "execution_count": 15,
   "metadata": {},
   "outputs": [
    {
     "name": "stdout",
     "output_type": "stream",
     "text": [
      "Initialising synthetic feature space lattice\n",
      "Synthetic feature space initialised\n",
      "Initialising synthethic target space lattice\n",
      "Synthethic target space initialised\n",
      "Number of batches is 7712\n",
      "Number of batches is  7712\n",
      "Starting parallel pool\n",
      "Outcome space generation parallel pool execution complete\n",
      "Partition function is 4862185999.035248\n",
      "Starting parallel sampling procedure\n",
      "Parallel sampling procedure complete\n",
      "Recovered combination (78, 222, 304)\n",
      "Recovered combination (226, 238, 265)\n",
      "Recovered combination (139, 268, 276)\n",
      "Recovered combination (38, 102, 311)\n",
      "Recovered combination (29, 77, 318)\n",
      "Recovered combination (116, 318, 329)\n",
      "Recovered combination (21, 163, 222)\n",
      "Recovered combination (55, 312, 322)\n",
      "Recovered combination (100, 130, 164)\n",
      "Recovered combination (59, 115, 286)\n",
      "Recovered combination (0, 61, 119)\n",
      "Recovered combination (186, 207, 232)\n",
      "Recovered combination (186, 262, 296)\n",
      "Recovered combination (41, 61, 166)\n",
      "Recovered combination (93, 240, 345)\n",
      "Recovered combination (260, 317, 356)\n",
      "Recovered combination (168, 230, 329)\n",
      "Recovered combination (8, 29, 306)\n",
      "Recovered combination (40, 82, 319)\n",
      "Recovered combination (39, 74, 124)\n",
      "Recovered combination (159, 229, 312)\n",
      "Recovered combination (102, 117, 172)\n",
      "Recovered combination (14, 19, 307)\n",
      "Recovered combination (0, 13, 88)\n",
      "Recovered combination (222, 238, 341)\n",
      "Elapsed time with -1 workers is 386.05132603645325\n"
     ]
    }
   ],
   "source": [
    "batch_size = 1000\n",
    "synthetic_data = experiment.second_order_moment_experiment(dimensionality = dimensionality, num_records = num_records, batch_size = batch_size,\\\n",
    "                                           directory = directory, parallel = parallel, save_data = save_data, partition_method = partition_method,\\\n",
    "                                           workers = workers, num_samples = num_samples, sample_parallel = sample_parallel, load_data = load_data,\\\n",
    "                                           num_points_targets = num_points_targets, num_points_features = num_points_features, epsilon = epsilon,\\\n",
    "                                           seed = seed)"
   ]
  },
  {
   "cell_type": "markdown",
   "metadata": {},
   "source": [
    "## Batch size $b = 5, 000$"
   ]
  },
  {
   "cell_type": "code",
   "execution_count": 10,
   "metadata": {},
   "outputs": [
    {
     "name": "stdout",
     "output_type": "stream",
     "text": [
      "Initialising synthetic feature space lattice\n",
      "Synthetic feature space initialised\n",
      "Initialising synthethic target space lattice\n",
      "Synthethic target space initialised\n",
      "Number of batches is 1543\n",
      "Number of batches is  1543\n",
      "Starting parallel pool\n",
      "Outcome space generation parallel pool execution complete\n",
      "Partition function is 4862185999.035233\n",
      "Starting parallel sampling procedure\n",
      "Parallel sampling procedure complete\n",
      "Recovered combination (78, 222, 304)\n",
      "Recovered combination (226, 238, 265)\n",
      "Recovered combination (139, 268, 276)\n",
      "Recovered combination (38, 102, 311)\n",
      "Recovered combination (29, 77, 318)\n",
      "Recovered combination (116, 318, 329)\n",
      "Recovered combination (21, 163, 222)\n",
      "Recovered combination (55, 312, 322)\n",
      "Recovered combination (100, 130, 164)\n",
      "Recovered combination (59, 115, 286)\n",
      "Recovered combination (0, 61, 119)\n",
      "Recovered combination (186, 207, 232)\n",
      "Recovered combination (186, 262, 296)\n",
      "Recovered combination (41, 61, 166)\n",
      "Recovered combination (93, 240, 345)\n",
      "Recovered combination (260, 317, 356)\n",
      "Recovered combination (168, 230, 329)\n",
      "Recovered combination (8, 29, 306)\n",
      "Recovered combination (40, 82, 319)\n",
      "Recovered combination (39, 74, 124)\n",
      "Recovered combination (159, 229, 312)\n",
      "Recovered combination (102, 117, 172)\n",
      "Recovered combination (14, 19, 307)\n",
      "Recovered combination (0, 13, 88)\n",
      "Recovered combination (222, 238, 341)\n",
      "Elapsed time with -1 workers is 150.41303825378418\n"
     ]
    }
   ],
   "source": [
    "batch_size = 5000\n",
    "synthetic_data = experiment.second_order_moment_experiment(dimensionality = dimensionality, num_records = num_records, batch_size = batch_size,\\\n",
    "                                           directory = directory, parallel = parallel, save_data = save_data, partition_method = partition_method,\\\n",
    "                                           workers = workers, num_samples = num_samples, sample_parallel = sample_parallel, load_data = load_data,\\\n",
    "                                           num_points_targets = num_points_targets, num_points_features = num_points_features, epsilon = epsilon,\\\n",
    "                                           seed = seed)"
   ]
  },
  {
   "cell_type": "markdown",
   "metadata": {},
   "source": [
    "## Batch size $b = 7,500$"
   ]
  },
  {
   "cell_type": "code",
   "execution_count": 16,
   "metadata": {},
   "outputs": [
    {
     "name": "stdout",
     "output_type": "stream",
     "text": [
      "Initialising synthetic feature space lattice\n",
      "Synthetic feature space initialised\n",
      "Initialising synthethic target space lattice\n",
      "Synthethic target space initialised\n",
      "Number of batches is 1029\n",
      "Number of batches is  1029\n",
      "Starting parallel pool\n",
      "Outcome space generation parallel pool execution complete\n",
      "Partition function is 4862185999.035241\n",
      "Starting parallel sampling procedure\n",
      "Parallel sampling procedure complete\n",
      "Recovered combination (78, 222, 304)\n",
      "Recovered combination (226, 238, 265)\n",
      "Recovered combination (139, 268, 276)\n",
      "Recovered combination (38, 102, 311)\n",
      "Recovered combination (29, 77, 318)\n",
      "Recovered combination (116, 318, 329)\n",
      "Recovered combination (21, 163, 222)\n",
      "Recovered combination (55, 312, 322)\n",
      "Recovered combination (100, 130, 164)\n",
      "Recovered combination (59, 115, 286)\n",
      "Recovered combination (0, 61, 119)\n",
      "Recovered combination (186, 207, 232)\n",
      "Recovered combination (186, 262, 296)\n",
      "Recovered combination (41, 61, 166)\n",
      "Recovered combination (93, 240, 345)\n",
      "Recovered combination (260, 317, 356)\n",
      "Recovered combination (168, 230, 329)\n",
      "Recovered combination (8, 29, 306)\n",
      "Recovered combination (40, 82, 319)\n",
      "Recovered combination (39, 74, 124)\n",
      "Recovered combination (159, 229, 312)\n",
      "Recovered combination (102, 117, 172)\n",
      "Recovered combination (14, 19, 307)\n",
      "Recovered combination (0, 13, 88)\n",
      "Recovered combination (222, 238, 341)\n",
      "Elapsed time with -1 workers is 126.72727227210999\n"
     ]
    }
   ],
   "source": [
    "batch_size = 7500\n",
    "synthetic_data = experiment.second_order_moment_experiment(dimensionality = dimensionality, num_records = num_records, batch_size = batch_size,\\\n",
    "                                           directory = directory, parallel = parallel, save_data = save_data, partition_method = partition_method,\\\n",
    "                                           workers = workers, num_samples = num_samples, sample_parallel = sample_parallel, load_data = load_data,\\\n",
    "                                           num_points_targets = num_points_targets, num_points_features = num_points_features, epsilon = epsilon,\\\n",
    "                                           seed = seed)"
   ]
  },
  {
   "cell_type": "markdown",
   "metadata": {},
   "source": [
    "## Batch size $b = 10,000$ "
   ]
  },
  {
   "cell_type": "code",
   "execution_count": 5,
   "metadata": {},
   "outputs": [
    {
     "name": "stdout",
     "output_type": "stream",
     "text": [
      "Initialising synthetic feature space lattice\n",
      "Synthetic feature space initialised\n",
      "Initialising synthethic target space lattice\n",
      "Synthethic target space initialised\n",
      "Number of batches is 772\n",
      "Number of batches is  772\n",
      "Starting parallel pool\n",
      "Outcome space generation parallel pool execution complete\n",
      "Partition function is 4862185999.035239\n",
      "Starting parallel sampling procedure\n",
      "Parallel sampling procedure complete\n",
      "Recovered combination (78, 222, 304)\n",
      "Recovered combination (226, 238, 265)\n",
      "Recovered combination (139, 268, 276)\n",
      "Recovered combination (38, 102, 311)\n",
      "Recovered combination (29, 77, 318)\n",
      "Recovered combination (116, 318, 329)\n",
      "Recovered combination (21, 163, 222)\n",
      "Recovered combination (55, 312, 322)\n",
      "Recovered combination (100, 130, 164)\n",
      "Recovered combination (59, 115, 286)\n",
      "Recovered combination (0, 61, 119)\n",
      "Recovered combination (186, 207, 232)\n",
      "Recovered combination (186, 262, 296)\n",
      "Recovered combination (41, 61, 166)\n",
      "Recovered combination (93, 240, 345)\n",
      "Recovered combination (260, 317, 356)\n",
      "Recovered combination (168, 230, 329)\n",
      "Recovered combination (8, 29, 306)\n",
      "Recovered combination (40, 82, 319)\n",
      "Recovered combination (39, 74, 124)\n",
      "Recovered combination (159, 229, 312)\n",
      "Recovered combination (102, 117, 172)\n",
      "Recovered combination (14, 19, 307)\n",
      "Recovered combination (0, 13, 88)\n",
      "Recovered combination (222, 238, 341)\n",
      "Elapsed time with 63 workers is 119.28849577903748\n"
     ]
    }
   ],
   "source": [
    "batch_size = 10000\n",
    "workers = 63 # 64 w, 118.41 s, 67 runs out of memory, 64 seems to run out of memory too!\n",
    "synthetic_data = experiment.second_order_moment_experiment(dimensionality = dimensionality, num_records = num_records, batch_size = batch_size,\\\n",
    "                                           directory = directory, parallel = parallel, save_data = save_data, partition_method = partition_method,\\\n",
    "                                           workers = workers, num_samples = num_samples, sample_parallel = sample_parallel, load_data = load_data,\\\n",
    "                                           num_points_targets = num_points_targets, num_points_features = num_points_features, epsilon = epsilon,\\\n",
    "                                           seed = seed)"
   ]
  },
  {
   "cell_type": "markdown",
   "metadata": {},
   "source": [
    "## Batch size $b = 15,000$"
   ]
  },
  {
   "cell_type": "code",
   "execution_count": 7,
   "metadata": {},
   "outputs": [
    {
     "name": "stdout",
     "output_type": "stream",
     "text": [
      "Initialising synthetic feature space lattice\n",
      "Synthetic feature space initialised\n",
      "Initialising synthethic target space lattice\n",
      "Synthethic target space initialised\n",
      "Number of batches is 515\n",
      "Number of batches is  515\n",
      "Starting parallel pool\n",
      "Outcome space generation parallel pool execution complete\n",
      "Partition function is 4862185999.035232\n",
      "Starting parallel sampling procedure\n",
      "Parallel sampling procedure complete\n",
      "Recovered combination (78, 222, 304)\n",
      "Recovered combination (226, 238, 265)\n",
      "Recovered combination (139, 268, 276)\n",
      "Recovered combination (38, 102, 311)\n",
      "Recovered combination (29, 77, 318)\n",
      "Recovered combination (116, 318, 329)\n",
      "Recovered combination (21, 163, 222)\n",
      "Recovered combination (55, 312, 322)\n",
      "Recovered combination (100, 130, 164)\n",
      "Recovered combination (59, 115, 286)\n",
      "Recovered combination (0, 61, 119)\n",
      "Recovered combination (186, 207, 232)\n",
      "Recovered combination (186, 262, 296)\n",
      "Recovered combination (41, 61, 166)\n",
      "Recovered combination (93, 240, 345)\n",
      "Recovered combination (260, 317, 356)\n",
      "Recovered combination (168, 230, 329)\n",
      "Recovered combination (8, 29, 306)\n",
      "Recovered combination (40, 82, 319)\n",
      "Recovered combination (39, 74, 124)\n",
      "Recovered combination (159, 229, 312)\n",
      "Recovered combination (102, 117, 172)\n",
      "Recovered combination (14, 19, 307)\n",
      "Recovered combination (0, 13, 88)\n",
      "Recovered combination (222, 238, 341)\n",
      "Elapsed time with 40 workers is 125.09243392944336\n"
     ]
    }
   ],
   "source": [
    "batch_size = 15000\n",
    "workers = 40 # 127s with 40 cores, 121s with 45 cores, 47 runs out of memory\n",
    "synthetic_data = experiment.second_order_moment_experiment(dimensionality = dimensionality, num_records = num_records, batch_size = batch_size,\\\n",
    "                                           directory = directory, parallel = parallel, save_data = save_data, partition_method = partition_method,\\\n",
    "                                           workers = workers, num_samples = num_samples, sample_parallel = sample_parallel, load_data = load_data,\\\n",
    "                                           num_points_targets = num_points_targets, num_points_features = num_points_features, epsilon = epsilon,\\\n",
    "                                           seed = seed)"
   ]
  },
  {
   "cell_type": "code",
   "execution_count": null,
   "metadata": {
    "collapsed": true
   },
   "outputs": [],
   "source": []
  }
 ],
 "metadata": {
  "kernelspec": {
   "display_name": "Python 3",
   "language": "python",
   "name": "python3"
  },
  "language_info": {
   "codemirror_mode": {
    "name": "ipython",
    "version": 3
   },
   "file_extension": ".py",
   "mimetype": "text/x-python",
   "name": "python",
   "nbconvert_exporter": "python",
   "pygments_lexer": "ipython3",
   "version": "3.6.1"
  }
 },
 "nbformat": 4,
 "nbformat_minor": 2
}
