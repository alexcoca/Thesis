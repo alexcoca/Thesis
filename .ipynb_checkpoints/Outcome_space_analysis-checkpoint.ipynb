{
 "cells": [
  {
   "cell_type": "markdown",
   "metadata": {},
   "source": [
    "# Investigate the rate of growth of the outcome space"
   ]
  },
  {
   "cell_type": "code",
   "execution_count": 1,
   "metadata": {
    "collapsed": true
   },
   "outputs": [],
   "source": [
    "import time\n",
    "import pickle\n",
    "from netmechanism import FeaturesLattice\n",
    "from netmechanism import est_outcome_space_size, outcome_space_ratio_calculator\n",
    "import matplotlib.pyplot as plt\n",
    "import matplotlib\n",
    "plt.rc('text', usetex = True)\n",
    "plt.rc('font', family = 'serif')\n",
    "matplotlib.rc('xtick', labelsize=14) \n",
    "matplotlib.rc('ytick', labelsize=14) "
   ]
  },
  {
   "cell_type": "code",
   "execution_count": 2,
   "metadata": {
    "collapsed": true
   },
   "outputs": [],
   "source": [
    "# Load data\n",
    "path = 'D:/Thesis/Experiments/OutcomeSpaceSize/'\n",
    "experiment_name = 'outcome_space_sizes'\n",
    "with open(path + experiment_name, 'rb') as container:\n",
    "    outcome_space_data = pickle.load(container)\n",
    "execution_times = outcome_space_data[0]\n",
    "feature_lattice_sizes = outcome_space_data[1]\n",
    "outcome_space_sizes = outcome_space_data[2]\n",
    "outcome_space_cov_sizes = outcome_space_data[3]"
   ]
  },
  {
   "cell_type": "code",
   "execution_count": 19,
   "metadata": {
    "collapsed": true
   },
   "outputs": [],
   "source": [
    "# Load data (variant 2)\n",
    "path = 'D:/Thesis/Experiments/OutcomeSpaceSize/'\n",
    "experiment_name = 'outcome_space_sizes_variant_2'\n",
    "with open(path + experiment_name, 'rb') as container:\n",
    "    outcome_space_sizes = pickle.load(container)"
   ]
  },
  {
   "cell_type": "markdown",
   "metadata": {},
   "source": [
    "Investigation of the variation of the outcome space size increase with the targets and features lattices density for a range of dimensions."
   ]
  },
  {
   "cell_type": "markdown",
   "metadata": {},
   "source": [
    "## Parameter setup "
   ]
  },
  {
   "cell_type": "code",
   "execution_count": 7,
   "metadata": {
    "collapsed": true
   },
   "outputs": [],
   "source": [
    "# General parameters \n",
    "upper_bound = 1.0\n",
    "lower_bound = -1.0\n",
    "radius = 1.0\n",
    "r_tol = 1e-5"
   ]
  },
  {
   "cell_type": "code",
   "execution_count": 8,
   "metadata": {
    "collapsed": true
   },
   "outputs": [],
   "source": [
    "# Experiment paramters\n",
    "min_dim = 2\n",
    "max_dim = 6\n",
    "num_points_max = 20\n",
    "num_points_min = 3"
   ]
  },
  {
   "cell_type": "code",
   "execution_count": 9,
   "metadata": {
    "collapsed": true
   },
   "outputs": [],
   "source": [
    "baseline_time = 94.00457096099854"
   ]
  },
  {
   "cell_type": "markdown",
   "metadata": {},
   "source": [
    "## Run experiment - variant_1"
   ]
  },
  {
   "cell_type": "code",
   "execution_count": 9,
   "metadata": {
    "collapsed": true
   },
   "outputs": [],
   "source": [
    "# Data storage structure\n",
    "execution_times = {key: [] for key in range(min_dim, max_dim + 1)}\n",
    "feature_lattice_sizes = {key: [] for key in range(min_dim, max_dim + 1)}\n",
    "outcome_space_sizes = {key: [] for key in range(min_dim, max_dim + 1)}\n",
    "outcome_space_cov_sizes = {key: [] for key in range(min_dim, max_dim + 1)}"
   ]
  },
  {
   "cell_type": "code",
   "execution_count": 10,
   "metadata": {
    "collapsed": true
   },
   "outputs": [],
   "source": [
    "# Estimate outcome space sizes and measure algorithm runtime \n",
    "for dim in range(min_dim, max_dim + 1):\n",
    "    for num_points in range(num_points_min, num_points_max + 1):\n",
    "        OutputLattice = FeaturesLattice()\n",
    "        t_start = time.time()\n",
    "        OutputLattice.generate_l2_lattice(dim = dim, radius = radius, lower_bound = lower_bound, upper_bound = upper_bound,\\\n",
    "                                          num_points = num_points, pos_ord = True, rel_tol = r_tol)\n",
    "        t_end = time.time()\n",
    "        execution_times[dim].append(t_end - t_start)\n",
    "        feature_lattice_size = OutputLattice.points.shape[0]\n",
    "        feature_lattice_sizes[dim].append(feature_lattice_size)\n",
    "        outcome_space_sizes[dim].append(est_outcome_space_size(feature_lattice_size, dim, num_points))\n",
    "        outcome_space_cov_sizes[dim].append(est_outcome_space_size(feature_lattice_size, dim, num_points, covariance_only = True))"
   ]
  },
  {
   "cell_type": "code",
   "execution_count": 11,
   "metadata": {
    "collapsed": true
   },
   "outputs": [],
   "source": [
    "# Save data\n",
    "path = 'D:/Thesis/Experiments/OutcomeSpaceSize/'\n",
    "experiment_name = 'outcome_space_sizes'\n",
    "outcome_space_data = [execution_times, feature_lattice_sizes, outcome_space_sizes, outcome_space_cov_sizes]\n",
    "with open(path + experiment_name, 'wb') as container:\n",
    "    pickle.dump(outcome_space_data, container)"
   ]
  },
  {
   "cell_type": "markdown",
   "metadata": {},
   "source": [
    "## Run experiment - variant_2"
   ]
  },
  {
   "cell_type": "code",
   "execution_count": 12,
   "metadata": {
    "collapsed": true
   },
   "outputs": [],
   "source": [
    "outcome_space_sizes  = {key_dimension : {key_num_features: {key_num_targets : [] for key_num_targets in range(num_points_min, num_points_max + 1)}  for key_num_features in range(num_points_min, num_points_max + 1)} for key_dimension in range(min_dim, max_dim + 1)}\n",
    "for dim in range(min_dim, max_dim + 1):\n",
    "    for num_points_features in range(num_points_min, num_points_max + 1):\n",
    "        for num_points_targets in range(num_points_min, num_points_max + 1):\n",
    "            OutputLattice = FeaturesLattice()\n",
    "            OutputLattice.generate_l2_lattice(dim = dim, radius = radius, lower_bound = lower_bound, upper_bound = upper_bound,\\\n",
    "                                          num_points = num_points_features, pos_ord = True, rel_tol = r_tol)\n",
    "            feature_lattice_size = OutputLattice.points.shape[0]\n",
    "            outcome_space_sizes[dim][num_points_features][num_points_targets].append(est_outcome_space_size(feature_lattice_size, dim,\\\n",
    "                                                                                                           num_points_targets))"
   ]
  },
  {
   "cell_type": "code",
   "execution_count": 13,
   "metadata": {
    "collapsed": true
   },
   "outputs": [],
   "source": [
    "path = 'D:/Thesis/Experiments/OutcomeSpaceSize/'\n",
    "experiment_name = 'outcome_space_sizes_variant_2'\n",
    "with open(path + experiment_name, 'wb') as container:\n",
    "    pickle.dump(outcome_space_sizes, container)"
   ]
  },
  {
   "cell_type": "markdown",
   "metadata": {},
   "source": [
    "## Plot results"
   ]
  },
  {
   "cell_type": "markdown",
   "metadata": {},
   "source": [
    "### Outcome feature space size against lattice density (for both covariance and correlations release)"
   ]
  },
  {
   "cell_type": "code",
   "execution_count": 13,
   "metadata": {},
   "outputs": [
    {
     "data": {
      "image/png": "[encoded data removed]",
      "text/plain": [
       "<Figure size 432x288 with 1 Axes>"
      ]
     },
     "metadata": {},
     "output_type": "display_data"
    }
   ],
   "source": [
    "for dim in range(min_dim, max_dim + 1):\n",
    "    plt.semilogy(range(num_points_min, num_points_max + 1), outcome_space_sizes[dim], '--o', label = r'$d = ' + str(dim) + '$')\n",
    "plt.legend(fontsize = 13, bbox_transform = plt.gcf().transFigure)\n",
    "plt.xticks(range(num_points_min, num_points_max + 1))\n",
    "plt.xlabel(r'$k_f, \\; k_t$' + ' (points)', fontsize = 20)\n",
    "plt.ylabel(r'$|\\mathcal{R}|$', fontsize = 20)\n",
    "plt.grid(True)\n",
    "plt.savefig('C:/Users/alexc/OneDrive/Documents/MPhil Proj/Thesis/Chapter5/Figs/' + 'space_scaling_both.eps', bbox_inches = 'tight')\n",
    "plt.show()"
   ]
  },
  {
   "cell_type": "markdown",
   "metadata": {},
   "source": [
    "### What problems can we solve?"
   ]
  },
  {
   "cell_type": "code",
   "execution_count": 16,
   "metadata": {},
   "outputs": [
    {
     "name": "stdout",
     "output_type": "stream",
     "text": [
      "Ratio of the (6, 6, 6) case compared to the (3, 10, 10) case is 1388423494.1287313\n"
     ]
    }
   ],
   "source": [
    "# Can we solve the problem in six dimensions with 6 lattice points?\n",
    "dim_1 = 6\n",
    "dim_2 = 3\n",
    "num_points_1 = 6\n",
    "num_points_2 = 10\n",
    "num_points_min = 3\n",
    "ratio = outcome_space_ratio_calculator(outcome_space_sizes, dim_1, dim_2, num_points_1, num_points_2, num_points_min)\n",
    "print (\"Ratio of the {} case compared to the {} case is {}\".format('(6, 6, 6)','(3, 10, 10)', str(ratio)))"
   ]
  },
  {
   "cell_type": "markdown",
   "metadata": {},
   "source": [
    "Based on the benchmark time of 95 s for (3,10,10), we conclude that it would take approximately 4182 years and 6 months to release the database...\n",
    "\n",
    "NB: If we want to release the covariance only, then it is expected it would only take us 5.8 years..."
   ]
  },
  {
   "cell_type": "code",
   "execution_count": 13,
   "metadata": {
    "collapsed": true
   },
   "outputs": [],
   "source": [
    "# Can we solve the problem in four dimensions with 7 lattice points"
   ]
  },
  {
   "cell_type": "code",
   "execution_count": 17,
   "metadata": {},
   "outputs": [
    {
     "name": "stdout",
     "output_type": "stream",
     "text": [
      "Ratio of the (4, 7, 7) case compared to the (3, 10, 10) case is 202.77500804012803\n"
     ]
    }
   ],
   "source": [
    "dim_1 = 4\n",
    "dim_2 = 3\n",
    "num_points_1 = 7\n",
    "num_points_2 = 10\n",
    "num_points_min = 3\n",
    "ratio = outcome_space_ratio_calculator(outcome_space_sizes, dim_1, dim_2, num_points_1, num_points_2, num_points_min)\n",
    "print (\"Ratio of the {} case compared to the {} case is {}\".format('(4, 7, 7)','(3, 10, 10)', str(ratio)))"
   ]
  },
  {
   "cell_type": "code",
   "execution_count": 8,
   "metadata": {},
   "outputs": [
    {
     "name": "stdout",
     "output_type": "stream",
     "text": [
      "Ratio of the (4, 10, 10) case compared to the (3, 10, 10) case is 512395.12818038935\n",
      "Time in years is 1.5273809039543174 years\n"
     ]
    }
   ],
   "source": [
    "# Can we solve the problem in four dimensions with 12 lattice points?\n",
    "dim_1 = 4\n",
    "dim_2 = 3\n",
    "num_points_1 = 10\n",
    "num_points_2 = 10\n",
    "num_points_min = 3\n",
    "ratio = outcome_space_ratio_calculator(outcome_space_sizes, dim_1, dim_2, num_points_1, num_points_2, num_points_min)\n",
    "print (\"Ratio of the {} case compared to the {} case is {}\".format(str(tuple([dim_1, num_points_1, num_points_1])),str(tuple([dim_2,num_points_2,num_points_2])), str(ratio)))\n",
    "time_years = ratio*baseline_time/(24*3600*365)\n",
    "print (\"Time in years is {} years\".format(time_years))"
   ]
  },
  {
   "cell_type": "markdown",
   "metadata": {},
   "source": [
    "In about 2483 years and 7 months..."
   ]
  },
  {
   "cell_type": "code",
   "execution_count": 28,
   "metadata": {},
   "outputs": [
    {
     "name": "stdout",
     "output_type": "stream",
     "text": [
      "Ratio of the (3, 12, 12) case compared to the (3, 10, 10) case is 11.970934504944246\n"
     ]
    }
   ],
   "source": [
    "# How long will it take to solve (3, 12, 12) compared to (3, 10, 10)\n",
    "dim_1 = 3\n",
    "dim_2 = 3\n",
    "num_points_1 = 12\n",
    "num_points_2 = 10\n",
    "num_points_min = 3\n",
    "ratio = outcome_space_ratio_calculator(outcome_space_sizes, dim_1, dim_2, num_points_1, num_points_2, num_points_min)\n",
    "print (\"Ratio of the {} case compared to the {} case is {}\".format('(3, 12, 12)','(3, 10, 10)', str(ratio)))"
   ]
  },
  {
   "cell_type": "markdown",
   "metadata": {},
   "source": [
    "This should take about 20 minutes... :)"
   ]
  },
  {
   "cell_type": "code",
   "execution_count": 19,
   "metadata": {},
   "outputs": [
    {
     "name": "stdout",
     "output_type": "stream",
     "text": [
      "Ratio of the (3, 15, 15) case compared to the (3, 10, 10) case is 233.65692189642414\n",
      "{2: [60, 72, 1560, 3600, 17052, 27776, 84672, 159300, 356400, 505296, 987168, 1387932, 2315460], 3: [210, 1344, 327360, 3326400, 63550410, 225093120, 1409264640, 5552150400, 22406377950, 66464428800, 225621996600, 467508647424, 1297298372370], 4: [0, 43680, 292995120, 13907124000, 1125837342000, 17048302951680, 337699986140160, 2844894815884800, 31250271022027200, 190728725710168800, 1336660594816404000, 5615675341612496160, 26748034572769801200], 5: [0, 0, 503703880680, 207011171082240, 91067198475413160, 9331970875483576320, 909233188314422459040, 19519812745684707456000, 631834739383768780860000, 10590795299932548733992960, 172303922819685803584478040, 1743356548978711651560576000, 17269389321056896231470061800], 6: [0, 0, 0, 7708736058296232960, 38122293131022894232320, 31044189883099757643417600, 15230027832834793744223377920, 1516671032643839116915091020800, 171390791478978107178879323220480, 9621689306846086382925764470118400, 446523707485435203341041139505930240, 12065549831583828139674595915059225600, 291430707514749240288279243305718427200]}\n"
     ]
    }
   ],
   "source": [
    "# Can we solve (3, 15, 15)?\n",
    "dim_1 = 3\n",
    "dim_2 = 3\n",
    "num_points_1 = 15\n",
    "num_points_2 = 10\n",
    "num_points_min = 3\n",
    "ratio = outcome_space_ratio_calculator(outcome_space_sizes, dim_1, dim_2, num_points_1, num_points_2, num_points_min)\n",
    "print (\"Ratio of the {} case compared to the {} case is {}\".format('(3, 15, 15)','(3, 10, 10)', str(ratio)))"
   ]
  },
  {
   "cell_type": "markdown",
   "metadata": {},
   "source": [
    "### Outcome feature space size against lattice density (for covariance only)"
   ]
  },
  {
   "cell_type": "code",
   "execution_count": 19,
   "metadata": {},
   "outputs": [
    {
     "name": "stdout",
     "output_type": "stream",
     "text": [
      "Ratio of the (2, 20, 20) case compared to the (3, 6, 6) case is 4.3353174603174605\n"
     ]
    }
   ],
   "source": [
    "# Compare (2, 20, 20) with (3,6,6)\n",
    "dim_1 = 2\n",
    "dim_2 = 3\n",
    "num_points_1 = 20\n",
    "num_points_2 = 6\n",
    "num_points_min = 3\n",
    "ratio = outcome_space_ratio_calculator(outcome_space_sizes, dim_1, dim_2, num_points_1, num_points_2, num_points_min)\n",
    "print (\"Ratio of the {} case compared to the {} case is {}\".format(str(tuple([dim_1,num_points_1,num_points_1])),str(tuple([dim_2,num_points_2,num_points_2])), str(ratio)))"
   ]
  },
  {
   "cell_type": "code",
   "execution_count": 21,
   "metadata": {},
   "outputs": [
    {
     "data": {
      "image/png": "[encoded data removed]",
      "text/plain": [
       "<Figure size 432x288 with 1 Axes>"
      ]
     },
     "metadata": {},
     "output_type": "display_data"
    }
   ],
   "source": [
    "for dim in range(min_dim, max_dim + 1):\n",
    "    plt.semilogy(range(num_points_min, num_points_max + 1), outcome_space_cov_sizes[dim], '--o', label = r'$d = ' + str(dim) + '$')\n",
    "plt.legend(fontsize = 13)\n",
    "plt.xticks(range(num_points_min, num_points_max + 1))\n",
    "plt.xlabel('Lattice density (points)', fontsize = 20)\n",
    "plt.ylabel('Number of outcomes', fontsize = 20)\n",
    "plt.grid(True)\n",
    "plt.show()"
   ]
  },
  {
   "cell_type": "code",
   "execution_count": null,
   "metadata": {
    "collapsed": true
   },
   "outputs": [],
   "source": [
    "dim_1 = 2\n",
    "dim_2 = 3\n",
    "num_points_1 = 20\n",
    "num_points_2 = 6\n",
    "num_points_min = 3\n",
    "ratio = outcome_space_ratio_calculator(outcome_space_sizes, dim_1, dim_2, num_points_1, num_points_2, num_points_min)\n",
    "print (\"Ratio of the {} case compared to the {} case is {}\".format(str(tuple([dim_1,num_points_1,num_points_1])),str(tuple([dim_2,num_points_2, num_points_2])), str(ratio)))"
   ]
  },
  {
   "cell_type": "markdown",
   "metadata": {},
   "source": [
    "### Investigation of feasibility of running fine target lattice densities in higher dimensions"
   ]
  },
  {
   "cell_type": "code",
   "execution_count": 9,
   "metadata": {},
   "outputs": [
    {
     "name": "stdout",
     "output_type": "stream",
     "text": [
      "Ratio of the (3, 10, 10) case compared to the (6, 3, 10) case is 21.398934398934397\n"
     ]
    }
   ],
   "source": [
    "# Run 10 target points in high dimensions\n",
    "dim_1 = 3\n",
    "dim_2 = 6\n",
    "num_points_1 = 10\n",
    "num_points_2 = 3\n",
    "num_points_targets_1 = 10\n",
    "num_points_targets_2 = 10\n",
    "ratio = outcome_space_ratio_calculator(outcome_space_sizes, dim_1, dim_2, num_points_1, num_points_2, num_points_min,\\\n",
    "                                       outcome_space_sizes_type = 'var_2', num_points_targets_1 = num_points_targets_1,\\\n",
    "                                       num_points_targets_2 = 10)\n",
    "print (\"Ratio of the {} case compared to the {} case is {}\".format(str(tuple([dim_1, num_points_1, num_points_targets_1])), \\\n",
    "                                                                   str(tuple([dim_2, num_points_2, num_points_targets_2])), \\\n",
    "                                                                   str(ratio)))"
   ]
  },
  {
   "cell_type": "code",
   "execution_count": 13,
   "metadata": {},
   "outputs": [
    {
     "name": "stdout",
     "output_type": "stream",
     "text": [
      "Ratio of the (3, 6, 6) case compared to the (6, 3, 8) case is 0.01282051282051282\n"
     ]
    }
   ],
   "source": [
    "# Run 10 target points in high dimensions\n",
    "dim_1 = 3\n",
    "dim_2 = 6\n",
    "num_points_1 = 6\n",
    "num_points_2 = 3\n",
    "num_points_targets_1 = 6\n",
    "num_points_targets_2 = 8\n",
    "ratio = outcome_space_ratio_calculator(outcome_space_sizes, dim_1, dim_2, num_points_1, num_points_2, num_points_min,\\\n",
    "                                       outcome_space_sizes_type = 'var_2', num_points_targets_1 = num_points_targets_1,\\\n",
    "                                       num_points_targets_2 = 10)\n",
    "print (\"Ratio of the {} case compared to the {} case is {}\".format(str(tuple([dim_1, num_points_1, num_points_targets_1])), \\\n",
    "                                                                   str(tuple([dim_2, num_points_2, num_points_targets_2])), \\\n",
    "                                                                   str(ratio)))"
   ]
  },
  {
   "cell_type": "markdown",
   "metadata": {},
   "source": [
    "## Estimation of runtimes"
   ]
  },
  {
   "cell_type": "code",
   "execution_count": 20,
   "metadata": {
    "collapsed": true
   },
   "outputs": [],
   "source": [
    "tgen_2 = [0.0019948482513427734, 0.0019943714141845703, 0.0, 0.0, 0.008341550827026367, 0.009973764419555664, 0.03191423416137695, 0.04525589942932129, 0.13279199600219727, 0.15598702430725098, 0.33379030227661133, 0.4983642101287842, 0.7440059185028076, 1.2507853507995605, 1.7408859729766846, 2.3502464294433594, 3.9673285484313965, 4.983625173568726]\n",
    "tgen_2 = [0.0019948482513427734, 0.0019943714141845703, 0.004943714141845703,  0.00743714141845703, 0.008341550827026367, 0.009973764419555664, 0.03191423416137695, 0.04525589942932129, 0.13279199600219727, 0.15598702430725098, 0.33379030227661133, 0.4983642101287842, 0.7440059185028076, 1.2507853507995605, 1.7408859729766846, 2.3502464294433594, 3.9673285484313965, 4.983625173568726]\n",
    "\n",
    "tsamp_2 = [0.0009970664978027344, 0.0019960403442382812, 0.0, 0.0, 0.0009970664978027344, 0.0009980201721191406, 0.001994609832763672, 0.015621662139892578, 0.005983829498291016, 0.015622138977050781, 0.006039142608642578, 0.004059791564941406, 0.02370905876159668, 0.053244829177856445, 0.06910014152526855, 0.07810759544372559, 0.1366713047027588, 0.1721031665802002]\n",
    "tgen_3 = [0.44385480880737305, 0.43265533447265625, 0.3924384117126465, 0.48853087425231934, 1.4991648197174072, 4.3277058601379395, 25.174266576766968, 94.3498260974884, 384.22021746635437, 1236.071961402893]\n",
    "tsamp_3 = [0.27141356468200684, 0.27985286712646484, 0.2499701976776123, 0.35611701011657715, 0.47748875617980957, 0.736992359161377, 1.1407570838928223, 2.042597532272339, 3.5104305744171143, 6.7802839279174805]"
   ]
  },
  {
   "cell_type": "code",
   "execution_count": 21,
   "metadata": {},
   "outputs": [
    {
     "name": "stdout",
     "output_type": "stream",
     "text": [
      "{4: [], 5: [], 6: []}\n"
     ]
    }
   ],
   "source": [
    "print(estimated_runtimes)"
   ]
  },
  {
   "cell_type": "code",
   "execution_count": 3,
   "metadata": {},
   "outputs": [
    {
     "name": "stdout",
     "output_type": "stream",
     "text": [
      "{2: [60, 72, 1560, 3600, 17052, 27776, 84672, 159300, 356400, 505296, 987168, 1387932, 2315460, 3529440, 5251232, 7105320, 10902276, 14421000], 3: [210, 1344, 327360, 3326400, 63550410, 225093120, 1409264640, 5552150400, 22406377950, 66464428800, 225621996600, 467508647424, 1297298372370, 2924733638400, 6369724290720, 12919039557120, 28037472292170, 50701204128960], 4: [0, 43680, 292995120, 13907124000, 1125837342000, 17048302951680, 337699986140160, 2844894815884800, 31250271022027200, 190728725710168800, 1336660594816404000, 5615675341612496160, 26748034572769801200, 103822437049934803200, 394968872621158651200, 1287867864949493529600, 4394727169677080383680, 12184504269103987541280], 5: [0, 0, 503703880680, 207011171082240, 91067198475413160, 9331970875483576320, 909233188314422459040, 19519812745684707456000, 631834739383768780860000, 10590795299932548733992960, 172303922819685803584478040, 1743356548978711651560576000, 17269389321056896231470061800, 129370281164013358845417000960, 1056173918725961146436709384000, 6017077060579867357498314608640, 35075909864480336823854950119360, 174525819386696848825808866283520], 6: [0, 0, 0, 7708736058296232960, 38122293131022894232320, 31044189883099757643417600, 15230027832834793744223377920, 1516671032643839116915091020800, 171390791478978107178879323220480, 9621689306846086382925764470118400, 446523707485435203341041139505930240, 12065549831583828139674595915059225600, 291430707514749240288279243305718427200, 5080751775872308219270492366884322099200, 91307901650391047968799835985612396208640, 1106144482489514871510181974096423414988800, 12717980425657135447906246809374322037440000, 124469858865969840971669130083742035219251200]}\n"
     ]
    },
    {
     "ename": "NameError",
     "evalue": "name 'num_points_min' is not defined",
     "output_type": "error",
     "traceback": [
      "\u001b[1;31m---------------------------------------------------------------------------\u001b[0m",
      "\u001b[1;31mNameError\u001b[0m                                 Traceback (most recent call last)",
      "\u001b[1;32m<ipython-input-3-22b9e849e3cb>\u001b[0m in \u001b[0;36m<module>\u001b[1;34m()\u001b[0m\n\u001b[0;32m     11\u001b[0m \u001b[1;32mfor\u001b[0m \u001b[0mdim_2\u001b[0m \u001b[1;32min\u001b[0m \u001b[0mrange\u001b[0m\u001b[1;33m(\u001b[0m\u001b[0mdim_1_min\u001b[0m\u001b[1;33m,\u001b[0m \u001b[0mdim_1_max\u001b[0m\u001b[1;33m)\u001b[0m\u001b[1;33m:\u001b[0m\u001b[1;33m\u001b[0m\u001b[0m\n\u001b[0;32m     12\u001b[0m     \u001b[1;32mfor\u001b[0m \u001b[0mnum_points_2\u001b[0m \u001b[1;32min\u001b[0m \u001b[0mrange\u001b[0m\u001b[1;33m(\u001b[0m\u001b[0mdim_2\u001b[0m\u001b[1;33m,\u001b[0m \u001b[0mnum_points_2_max\u001b[0m \u001b[1;33m+\u001b[0m \u001b[1;36m1\u001b[0m\u001b[1;33m)\u001b[0m\u001b[1;33m:\u001b[0m\u001b[1;33m\u001b[0m\u001b[0m\n\u001b[1;32m---> 13\u001b[1;33m         \u001b[0mestimated_runtimes\u001b[0m\u001b[1;33m[\u001b[0m\u001b[0mdim_2\u001b[0m\u001b[1;33m]\u001b[0m\u001b[1;33m.\u001b[0m\u001b[0mappend\u001b[0m\u001b[1;33m(\u001b[0m\u001b[0mbaseline_time\u001b[0m\u001b[1;33m/\u001b[0m\u001b[0moutcome_space_ratio_calculator\u001b[0m\u001b[1;33m(\u001b[0m\u001b[0moutcome_space_sizes\u001b[0m\u001b[1;33m,\u001b[0m \u001b[0mdim_1\u001b[0m\u001b[1;33m,\u001b[0m \u001b[0mdim_2\u001b[0m\u001b[1;33m,\u001b[0m \u001b[0mnum_points_1\u001b[0m\u001b[1;33m,\u001b[0m \u001b[0mnum_points_2\u001b[0m\u001b[1;33m,\u001b[0m \u001b[0mnum_points_min\u001b[0m\u001b[1;33m)\u001b[0m\u001b[1;33m)\u001b[0m\u001b[1;33m\u001b[0m\u001b[0m\n\u001b[0m\u001b[0;32m     14\u001b[0m \u001b[0mplt\u001b[0m\u001b[1;33m.\u001b[0m\u001b[0msemilogy\u001b[0m\u001b[1;33m(\u001b[0m\u001b[0mrange\u001b[0m\u001b[1;33m(\u001b[0m\u001b[1;36m3\u001b[0m\u001b[1;33m,\u001b[0m \u001b[0mnum_points_2_max\u001b[0m \u001b[1;33m+\u001b[0m\u001b[1;36m1\u001b[0m \u001b[1;33m)\u001b[0m\u001b[1;33m,\u001b[0m \u001b[0mtgen_2\u001b[0m\u001b[1;33m[\u001b[0m\u001b[1;36m0\u001b[0m\u001b[1;33m:\u001b[0m \u001b[0mlen\u001b[0m\u001b[1;33m(\u001b[0m\u001b[0mrange\u001b[0m\u001b[1;33m(\u001b[0m\u001b[1;36m3\u001b[0m\u001b[1;33m,\u001b[0m \u001b[0mnum_points_2_max\u001b[0m \u001b[1;33m+\u001b[0m \u001b[1;36m1\u001b[0m\u001b[1;33m)\u001b[0m\u001b[1;33m)\u001b[0m\u001b[1;33m]\u001b[0m\u001b[1;33m,\u001b[0m \u001b[0mlabel\u001b[0m \u001b[1;33m=\u001b[0m \u001b[1;34m'd = 2'\u001b[0m\u001b[1;33m)\u001b[0m\u001b[1;33m\u001b[0m\u001b[0m\n\u001b[0;32m     15\u001b[0m \u001b[0mplt\u001b[0m\u001b[1;33m.\u001b[0m\u001b[0msemilogy\u001b[0m\u001b[1;33m(\u001b[0m\u001b[0mrange\u001b[0m\u001b[1;33m(\u001b[0m\u001b[1;36m3\u001b[0m\u001b[1;33m,\u001b[0m \u001b[0mnum_points_2_max\u001b[0m \u001b[1;33m+\u001b[0m\u001b[1;36m1\u001b[0m \u001b[1;33m)\u001b[0m\u001b[1;33m,\u001b[0m \u001b[0mtgen_3\u001b[0m\u001b[1;33m[\u001b[0m\u001b[1;36m0\u001b[0m\u001b[1;33m:\u001b[0m \u001b[0mlen\u001b[0m\u001b[1;33m(\u001b[0m\u001b[0mrange\u001b[0m\u001b[1;33m(\u001b[0m\u001b[1;36m3\u001b[0m\u001b[1;33m,\u001b[0m \u001b[0mnum_points_2_max\u001b[0m \u001b[1;33m+\u001b[0m \u001b[1;36m1\u001b[0m\u001b[1;33m)\u001b[0m\u001b[1;33m)\u001b[0m\u001b[1;33m]\u001b[0m\u001b[1;33m,\u001b[0m \u001b[0mlabel\u001b[0m \u001b[1;33m=\u001b[0m \u001b[1;34m'd = 3'\u001b[0m\u001b[1;33m)\u001b[0m\u001b[1;33m\u001b[0m\u001b[0m\n",
      "\u001b[1;31mNameError\u001b[0m: name 'num_points_min' is not defined"
     ]
    }
   ],
   "source": [
    "# Do the estimates for dimensions 4,5,6,7\n",
    "print(outcome_space_sizes)\n",
    "baseline_time = 94.00457096099854 # based on the (3,10,10) case\n",
    "dim_2 = 3\n",
    "num_points_1 = 10\n",
    "dim_1_min = 4\n",
    "dim_1_max = 7\n",
    "num_points_2_max = 12\n",
    "estimated_runtimes = {key: [] for key in range(dim_1_min, dim_1_max)}\n",
    "ratios = {key: [] for key in range(dim_1_min, dim_1_max)}\n",
    "for dim_2 in range(dim_1_min, dim_1_max):\n",
    "    for num_points_2 in range(dim_2, num_points_2_max + 1):\n",
    "        estimated_runtimes[dim_2].append(baseline_time/outcome_space_ratio_calculator(outcome_space_sizes, dim_1, dim_2, num_points_1, num_points_2, num_points_min))\n",
    "plt.semilogy(range(3, num_points_2_max +1 ), tgen_2[0: len(range(3, num_points_2_max + 1))], label = 'd = 2')\n",
    "plt.semilogy(range(3, num_points_2_max +1 ), tgen_3[0: len(range(3, num_points_2_max + 1))], label = 'd = 3')\n",
    "for dimension in estimated_runtimes.keys():\n",
    "    plt.semilogy(range(dimension, num_points_2_max + 1), estimated_runtimes[dimension], '--*', label = r'$d = ' + str(dimension) + '$')\n",
    "plt.xlabel (r'$k_f,\\; k_t$' + '( points)', fontsize = 16)\n",
    "plt.ylabel ('Runtime (s)', fontsize = 16)\n",
    "plt.xticks(range(3,13))\n",
    "plt.legend(fontsize = 13)\n",
    "plt.grid(True)\n",
    "plt.show()"
   ]
  },
  {
   "cell_type": "code",
   "execution_count": 36,
   "metadata": {},
   "outputs": [
    {
     "data": {
      "text/plain": [
       "dict_keys([4, 5, 6])"
      ]
     },
     "execution_count": 36,
     "metadata": {},
     "output_type": "execute_result"
    }
   ],
   "source": [
    "estimated_runtimes.keys()"
   ]
  },
  {
   "cell_type": "code",
   "execution_count": 4,
   "metadata": {},
   "outputs": [
    {
     "name": "stdout",
     "output_type": "stream",
     "text": [
      "{2: [60, 72, 1560, 3600, 17052, 27776, 84672, 159300, 356400, 505296, 987168, 1387932, 2315460, 3529440, 5251232, 7105320, 10902276, 14421000], 3: [210, 1344, 327360, 3326400, 63550410, 225093120, 1409264640, 5552150400, 22406377950, 66464428800, 225621996600, 467508647424, 1297298372370, 2924733638400, 6369724290720, 12919039557120, 28037472292170, 50701204128960], 4: [0, 43680, 292995120, 13907124000, 1125837342000, 17048302951680, 337699986140160, 2844894815884800, 31250271022027200, 190728725710168800, 1336660594816404000, 5615675341612496160, 26748034572769801200, 103822437049934803200, 394968872621158651200, 1287867864949493529600, 4394727169677080383680, 12184504269103987541280], 5: [0, 0, 503703880680, 207011171082240, 91067198475413160, 9331970875483576320, 909233188314422459040, 19519812745684707456000, 631834739383768780860000, 10590795299932548733992960, 172303922819685803584478040, 1743356548978711651560576000, 17269389321056896231470061800, 129370281164013358845417000960, 1056173918725961146436709384000, 6017077060579867357498314608640, 35075909864480336823854950119360, 174525819386696848825808866283520], 6: [0, 0, 0, 7708736058296232960, 38122293131022894232320, 31044189883099757643417600, 15230027832834793744223377920, 1516671032643839116915091020800, 171390791478978107178879323220480, 9621689306846086382925764470118400, 446523707485435203341041139505930240, 12065549831583828139674595915059225600, 291430707514749240288279243305718427200, 5080751775872308219270492366884322099200, 91307901650391047968799835985612396208640, 1106144482489514871510181974096423414988800, 12717980425657135447906246809374322037440000, 124469858865969840971669130083742035219251200]}\n"
     ]
    }
   ],
   "source": [
    "print (outcome_space_sizes)"
   ]
  },
  {
   "cell_type": "code",
   "execution_count": null,
   "metadata": {
    "collapsed": true
   },
   "outputs": [],
   "source": []
  }
 ],
 "metadata": {
  "kernelspec": {
   "display_name": "Python 3",
   "language": "python",
   "name": "python3"
  },
  "language_info": {
   "codemirror_mode": {
    "name": "ipython",
    "version": 3
   },
   "file_extension": ".py",
   "mimetype": "text/x-python",
   "name": "python",
   "nbconvert_exporter": "python",
   "pygments_lexer": "ipython3",
   "version": "3.6.1"
  }
 },
 "nbformat": 4,
 "nbformat_minor": 2
}
