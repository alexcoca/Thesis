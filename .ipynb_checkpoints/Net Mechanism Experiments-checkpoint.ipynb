{
 "cells": [
  {
   "cell_type": "markdown",
   "metadata": {},
   "source": [
    "# Net Mechanism Experiments"
   ]
  },
  {
   "cell_type": "code",
   "execution_count": 2,
   "metadata": {
    "collapsed": true
   },
   "outputs": [],
   "source": [
    "import second_moment_experiments_main as experiment"
   ]
  },
  {
   "cell_type": "markdown",
   "metadata": {},
   "source": [
    "## Baseline code performance for $d = 3, k_t = 10$ and $k_f = 10$"
   ]
  },
  {
   "cell_type": "code",
   "execution_count": 3,
   "metadata": {
    "collapsed": true
   },
   "outputs": [],
   "source": [
    "# Default parameters list\n",
    "dimensionality = 3\n",
    "num_records = 20\n",
    "batch_size = 10000\n",
    "directory = '/homes/ac2123/Thesis/Experiments'\n",
    "parallel = True\n",
    "save_data = False\n",
    "partition_method = 'fast_2'\n",
    "workers = -1\n",
    "num_samples = 25\n",
    "sample_parallel = True\n",
    "load_data = False\n",
    "num_points_targets = 10\n",
    "num_points_features = 10\n",
    "epsilon = 0.1\n",
    "seed = 23"
   ]
  },
  {
   "cell_type": "code",
   "execution_count": 4,
   "metadata": {
    "scrolled": true
   },
   "outputs": [
    {
     "name": "stdout",
     "output_type": "stream",
     "text": [
      "Initialising synthetic feature space lattice\n",
      "Synthetic feature space initialised\n",
      "Initialising synthethic target space lattice\n",
      "Synthethic target space initialised\n",
      "Number of batches is 772\n",
      "Number of batches is  772\n",
      "Starting parallel pool\n",
      "Outcome space generation parallel pool execution complete\n",
      "Partition function is 4862185999.04\n",
      "Starting parallel sampling procedure\n",
      "Parallel sampling procedure complete\n",
      "Recovered combination (78, 222, 304)\n",
      "Recovered combination (226, 238, 265)\n",
      "Recovered combination (139, 268, 276)\n",
      "Recovered combination (38, 102, 311)\n",
      "Recovered combination (29, 77, 318)\n",
      "Recovered combination (116, 318, 329)\n",
      "Recovered combination (21, 163, 222)\n",
      "Recovered combination (55, 312, 322)\n",
      "Recovered combination (100, 130, 164)\n",
      "Recovered combination (59, 115, 286)\n",
      "Recovered combination (0, 61, 119)\n",
      "Recovered combination (186, 207, 232)\n",
      "Recovered combination (186, 262, 296)\n",
      "Recovered combination (41, 61, 166)\n",
      "Recovered combination (93, 240, 345)\n",
      "Recovered combination (260, 317, 356)\n",
      "Recovered combination (168, 230, 329)\n",
      "Recovered combination (8, 29, 306)\n",
      "Recovered combination (40, 82, 319)\n",
      "Recovered combination (39, 74, 124)\n",
      "Recovered combination (159, 229, 312)\n",
      "Recovered combination (102, 117, 172)\n",
      "Recovered combination (14, 19, 307)\n",
      "Recovered combination (0, 13, 88)\n",
      "Recovered combination (222, 238, 341)\n",
      "Elapsed time with -1 workers is 139.38731145858765\n"
     ]
    }
   ],
   "source": [
    "synthetic_data = experiment.second_order_moment_experiment(dimensionality = dimensionality, num_records = num_records, batch_size = batch_size,\\\n",
    "                                           directory = directory, parallel = parallel, save_data = save_data, partition_method = partition_method,\\\n",
    "                                           workers = workers, num_samples = num_samples, sample_parallel = sample_parallel, load_data = load_data,\\\n",
    "                                           num_points_targets = num_points_targets, num_points_features = num_points_features, epsilon = epsilon,\\\n",
    "                                           seed = seed)"
   ]
  },
  {
   "cell_type": "markdown",
   "metadata": {},
   "source": [
    "## Double the batch size ( $b = 20,000$ )"
   ]
  },
  {
   "cell_type": "code",
   "execution_count": 5,
   "metadata": {},
   "outputs": [
    {
     "name": "stdout",
     "output_type": "stream",
     "text": [
      "Initialising synthetic feature space lattice\n",
      "Synthetic feature space initialised\n",
      "Initialising synthethic target space lattice\n",
      "Synthethic target space initialised\n",
      "Number of batches is 386\n",
      "Number of batches is  386\n",
      "Starting parallel pool\n",
      "Outcome space generation parallel pool execution complete\n",
      "Partition function is 4862185999.04\n",
      "Starting parallel sampling procedure\n",
      "Parallel sampling procedure complete\n",
      "Recovered combination (78, 222, 304)\n",
      "Recovered combination (226, 238, 265)\n",
      "Recovered combination (139, 268, 276)\n",
      "Recovered combination (38, 102, 311)\n",
      "Recovered combination (29, 77, 318)\n",
      "Recovered combination (116, 318, 329)\n",
      "Recovered combination (21, 163, 222)\n",
      "Recovered combination (55, 312, 322)\n",
      "Recovered combination (100, 130, 164)\n",
      "Recovered combination (59, 115, 286)\n",
      "Recovered combination (0, 61, 119)\n",
      "Recovered combination (186, 207, 232)\n",
      "Recovered combination (186, 262, 296)\n",
      "Recovered combination (41, 61, 166)\n",
      "Recovered combination (93, 240, 345)\n",
      "Recovered combination (260, 317, 356)\n",
      "Recovered combination (168, 230, 329)\n",
      "Recovered combination (8, 29, 306)\n",
      "Recovered combination (40, 82, 319)\n",
      "Recovered combination (39, 74, 124)\n",
      "Recovered combination (159, 229, 312)\n",
      "Recovered combination (102, 117, 172)\n",
      "Recovered combination (14, 19, 307)\n",
      "Recovered combination (0, 13, 88)\n",
      "Recovered combination (222, 238, 341)\n",
      "Elapsed time with -1 workers is 235.13053178787231\n"
     ]
    }
   ],
   "source": [
    "batch_size = 20000\n",
    "synthetic_data = experiment.second_order_moment_experiment(dimensionality = dimensionality, num_records = num_records, batch_size = batch_size,\\\n",
    "                                           directory = directory, parallel = parallel, save_data = save_data, partition_method = partition_method,\\\n",
    "                                           workers = workers, num_samples = num_samples, sample_parallel = sample_parallel, load_data = load_data,\\\n",
    "                                           num_points_targets = num_points_targets, num_points_features = num_points_features, epsilon = epsilon,\\\n",
    "                                           seed = seed)"
   ]
  },
  {
   "cell_type": "markdown",
   "metadata": {},
   "source": [
    "## Batch size of $b = 15, 000$"
   ]
  },
  {
   "cell_type": "code",
   "execution_count": null,
   "metadata": {},
   "outputs": [
    {
     "name": "stdout",
     "output_type": "stream",
     "text": [
      "Initialising synthetic feature space lattice\n",
      "Synthetic feature space initialised\n",
      "Initialising synthethic target space lattice\n",
      "Synthethic target space initialised\n",
      "Number of batches is 515\n",
      "Number of batches is  515\n",
      "Starting parallel pool\n"
     ]
    }
   ],
   "source": [
    "batch_size = 15000\n",
    "synthetic_data = experiment.second_order_moment_experiment(dimensionality = dimensionality, num_records = num_records, batch_size = batch_size,\\\n",
    "                                           directory = directory, parallel = parallel, save_data = save_data, partition_method = partition_method,\\\n",
    "                                           workers = workers, num_samples = num_samples, sample_parallel = sample_parallel, load_data = load_data,\\\n",
    "                                           num_points_targets = num_points_targets, num_points_features = num_points_features, epsilon = epsilon,\\\n",
    "                                           seed = seed)"
   ]
  },
  {
   "cell_type": "markdown",
   "metadata": {},
   "source": [
    "## Batch size of $b = 5,000$"
   ]
  },
  {
   "cell_type": "code",
   "execution_count": null,
   "metadata": {
    "collapsed": true
   },
   "outputs": [],
   "source": [
    "batch_size = 5000\n",
    "synthetic_data = experiment.second_order_moment_experiment(dimensionality = dimensionality, num_records = num_records, batch_size = batch_size,\\\n",
    "                                           directory = directory, parallel = parallel, save_data = save_data, partition_method = partition_method,\\\n",
    "                                           workers = workers, num_samples = num_samples, sample_parallel = sample_parallel, load_data = load_data,\\\n",
    "                                           num_points_targets = num_points_targets, num_points_features = num_points_features, epsilon = epsilon,\\\n",
    "                                           seed = seed)"
   ]
  }
 ],
 "metadata": {
  "kernelspec": {
   "display_name": "Python 3",
   "language": "python",
   "name": "python3"
  },
  "language_info": {
   "codemirror_mode": {
    "name": "ipython",
    "version": 3
   },
   "file_extension": ".py",
   "mimetype": "text/x-python",
   "name": "python",
   "nbconvert_exporter": "python",
   "pygments_lexer": "ipython3",
   "version": "3.6.3"
  }
 },
 "nbformat": 4,
 "nbformat_minor": 2
}
