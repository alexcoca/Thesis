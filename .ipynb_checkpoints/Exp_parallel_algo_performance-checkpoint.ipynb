{
 "cells": [
  {
   "cell_type": "markdown",
   "metadata": {},
   "source": [
    "# Investigation of performance of parallel algorithm"
   ]
  },
  {
   "cell_type": "code",
   "execution_count": 37,
   "metadata": {
    "collapsed": true
   },
   "outputs": [],
   "source": [
    "import math\n",
    "import matplotlib\n",
    "import matplotlib.pyplot as plt\n",
    "import os\n",
    "import pickle\n",
    "import second_moment_experiments_main as experiment\n",
    "\n",
    "plt.rc('text', usetex = True)\n",
    "plt.rc('font', family = 'serif')\n",
    "matplotlib.rc('xtick', labelsize=14) \n",
    "matplotlib.rc('ytick', labelsize=14) "
   ]
  },
  {
   "cell_type": "code",
   "execution_count": null,
   "metadata": {},
   "outputs": [],
   "source": [
    "exp_name = 'exp_parallel_benchmark'\n",
    "with open ('D:/Thesis/Experiments/exp_parallel_benchmark/' + exp_name, \"rb\") as container:\n",
    "    results = pickle.load(container)\n",
    "generation_runtimes = results[0]\n",
    "sampling_runtimes = results[1]"
   ]
  },
  {
   "cell_type": "markdown",
   "metadata": {},
   "source": [
    "$\\textbf{Setup:}$ Measure the time it takes to perform the lattice generation and sampling as the number of cores is varied. The experiment is performed for a dataset with dimensionality $d = 3$ and features and lattice densities of $k = 10$."
   ]
  },
  {
   "cell_type": "markdown",
   "metadata": {},
   "source": [
    "## Parameter set-up"
   ]
  },
  {
   "cell_type": "code",
   "execution_count": 38,
   "metadata": {
    "collapsed": true
   },
   "outputs": [],
   "source": [
    "# Default parameters list\n",
    "num_records = 40\n",
    "test_frac = 0.5\n",
    "batch_size = 1000\n",
    "directory = 'D:/Thesis/Experiments/exp_parallel_benchmark/'\n",
    "parallel = True\n",
    "save_data = False\n",
    "partition_method = 'fast_2'\n",
    "num_samples = 25\n",
    "sample_parallel = True \n",
    "load_data = False\n",
    "allow_overwrite = True # Allows overwriting the data log so that the experiment can be carried out\n",
    "seed = 23\n",
    "# sampling_workers = -1"
   ]
  },
  {
   "cell_type": "code",
   "execution_count": 39,
   "metadata": {
    "collapsed": true
   },
   "outputs": [],
   "source": [
    "# Experiment specific\n",
    "lattice_density = 10\n",
    "dimensionality = 3\n",
    "workers_min = 1\n",
    "workers_max = os.cpu_count()\n",
    "num_points_features = lattice_density\n",
    "num_points_targets = lattice_density\n",
    "epsilon = 0.1"
   ]
  },
  {
   "cell_type": "markdown",
   "metadata": {},
   "source": [
    "## Run the experiment"
   ]
  },
  {
   "cell_type": "code",
   "execution_count": 40,
   "metadata": {
    "collapsed": true
   },
   "outputs": [],
   "source": [
    "# Data containers \n",
    "generation_runtimes = []\n",
    "sampling_runtimes = []"
   ]
  },
  {
   "cell_type": "code",
   "execution_count": 41,
   "metadata": {},
   "outputs": [
    {
     "name": "stdout",
     "output_type": "stream",
     "text": [
      "Number of cores 8\n",
      "Initialising synthetic feature space lattice\n",
      "Synthetic feature space initialised\n",
      "Initialising synthethic target space lattice\n",
      "Synthethic target space initialised\n",
      "Number of batches is 2\n",
      "Number of batches is  2\n",
      "Starting parallel pool\n",
      "Partition function is 136519.62845605492\n",
      "Max scaled utility is -0.013675755577507408\n",
      "Generation time 1.9170851707458496\n",
      "Starting parallel sampling procedure\n",
      "Parallel sampling operating on 8 cores\n",
      "Parallel sampling procedure complete\n",
      "Sampling time 1.6556227207183838\n",
      "Overall max utility -0.027351511155014815\n"
     ]
    },
    {
     "ename": "FileExistsError",
     "evalue": "Please delete or copy the old data!",
     "output_type": "error",
     "traceback": [
      "\u001b[1;31m---------------------------------------------------------------------------\u001b[0m",
      "\u001b[1;31mFileExistsError\u001b[0m                           Traceback (most recent call last)",
      "\u001b[1;32m<ipython-input-41-de3fd5db9880>\u001b[0m in \u001b[0;36m<module>\u001b[1;34m()\u001b[0m\n\u001b[0;32m      1\u001b[0m \u001b[1;32mfor\u001b[0m \u001b[0mworkers\u001b[0m \u001b[1;32min\u001b[0m \u001b[0mreversed\u001b[0m\u001b[1;33m(\u001b[0m\u001b[0mrange\u001b[0m\u001b[1;33m(\u001b[0m\u001b[0mworkers_min\u001b[0m\u001b[1;33m,\u001b[0m \u001b[0mworkers_max\u001b[0m \u001b[1;33m+\u001b[0m \u001b[1;36m1\u001b[0m\u001b[1;33m)\u001b[0m\u001b[1;33m)\u001b[0m\u001b[1;33m:\u001b[0m\u001b[1;33m\u001b[0m\u001b[0m\n\u001b[0;32m      2\u001b[0m     \u001b[0mprint\u001b[0m \u001b[1;33m(\u001b[0m\u001b[1;34m\"Number of cores\"\u001b[0m\u001b[1;33m,\u001b[0m \u001b[0mworkers\u001b[0m\u001b[1;33m)\u001b[0m\u001b[1;33m\u001b[0m\u001b[0m\n\u001b[1;32m----> 3\u001b[1;33m     \u001b[0mdata\u001b[0m \u001b[1;33m=\u001b[0m \u001b[0mexperiment\u001b[0m\u001b[1;33m.\u001b[0m\u001b[0msecond_order_moment_experiment\u001b[0m\u001b[1;33m(\u001b[0m\u001b[0mdimensionality\u001b[0m \u001b[1;33m=\u001b[0m \u001b[0mdimensionality\u001b[0m\u001b[1;33m,\u001b[0m \u001b[0mnum_records\u001b[0m \u001b[1;33m=\u001b[0m \u001b[0mnum_records\u001b[0m\u001b[1;33m,\u001b[0m \u001b[0mtest_frac\u001b[0m \u001b[1;33m=\u001b[0m \u001b[0mtest_frac\u001b[0m\u001b[1;33m,\u001b[0m                                                      \u001b[0mbatch_size\u001b[0m \u001b[1;33m=\u001b[0m \u001b[0mbatch_size\u001b[0m\u001b[1;33m,\u001b[0m\u001b[0mdirectory\u001b[0m \u001b[1;33m=\u001b[0m \u001b[0mdirectory\u001b[0m\u001b[1;33m,\u001b[0m \u001b[0mparallel\u001b[0m \u001b[1;33m=\u001b[0m \u001b[0mparallel\u001b[0m\u001b[1;33m,\u001b[0m \u001b[0msave_data\u001b[0m \u001b[1;33m=\u001b[0m \u001b[0msave_data\u001b[0m\u001b[1;33m,\u001b[0m                                                     \u001b[0mpartition_method\u001b[0m \u001b[1;33m=\u001b[0m \u001b[0mpartition_method\u001b[0m\u001b[1;33m,\u001b[0m \u001b[0mworkers\u001b[0m \u001b[1;33m=\u001b[0m \u001b[0mworkers\u001b[0m\u001b[1;33m,\u001b[0m \u001b[0msampling_workers\u001b[0m \u001b[1;33m=\u001b[0m \u001b[0mworkers\u001b[0m\u001b[1;33m,\u001b[0m\u001b[0mnum_samples\u001b[0m \u001b[1;33m=\u001b[0m \u001b[0mnum_samples\u001b[0m\u001b[1;33m,\u001b[0m                                                     \u001b[0msample_parallel\u001b[0m \u001b[1;33m=\u001b[0m \u001b[0msample_parallel\u001b[0m\u001b[1;33m,\u001b[0m \u001b[0mload_data\u001b[0m \u001b[1;33m=\u001b[0m \u001b[0mload_data\u001b[0m\u001b[1;33m,\u001b[0m \u001b[0mnum_points_targets\u001b[0m \u001b[1;33m=\u001b[0m \u001b[0mnum_points_targets\u001b[0m\u001b[1;33m,\u001b[0m                                                     \u001b[0mnum_points_features\u001b[0m \u001b[1;33m=\u001b[0m \u001b[0mnum_points_features\u001b[0m\u001b[1;33m,\u001b[0m \u001b[0mepsilon\u001b[0m \u001b[1;33m=\u001b[0m \u001b[0mepsilon\u001b[0m\u001b[1;33m,\u001b[0m \u001b[0mseed\u001b[0m \u001b[1;33m=\u001b[0m \u001b[0mseed\u001b[0m\u001b[1;33m,\u001b[0m                                                     \u001b[0mallow_overwrite\u001b[0m \u001b[1;33m=\u001b[0m \u001b[0mallow_overwrite\u001b[0m\u001b[1;33m)\u001b[0m\u001b[1;33m\u001b[0m\u001b[0m\n\u001b[0m\u001b[0;32m      4\u001b[0m     \u001b[0mgeneration_runtimes\u001b[0m\u001b[1;33m.\u001b[0m\u001b[0mappend\u001b[0m\u001b[1;33m(\u001b[0m\u001b[0mdata\u001b[0m\u001b[1;33m[\u001b[0m\u001b[1;34m'tgen'\u001b[0m\u001b[1;33m]\u001b[0m\u001b[1;33m)\u001b[0m\u001b[1;33m\u001b[0m\u001b[0m\n\u001b[0;32m      5\u001b[0m     \u001b[0msampling_runtimes\u001b[0m\u001b[1;33m.\u001b[0m\u001b[0mappend\u001b[0m\u001b[1;33m(\u001b[0m\u001b[0mdata\u001b[0m\u001b[1;33m[\u001b[0m\u001b[1;34m'tsamp'\u001b[0m\u001b[1;33m]\u001b[0m\u001b[1;33m)\u001b[0m\u001b[1;33m\u001b[0m\u001b[0m\n",
      "\u001b[1;32mC:\\Users\\alexc\\OneDrive\\Documents\\GitHub\\Thesis\\second_moment_experiments_main.py\u001b[0m in \u001b[0;36msecond_order_moment_experiment\u001b[1;34m(dimensionality, num_records, test_frac, batch_size, directory, parallel, save_data, partition_method, workers, sampling_workers, num_samples, samples_only, sample_parallel, load_data, num_points_targets, num_points_features, epsilon, seed, allow_overwrite)\u001b[0m\n\u001b[0;32m     38\u001b[0m \u001b[1;33m\u001b[0m\u001b[0m\n\u001b[0;32m     39\u001b[0m     \u001b[0mt_start\u001b[0m \u001b[1;33m=\u001b[0m \u001b[0mtime\u001b[0m\u001b[1;33m.\u001b[0m\u001b[0mtime\u001b[0m\u001b[1;33m(\u001b[0m\u001b[1;33m)\u001b[0m\u001b[1;33m\u001b[0m\u001b[0m\n\u001b[1;32m---> 40\u001b[1;33m     \u001b[0mresults\u001b[0m \u001b[1;33m=\u001b[0m \u001b[0mSyntheticData\u001b[0m\u001b[1;33m.\u001b[0m\u001b[0mgenerate_data\u001b[0m\u001b[1;33m(\u001b[0m\u001b[0mproperty_preserved\u001b[0m \u001b[1;33m=\u001b[0m \u001b[1;34m'second_moments'\u001b[0m\u001b[1;33m)\u001b[0m\u001b[1;33m\u001b[0m\u001b[0m\n\u001b[0m\u001b[0;32m     41\u001b[0m     \u001b[0mt_end\u001b[0m \u001b[1;33m=\u001b[0m \u001b[0mtime\u001b[0m\u001b[1;33m.\u001b[0m\u001b[0mtime\u001b[0m\u001b[1;33m(\u001b[0m\u001b[1;33m)\u001b[0m\u001b[1;33m\u001b[0m\u001b[0m\n\u001b[0;32m     42\u001b[0m \u001b[1;33m\u001b[0m\u001b[0m\n",
      "\u001b[1;32mC:\\Users\\alexc\\OneDrive\\Documents\\GitHub\\Thesis\\netmechanism.py\u001b[0m in \u001b[0;36mgenerate_data\u001b[1;34m(self, property_preserved)\u001b[0m\n\u001b[0;32m   1129\u001b[0m         \u001b[1;31m# print (\"The sampled datasets are\", self.synthetic_datasets)\u001b[0m\u001b[1;33m\u001b[0m\u001b[1;33m\u001b[0m\u001b[0m\n\u001b[0;32m   1130\u001b[0m         \u001b[0mpath\u001b[0m \u001b[1;33m=\u001b[0m \u001b[0mself\u001b[0m\u001b[1;33m.\u001b[0m\u001b[0msampler\u001b[0m\u001b[1;33m.\u001b[0m\u001b[0mbasename\u001b[0m \u001b[1;33m+\u001b[0m \u001b[1;34m\"/\"\u001b[0m \u001b[1;33m+\u001b[0m \u001b[0mexperiment_name\u001b[0m \u001b[1;33m+\u001b[0m \u001b[1;34m\"/DataLog/\"\u001b[0m\u001b[1;33m\u001b[0m\u001b[0m\n\u001b[1;32m-> 1131\u001b[1;33m         \u001b[0mself\u001b[0m\u001b[1;33m.\u001b[0m\u001b[0msave\u001b[0m\u001b[1;33m(\u001b[0m\u001b[0mself\u001b[0m\u001b[1;33m.\u001b[0m\u001b[0msampling_parameters\u001b[0m\u001b[1;33m,\u001b[0m \u001b[0mpath\u001b[0m\u001b[1;33m,\u001b[0m \u001b[0mexperiment_name\u001b[0m\u001b[1;33m,\u001b[0m \u001b[0mallow_overwrite\u001b[0m \u001b[1;33m=\u001b[0m \u001b[0mself\u001b[0m\u001b[1;33m.\u001b[0m\u001b[0mallow_overwrite\u001b[0m\u001b[1;33m)\u001b[0m\u001b[1;33m\u001b[0m\u001b[0m\n\u001b[0m\u001b[0;32m   1132\u001b[0m \u001b[1;33m\u001b[0m\u001b[0m\n\u001b[0;32m   1133\u001b[0m         \u001b[1;32mreturn\u001b[0m \u001b[0mself\u001b[0m\u001b[1;33m.\u001b[0m\u001b[0msampling_parameters\u001b[0m\u001b[1;33m\u001b[0m\u001b[0m\n",
      "\u001b[1;32mC:\\Users\\alexc\\OneDrive\\Documents\\GitHub\\Thesis\\netmechanism_helpers.py\u001b[0m in \u001b[0;36msave\u001b[1;34m(self, data, path, filename, allow_overwrite)\u001b[0m\n\u001b[0;32m     93\u001b[0m         \u001b[1;32mif\u001b[0m \u001b[0mos\u001b[0m\u001b[1;33m.\u001b[0m\u001b[0mpath\u001b[0m\u001b[1;33m.\u001b[0m\u001b[0mexists\u001b[0m\u001b[1;33m(\u001b[0m\u001b[0mfullpath\u001b[0m\u001b[1;33m)\u001b[0m\u001b[1;33m:\u001b[0m\u001b[1;33m\u001b[0m\u001b[0m\n\u001b[0;32m     94\u001b[0m             \u001b[1;32mif\u001b[0m \u001b[1;32mnot\u001b[0m \u001b[0mallow_overwrite\u001b[0m\u001b[1;33m:\u001b[0m\u001b[1;33m\u001b[0m\u001b[0m\n\u001b[1;32m---> 95\u001b[1;33m                 \u001b[1;32mraise\u001b[0m \u001b[0mFileExistsError\u001b[0m\u001b[1;33m(\u001b[0m\u001b[1;34m\"Please delete or copy the old data!\"\u001b[0m\u001b[1;33m)\u001b[0m\u001b[1;33m\u001b[0m\u001b[0m\n\u001b[0m\u001b[0;32m     96\u001b[0m             \u001b[1;32melse\u001b[0m\u001b[1;33m:\u001b[0m\u001b[1;33m\u001b[0m\u001b[0m\n\u001b[0;32m     97\u001b[0m                 \u001b[0mos\u001b[0m\u001b[1;33m.\u001b[0m\u001b[0mremove\u001b[0m\u001b[1;33m(\u001b[0m\u001b[0mfullpath\u001b[0m\u001b[1;33m)\u001b[0m\u001b[1;33m\u001b[0m\u001b[0m\n",
      "\u001b[1;31mFileExistsError\u001b[0m: Please delete or copy the old data!"
     ]
    }
   ],
   "source": [
    "for workers in reversed(range(workers_min, workers_max + 1)):\n",
    "    print (\"Number of cores\", workers)\n",
    "    data = experiment.second_order_moment_experiment(dimensionality = dimensionality, num_records = num_records, test_frac = test_frac, \\\n",
    "                                                     batch_size = batch_size,directory = directory, parallel = parallel, save_data = save_data,\\\n",
    "                                                     partition_method = partition_method, workers = workers, sampling_workers = workers,num_samples = num_samples,\\\n",
    "                                                     sample_parallel = sample_parallel, load_data = load_data, num_points_targets = num_points_targets,\\\n",
    "                                                     num_points_features = num_points_features, epsilon = epsilon, seed = seed,\\\n",
    "                                                     allow_overwrite = allow_overwrite)\n",
    "    generation_runtimes.append(data['tgen'])\n",
    "    sampling_runtimes.append(data['tsamp'])"
   ]
  },
  {
   "cell_type": "code",
   "execution_count": 33,
   "metadata": {},
   "outputs": [],
   "source": [
    "# Save data\n",
    "results = [generation_runtimes, sampling_runtimes]\n",
    "exp_name = 'exp_parallel_benchmark'\n",
    "with open (directory + exp_name, \"wb\") as container:\n",
    "    pickle.dump(results, container)"
   ]
  },
  {
   "cell_type": "markdown",
   "metadata": {},
   "source": [
    "# Plot the results"
   ]
  },
  {
   "cell_type": "code",
   "execution_count": 34,
   "metadata": {},
   "outputs": [],
   "source": [
    "xcoordinate_gen = range(workers_min, workers_max + 1)\n",
    "if num_samples > workers_max:\n",
    "    xcoordinate_samp = range(workers_min, workers_max + 1)\n",
    "else:\n",
    "    xcoordinate_samp = range(workers_min, num_samples + 1)"
   ]
  },
  {
   "cell_type": "code",
   "execution_count": 35,
   "metadata": {},
   "outputs": [
    {
     "data": {
      "image/png": "[encoded data removed]",
      "text/plain": [
       "<Figure size 432x288 with 1 Axes>"
      ]
     },
     "metadata": {},
     "output_type": "display_data"
    }
   ],
   "source": [
    "# Plot the generation time results\n",
    "plt.plot(xcoordinate_gen, list(reversed(generation_runtimes)), '--*')\n",
    "plt.xlabel('Number of cores', fontsize = 20)\n",
    "plt.ylabel('Runtime (s)', fontsize = 20)\n",
    "plt.xticks(xcoordinate_gen)\n",
    "plt.grid(True)\n",
    "plt.show()"
   ]
  },
  {
   "cell_type": "code",
   "execution_count": 36,
   "metadata": {},
   "outputs": [
    {
     "data": {
      "image/png": "[encoded data removed]",
      "text/plain": [
       "<Figure size 432x288 with 1 Axes>"
      ]
     },
     "metadata": {},
     "output_type": "display_data"
    }
   ],
   "source": [
    "# Plot the sampling time results\n",
    "plt.plot(xcoordinate_samp, list(reversed(sampling_runtimes[0:len(xcoordinate_samp)])), '--*')\n",
    "plt.xlabel('Number of cores', fontsize = 20)\n",
    "plt.ylabel('Runtime (s)', fontsize = 20)\n",
    "plt.xticks(xcoordinate_samp)\n",
    "plt.grid(True)\n",
    "plt.show()"
   ]
  },
  {
   "cell_type": "code",
   "execution_count": null,
   "metadata": {
    "collapsed": true
   },
   "outputs": [],
   "source": []
  }
 ],
 "metadata": {
  "kernelspec": {
   "display_name": "Python 3",
   "language": "python",
   "name": "python3"
  },
  "language_info": {
   "codemirror_mode": {
    "name": "ipython",
    "version": 3
   },
   "file_extension": ".py",
   "mimetype": "text/x-python",
   "name": "python",
   "nbconvert_exporter": "python",
   "pygments_lexer": "ipython3",
   "version": "3.6.1"
  }
 },
 "nbformat": 4,
 "nbformat_minor": 2
}
