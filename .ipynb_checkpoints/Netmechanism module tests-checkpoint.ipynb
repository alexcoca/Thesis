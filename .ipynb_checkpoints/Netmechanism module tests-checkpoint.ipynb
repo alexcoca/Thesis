{
 "cells": [
  {
   "cell_type": "markdown",
   "metadata": {},
   "source": [
    "# Test the FeaturesLattice class"
   ]
  },
  {
   "cell_type": "code",
   "execution_count": 1,
   "metadata": {},
   "outputs": [],
   "source": [
    "from netmechanism import FeaturesLattice\n",
    "import testutilities\n",
    "import numpy as np\n",
    "import math"
   ]
  },
  {
   "cell_type": "markdown",
   "metadata": {},
   "source": [
    "Testing the recursive algorithm for $\\ell_2$-lattice generation against a brute force method which generates the $\\ell_\\infty$-lattice first and then discards points with $\\|\\cdot\\|_2 \\geq 1$. \n",
    "\n",
    "$\\textbf{Test case}$: the dimensionality $d$ varies between $2$ and $5$, and for each dimension the number of points $k$ is between $3$ and $25$. For speed, only solutions in the positive quadrant are considered. A relative tolerance of $1e-05$ is used for all comparisons (inc. difference calculation)."
   ]
  },
  {
   "cell_type": "code",
   "execution_count": 5,
   "metadata": {},
   "outputs": [
    {
     "name": "stdout",
     "output_type": "stream",
     "text": [
      "Dimension 2\n",
      "Number of points 3\n",
      "Dimension 2\n",
      "Number of points 4\n",
      "Dimension 2\n",
      "Number of points 5\n",
      "Dimension 2\n",
      "Number of points 6\n",
      "Dimension 2\n",
      "Number of points 7\n",
      "Dimension 2\n",
      "Number of points 8\n",
      "Dimension 2\n",
      "Number of points 9\n",
      "Dimension 2\n",
      "Number of points 10\n",
      "Dimension 2\n",
      "Number of points 11\n",
      "Dimension 2\n",
      "Number of points 12\n",
      "Dimension 2\n",
      "Number of points 13\n",
      "Dimension 2\n",
      "Number of points 14\n",
      "Dimension 2\n",
      "Number of points 15\n",
      "Dimension 2\n",
      "Number of points 16\n",
      "Dimension 2\n",
      "Number of points 17\n",
      "Dimension 2\n",
      "Number of points 18\n",
      "Dimension 2\n",
      "Number of points 19\n",
      "Dimension 2\n",
      "Number of points 20\n",
      "Dimension 2\n",
      "Number of points 21\n"
     ]
    },
    {
     "ename": "KeyboardInterrupt",
     "evalue": "",
     "output_type": "error",
     "traceback": [
      "\u001b[1;31m---------------------------------------------------------------------------\u001b[0m",
      "\u001b[1;31mKeyboardInterrupt\u001b[0m                         Traceback (most recent call last)",
      "\u001b[1;32m<ipython-input-5-d9c17ff7ff22>\u001b[0m in \u001b[0;36m<module>\u001b[1;34m()\u001b[0m\n\u001b[0;32m     14\u001b[0m         \u001b[0mtest_points\u001b[0m \u001b[1;33m=\u001b[0m \u001b[0mOutputLattice\u001b[0m\u001b[1;33m.\u001b[0m\u001b[0mpoints\u001b[0m\u001b[1;33m\u001b[0m\u001b[0m\n\u001b[0;32m     15\u001b[0m         \u001b[1;31m# Points that are returned by the fancy algorithm but not by brute\u001b[0m\u001b[1;33m\u001b[0m\u001b[1;33m\u001b[0m\u001b[0m\n\u001b[1;32m---> 16\u001b[1;33m         \u001b[0mdifferences_1\u001b[0m \u001b[1;33m=\u001b[0m \u001b[0mtestutilities\u001b[0m\u001b[1;33m.\u001b[0m\u001b[0mget_differences\u001b[0m\u001b[1;33m(\u001b[0m\u001b[0mtest_points\u001b[0m\u001b[1;33m,\u001b[0m\u001b[0mintersection_m2\u001b[0m\u001b[1;33m)\u001b[0m\u001b[1;33m\u001b[0m\u001b[0m\n\u001b[0m\u001b[0;32m     17\u001b[0m         \u001b[1;32massert\u001b[0m \u001b[0mdifferences_1\u001b[0m\u001b[1;33m.\u001b[0m\u001b[0msize\u001b[0m \u001b[1;33m==\u001b[0m \u001b[1;36m0\u001b[0m\u001b[1;33m\u001b[0m\u001b[0m\n\u001b[0;32m     18\u001b[0m         \u001b[1;31m# Points that are returned by the brute but not the fancy algorithm\u001b[0m\u001b[1;33m\u001b[0m\u001b[1;33m\u001b[0m\u001b[0m\n",
      "\u001b[1;32mC:\\Users\\alexc\\OneDrive\\Documents\\GitHub\\Thesis\\testutilities.py\u001b[0m in \u001b[0;36mget_differences\u001b[1;34m(array_a, array_b, rel_tol)\u001b[0m\n\u001b[0;32m    131\u001b[0m     \u001b[1;32mfor\u001b[0m \u001b[0mindex\u001b[0m \u001b[1;32min\u001b[0m \u001b[0mrange\u001b[0m\u001b[1;33m(\u001b[0m\u001b[0marray_a\u001b[0m\u001b[1;33m.\u001b[0m\u001b[0mshape\u001b[0m\u001b[1;33m[\u001b[0m\u001b[1;36m0\u001b[0m\u001b[1;33m]\u001b[0m\u001b[1;33m)\u001b[0m\u001b[1;33m:\u001b[0m\u001b[1;33m\u001b[0m\u001b[0m\n\u001b[0;32m    132\u001b[0m         \u001b[0mcomparison\u001b[0m \u001b[1;33m=\u001b[0m \u001b[0marray_a\u001b[0m\u001b[1;33m[\u001b[0m\u001b[0mindex\u001b[0m\u001b[1;33m,\u001b[0m\u001b[1;33m:\u001b[0m\u001b[1;33m]\u001b[0m\u001b[1;33m\u001b[0m\u001b[0m\n\u001b[1;32m--> 133\u001b[1;33m         \u001b[1;32mif\u001b[0m \u001b[0min_array\u001b[0m\u001b[1;33m(\u001b[0m\u001b[0marray_b\u001b[0m\u001b[1;33m-\u001b[0m\u001b[0mcomparison\u001b[0m\u001b[1;33m,\u001b[0m\u001b[0mrel_tol\u001b[0m\u001b[1;33m)\u001b[0m\u001b[1;33m:\u001b[0m\u001b[1;33m\u001b[0m\u001b[0m\n\u001b[0m\u001b[0;32m    134\u001b[0m                 \u001b[0mmask\u001b[0m\u001b[1;33m.\u001b[0m\u001b[0mappend\u001b[0m\u001b[1;33m(\u001b[0m\u001b[1;32mFalse\u001b[0m\u001b[1;33m)\u001b[0m\u001b[1;33m\u001b[0m\u001b[0m\n\u001b[0;32m    135\u001b[0m         \u001b[1;32melse\u001b[0m\u001b[1;33m:\u001b[0m\u001b[1;33m\u001b[0m\u001b[0m\n",
      "\u001b[1;32mC:\\Users\\alexc\\OneDrive\\Documents\\GitHub\\Thesis\\testutilities.py\u001b[0m in \u001b[0;36min_array\u001b[1;34m(array, rel_tol)\u001b[0m\n\u001b[0;32m    112\u001b[0m         \u001b[1;34m''' Checks whether the vector @candidate is one of the rows of the matrix @array'''\u001b[0m\u001b[1;33m\u001b[0m\u001b[0m\n\u001b[0;32m    113\u001b[0m         \u001b[1;32mfor\u001b[0m \u001b[0mindex\u001b[0m \u001b[1;32min\u001b[0m \u001b[0mrange\u001b[0m\u001b[1;33m(\u001b[0m\u001b[0marray\u001b[0m\u001b[1;33m.\u001b[0m\u001b[0mshape\u001b[0m\u001b[1;33m[\u001b[0m\u001b[1;36m0\u001b[0m\u001b[1;33m]\u001b[0m\u001b[1;33m)\u001b[0m\u001b[1;33m:\u001b[0m\u001b[1;33m\u001b[0m\u001b[0m\n\u001b[1;32m--> 114\u001b[1;33m             \u001b[0mindicator\u001b[0m \u001b[1;33m=\u001b[0m \u001b[0mnp\u001b[0m\u001b[1;33m.\u001b[0m\u001b[0mall\u001b[0m\u001b[1;33m(\u001b[0m\u001b[1;33m[\u001b[0m\u001b[1;32mTrue\u001b[0m \u001b[1;32mif\u001b[0m \u001b[0mnp\u001b[0m\u001b[1;33m.\u001b[0m\u001b[0misclose\u001b[0m\u001b[1;33m(\u001b[0m\u001b[0ma\u001b[0m\u001b[1;33m,\u001b[0m\u001b[1;36m0.0\u001b[0m\u001b[1;33m,\u001b[0m\u001b[0mrtol\u001b[0m\u001b[1;33m=\u001b[0m\u001b[0mrel_tol\u001b[0m\u001b[1;33m)\u001b[0m \u001b[1;33m==\u001b[0m \u001b[1;32mTrue\u001b[0m \u001b[1;32melse\u001b[0m \u001b[1;32mFalse\u001b[0m \u001b[1;32mfor\u001b[0m \u001b[0ma\u001b[0m \u001b[1;32min\u001b[0m \u001b[0marray\u001b[0m\u001b[1;33m[\u001b[0m\u001b[0mindex\u001b[0m\u001b[1;33m,\u001b[0m\u001b[1;33m:\u001b[0m\u001b[1;33m]\u001b[0m\u001b[1;33m]\u001b[0m\u001b[1;33m)\u001b[0m\u001b[1;33m\u001b[0m\u001b[0m\n\u001b[0m\u001b[0;32m    115\u001b[0m             \u001b[1;32mif\u001b[0m \u001b[0mindicator\u001b[0m \u001b[1;33m==\u001b[0m \u001b[1;32mTrue\u001b[0m\u001b[1;33m:\u001b[0m\u001b[1;33m\u001b[0m\u001b[0m\n\u001b[0;32m    116\u001b[0m                 \u001b[1;32mbreak\u001b[0m\u001b[1;33m\u001b[0m\u001b[0m\n",
      "\u001b[1;32mC:\\Users\\alexc\\OneDrive\\Documents\\GitHub\\Thesis\\testutilities.py\u001b[0m in \u001b[0;36m<listcomp>\u001b[1;34m(.0)\u001b[0m\n\u001b[0;32m    112\u001b[0m         \u001b[1;34m''' Checks whether the vector @candidate is one of the rows of the matrix @array'''\u001b[0m\u001b[1;33m\u001b[0m\u001b[0m\n\u001b[0;32m    113\u001b[0m         \u001b[1;32mfor\u001b[0m \u001b[0mindex\u001b[0m \u001b[1;32min\u001b[0m \u001b[0mrange\u001b[0m\u001b[1;33m(\u001b[0m\u001b[0marray\u001b[0m\u001b[1;33m.\u001b[0m\u001b[0mshape\u001b[0m\u001b[1;33m[\u001b[0m\u001b[1;36m0\u001b[0m\u001b[1;33m]\u001b[0m\u001b[1;33m)\u001b[0m\u001b[1;33m:\u001b[0m\u001b[1;33m\u001b[0m\u001b[0m\n\u001b[1;32m--> 114\u001b[1;33m             \u001b[0mindicator\u001b[0m \u001b[1;33m=\u001b[0m \u001b[0mnp\u001b[0m\u001b[1;33m.\u001b[0m\u001b[0mall\u001b[0m\u001b[1;33m(\u001b[0m\u001b[1;33m[\u001b[0m\u001b[1;32mTrue\u001b[0m \u001b[1;32mif\u001b[0m \u001b[0mnp\u001b[0m\u001b[1;33m.\u001b[0m\u001b[0misclose\u001b[0m\u001b[1;33m(\u001b[0m\u001b[0ma\u001b[0m\u001b[1;33m,\u001b[0m\u001b[1;36m0.0\u001b[0m\u001b[1;33m,\u001b[0m\u001b[0mrtol\u001b[0m\u001b[1;33m=\u001b[0m\u001b[0mrel_tol\u001b[0m\u001b[1;33m)\u001b[0m \u001b[1;33m==\u001b[0m \u001b[1;32mTrue\u001b[0m \u001b[1;32melse\u001b[0m \u001b[1;32mFalse\u001b[0m \u001b[1;32mfor\u001b[0m \u001b[0ma\u001b[0m \u001b[1;32min\u001b[0m \u001b[0marray\u001b[0m\u001b[1;33m[\u001b[0m\u001b[0mindex\u001b[0m\u001b[1;33m,\u001b[0m\u001b[1;33m:\u001b[0m\u001b[1;33m]\u001b[0m\u001b[1;33m]\u001b[0m\u001b[1;33m)\u001b[0m\u001b[1;33m\u001b[0m\u001b[0m\n\u001b[0m\u001b[0;32m    115\u001b[0m             \u001b[1;32mif\u001b[0m \u001b[0mindicator\u001b[0m \u001b[1;33m==\u001b[0m \u001b[1;32mTrue\u001b[0m\u001b[1;33m:\u001b[0m\u001b[1;33m\u001b[0m\u001b[0m\n\u001b[0;32m    116\u001b[0m                 \u001b[1;32mbreak\u001b[0m\u001b[1;33m\u001b[0m\u001b[0m\n",
      "\u001b[1;32mC:\\Users\\alexc\\Anaconda3\\lib\\site-packages\\numpy\\core\\numeric.py\u001b[0m in \u001b[0;36misclose\u001b[1;34m(a, b, rtol, atol, equal_nan)\u001b[0m\n\u001b[0;32m   2321\u001b[0m             \u001b[1;32mreturn\u001b[0m \u001b[0mless_equal\u001b[0m\u001b[1;33m(\u001b[0m\u001b[0mabs\u001b[0m\u001b[1;33m(\u001b[0m\u001b[0mx\u001b[0m\u001b[1;33m-\u001b[0m\u001b[0my\u001b[0m\u001b[1;33m)\u001b[0m\u001b[1;33m,\u001b[0m \u001b[0matol\u001b[0m \u001b[1;33m+\u001b[0m \u001b[0mrtol\u001b[0m \u001b[1;33m*\u001b[0m \u001b[0mabs\u001b[0m\u001b[1;33m(\u001b[0m\u001b[0my\u001b[0m\u001b[1;33m)\u001b[0m\u001b[1;33m)\u001b[0m\u001b[1;33m\u001b[0m\u001b[0m\n\u001b[0;32m   2322\u001b[0m \u001b[1;33m\u001b[0m\u001b[0m\n\u001b[1;32m-> 2323\u001b[1;33m     \u001b[0mx\u001b[0m \u001b[1;33m=\u001b[0m \u001b[0masanyarray\u001b[0m\u001b[1;33m(\u001b[0m\u001b[0ma\u001b[0m\u001b[1;33m)\u001b[0m\u001b[1;33m\u001b[0m\u001b[0m\n\u001b[0m\u001b[0;32m   2324\u001b[0m     \u001b[0my\u001b[0m \u001b[1;33m=\u001b[0m \u001b[0masanyarray\u001b[0m\u001b[1;33m(\u001b[0m\u001b[0mb\u001b[0m\u001b[1;33m)\u001b[0m\u001b[1;33m\u001b[0m\u001b[0m\n\u001b[0;32m   2325\u001b[0m \u001b[1;33m\u001b[0m\u001b[0m\n",
      "\u001b[1;31mKeyboardInterrupt\u001b[0m: "
     ]
    }
   ],
   "source": [
    "dim_range = range(2,6)\n",
    "num_points_range = range(3,26)\n",
    "upper_bound = 1.0\n",
    "lower_bound = -1.0\n",
    "radius = 1.0\n",
    "num_dec = 10\n",
    "for dim in dim_range:\n",
    "    for num_points in num_points_range:\n",
    "        print(\"Dimension\",dim)\n",
    "        print(\"Number of points\",num_points)\n",
    "        OutputLattice = FeaturesLattice()\n",
    "        OutputLattice.generate_l2_lattice(dim=dim,radius=radius,lower_bound=lower_bound,upper_bound=upper_bound,num_points=num_points,pos_ord=False,rel_tol=r_tol)\n",
    "        intersection_m2 = testutilities.bruteNonIntegerIntersection(dim=dim,radius=radius,num_points=num_points,lower_bound=lower_bound,upper_bound=upper_bound,filtered = True,r_tol=r_tol)\n",
    "        test_points = OutputLattice.points\n",
    "        # Points that are returned by the fancy algorithm but not by brute\n",
    "        differences_1 = testutilities.get_differences(test_points,intersection_m2)\n",
    "        assert differences_1.size == 0\n",
    "        # Points that are returned by the brute but not the fancy algorithm\n",
    "        differences_2 = testutilities.get_differences(intersection_m2,test_points)\n",
    "        assert differences_2.size == 0\n",
    "        # Test that all the solutions have the correct length\n",
    "        lengths = [len(x) == dim for x in test_points]\n",
    "        assert np.all(lengths)\n",
    "        # Test that all the solutions are unique\n",
    "        assert np.unique(test_points,axis=0).shape[0] == len(test_points)\n",
    "        # Test that the norms of the elements returned are correct\n",
    "        norms = np.linalg.norm(np.array(test_points),ord=2,axis=1)\n",
    "        close_norms = [True if math.isclose(np.linalg.norm(x),1,rel_tol=1e-7) == True else False for x in norms]\n",
    "        small_norms = list(np.round(norms,decimals=num_dec) <=radius)\n",
    "        all_norms = [x or y for x,y in zip(small_norms,close_norms)]\n",
    "        # incorrect_points = np.array(test_points)[np.logical_not(all_norms)]\n",
    "        incorrect_points = [point for (indicator,point) in zip(np.logical_not(all_norms),test_points) if indicator==True]\n",
    "        assert np.all(all_norms)\n",
    "        # Test that the two methods return the same number of solutions\n",
    "        assert intersection_m2.shape[0] == len(test_points)\n",
    "print (\"Testing complete\")"
   ]
  },
  {
   "cell_type": "markdown",
   "metadata": {
    "collapsed": true
   },
   "source": [
    "$\\textbf{Test case}$: Testing the generation of permuted and signed solutions. For speed only small cases with dimensionality $d$ up to $4$ and with $k$ between $3$ and $9$ are considered. "
   ]
  },
  {
   "cell_type": "code",
   "execution_count": 4,
   "metadata": {},
   "outputs": [
    {
     "name": "stdout",
     "output_type": "stream",
     "text": [
      "Dimension 2\n",
      "Number of points 3\n",
      "Dimension 2\n",
      "Number of points 4\n",
      "Dimension 2\n",
      "Number of points 5\n",
      "Dimension 2\n",
      "Number of points 6\n",
      "Dimension 2\n",
      "Number of points 7\n",
      "Dimension 2\n",
      "Number of points 8\n",
      "Dimension 2\n",
      "Number of points 9\n",
      "Dimension 3\n",
      "Number of points 3\n",
      "Dimension 3\n",
      "Number of points 4\n",
      "Dimension 3\n",
      "Number of points 5\n",
      "Dimension 3\n",
      "Number of points 6\n",
      "Dimension 3\n",
      "Number of points 7\n",
      "Dimension 3\n",
      "Number of points 8\n",
      "Dimension 3\n",
      "Number of points 9\n",
      "Dimension 4\n",
      "Number of points 3\n",
      "Dimension 4\n",
      "Number of points 4\n",
      "Dimension 4\n",
      "Number of points 5\n",
      "Dimension 4\n",
      "Number of points 6\n",
      "Dimension 4\n",
      "Number of points 7\n",
      "Dimension 4\n",
      "Number of points 8\n",
      "Dimension 4\n",
      "Number of points 9\n",
      "Testing complete\n"
     ]
    }
   ],
   "source": [
    "dim_range = range(2,5)\n",
    "num_points_range = range(3,10)\n",
    "upper_bound = 1.0\n",
    "lower_bound = -1.0\n",
    "radius = 1.0\n",
    "num_dec = 10\n",
    "r_tol = 1e-5\n",
    "for dim in dim_range:\n",
    "    for num_points in num_points_range:\n",
    "        print(\"Dimension\",dim)\n",
    "        print(\"Number of points\",num_points)\n",
    "        OutputLattice = FeaturesLattice()\n",
    "        OutputLattice.generate_l2_lattice(dim=dim,radius=radius,lower_bound=lower_bound,upper_bound=upper_bound,num_points=num_points,pos_ord=True,rel_tol=r_tol)\n",
    "        intersection_m2 = testutilities.bruteNonIntegerIntersection(dim=dim,radius=radius,num_points=num_points,lower_bound=lower_bound,upper_bound=upper_bound,filtered = False,r_tol=r_tol)\n",
    "        test_points = OutputLattice.points\n",
    "        # Points that are returned by the fancy algorithm but not by brute\n",
    "        differences_1 = testutilities.get_differences(test_points,intersection_m2)\n",
    "        assert differences_1.size == 0\n",
    "        # Points that are returned by the brute but not the fancy algorithm\n",
    "        differences_2 = testutilities.get_differences(intersection_m2,test_points)\n",
    "        assert differences_2.size == 0\n",
    "        # Test that all the solutions have the correct length\n",
    "        lengths = [len(x) == dim for x in test_points]\n",
    "        assert np.all(lengths)\n",
    "        # Test that all the solutions are unique\n",
    "        assert np.unique(test_points,axis=0).shape[0] == len(test_points)\n",
    "        # Test that the norms of the elements returned are correct\n",
    "        norms = np.linalg.norm(np.array(test_points),ord=2,axis=1)\n",
    "        close_norms = [True if math.isclose(np.linalg.norm(x),1,rel_tol=1e-7) == True else False for x in norms]\n",
    "        small_norms = list(np.round(norms,decimals=num_dec) <=radius)\n",
    "        all_norms = [x or y for x,y in zip(small_norms,close_norms)]\n",
    "        # incorrect_points = np.array(test_points)[np.logical_not(all_norms)]\n",
    "        incorrect_points = [point for (indicator,point) in zip(np.logical_not(all_norms),test_points) if indicator==True]\n",
    "        assert np.all(all_norms)\n",
    "        # Test that the two methods return the same number of solutions\n",
    "        assert intersection_m2.shape[0] == len(test_points)\n",
    "print (\"Testing complete\")"
   ]
  },
  {
   "cell_type": "code",
   "execution_count": null,
   "metadata": {
    "collapsed": true
   },
   "outputs": [],
   "source": []
  }
 ],
 "metadata": {
  "kernelspec": {
   "display_name": "Python 3",
   "language": "python",
   "name": "python3"
  },
  "language_info": {
   "codemirror_mode": {
    "name": "ipython",
    "version": 3
   },
   "file_extension": ".py",
   "mimetype": "text/x-python",
   "name": "python",
   "nbconvert_exporter": "python",
   "pygments_lexer": "ipython3",
   "version": "3.6.1"
  }
 },
 "nbformat": 4,
 "nbformat_minor": 2
}
