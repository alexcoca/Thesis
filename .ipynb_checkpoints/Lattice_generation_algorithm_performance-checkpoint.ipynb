{
 "cells": [
  {
   "cell_type": "markdown",
   "metadata": {},
   "source": [
    "# Measuring the performance of the lattice generation algorithm"
   ]
  },
  {
   "cell_type": "code",
   "execution_count": 2,
   "metadata": {
    "collapsed": true
   },
   "outputs": [],
   "source": [
    "import matplotlib\n",
    "import matplotlib.pyplot as plt\n",
    "import pickle\n",
    "import time\n",
    "from netmechanism import FeaturesLattice\n",
    "from testutilities import bruteNonIntegerIntersection\n",
    "\n",
    "plt.rc('text', usetex = True)\n",
    "plt.rc('font', family = 'serif')\n",
    "matplotlib.rc('xtick', labelsize=14) \n",
    "matplotlib.rc('ytick', labelsize=14) "
   ]
  },
  {
   "cell_type": "code",
   "execution_count": null,
   "metadata": {
    "collapsed": true
   },
   "outputs": [],
   "source": [
    "# Load data\n",
    "filenames = ['brute_runtimes', 'recursive_runtimes', 'lattice_sizes']\n",
    "results = []\n",
    "for filename in filenames:\n",
    "    with open ('D:/Thesis/Experiments/exp_lattice_algo_comp/' + filename, \"rb\") as container:\n",
    "        results.append(pickle.load(container))\n",
    "runtimes_brute = results[0]\n",
    "runtimes_recursive = results[1]\n",
    "lattice_size = results[2]"
   ]
  },
  {
   "cell_type": "markdown",
   "metadata": {},
   "source": [
    "$\\textbf{Setup:}$ For dimensionality $d = 10$ the algorithms for lattice generation are compared. The lattice density is chosen in $k \\in  \\{3, 4, ..., 11\\}$."
   ]
  },
  {
   "cell_type": "markdown",
   "metadata": {},
   "source": [
    "## Parameter setup"
   ]
  },
  {
   "cell_type": "code",
   "execution_count": 11,
   "metadata": {
    "collapsed": true
   },
   "outputs": [],
   "source": [
    "# General parameters\n",
    "dim = 7\n",
    "lower_bound = -1.0\n",
    "upper_bound = 1.0\n",
    "radius  = 1.0 \n",
    "directory = 'D:/Thesis/Experiments/exp_lattice_algo_comp/'"
   ]
  },
  {
   "cell_type": "code",
   "execution_count": 12,
   "metadata": {
    "collapsed": true
   },
   "outputs": [],
   "source": [
    "# Brute force specific paramters\n",
    "filtered = False\n",
    "r_tol = 1e-9"
   ]
  },
  {
   "cell_type": "code",
   "execution_count": 13,
   "metadata": {
    "collapsed": true
   },
   "outputs": [],
   "source": [
    "# Recursive method specific paramters\n",
    "pos_ord = True"
   ]
  },
  {
   "cell_type": "code",
   "execution_count": 14,
   "metadata": {
    "collapsed": true
   },
   "outputs": [],
   "source": [
    "# Experiment specific paramters\n",
    "num_points_min  = 3\n",
    "num_points_max = 11"
   ]
  },
  {
   "cell_type": "markdown",
   "metadata": {},
   "source": [
    "## Run brute force algorithm and time it"
   ]
  },
  {
   "cell_type": "code",
   "execution_count": 15,
   "metadata": {},
   "outputs": [],
   "source": [
    "runtimes_brute = []\n",
    "for num_points in range(num_points_min,num_points_max):\n",
    "    tstart = time.time()\n",
    "    intersection_m2 = bruteNonIntegerIntersection(dim = dim, radius = radius, num_points = num_points,\\\n",
    "                                                            lower_bound = lower_bound, upper_bound = upper_bound, \\\n",
    "                                                            filtered = filtered, r_tol = r_tol)\n",
    "    tend = time.time()\n",
    "    runtimes_brute.append(tend - tstart)"
   ]
  },
  {
   "cell_type": "code",
   "execution_count": 16,
   "metadata": {},
   "outputs": [
    {
     "name": "stdout",
     "output_type": "stream",
     "text": [
      "[0.015956878662109375, 0.08480572700500488, 0.4200160503387451, 1.4930214881896973, 4.220341682434082, 10.976050615310669, 33.555638790130615, 50.620813846588135]\n"
     ]
    }
   ],
   "source": [
    "filename = 'brute_runtimes'\n",
    "with open (directory + filename, \"wb\") as container:\n",
    "    pickle.dump(runtimes_brute, container)\n",
    "print(runtimes_brute)"
   ]
  },
  {
   "cell_type": "code",
   "execution_count": 17,
   "metadata": {},
   "outputs": [
    {
     "name": "stdout",
     "output_type": "stream",
     "text": [
      "Runtimes for brute algorithm [0.015956878662109375, 0.08480572700500488, 0.4200160503387451, 1.4930214881896973, 4.220341682434082, 10.976050615310669, 33.555638790130615, 50.620813846588135]\n"
     ]
    }
   ],
   "source": [
    "print(\"Runtimes for brute algorithm\", runtimes_brute)"
   ]
  },
  {
   "cell_type": "markdown",
   "metadata": {},
   "source": [
    "## Run recursive algorithm and time it"
   ]
  },
  {
   "cell_type": "code",
   "execution_count": 24,
   "metadata": {
    "collapsed": true
   },
   "outputs": [],
   "source": [
    "runtimes_recursive = []\n",
    "lattice_size = []\n",
    "for num_points in range(num_points_min, num_points_max):\n",
    "    OutputLattice = FeaturesLattice()\n",
    "    t_start = time.time()\n",
    "    OutputLattice.generate_l2_lattice(dim = dim, radius = radius, lower_bound = lower_bound, upper_bound = upper_bound,\\\n",
    "                                      num_points = num_points, pos_ord = True, rel_tol = r_tol)\n",
    "    t_end = time.time()\n",
    "    runtimes_recursive.append(t_end - t_start)\n",
    "    lattice_size.append(OutputLattice.points.shape[0])"
   ]
  },
  {
   "cell_type": "code",
   "execution_count": 25,
   "metadata": {},
   "outputs": [
    {
     "name": "stdout",
     "output_type": "stream",
     "text": [
      "Runtimes for recursive algorithm [0.0029921531677246094, 0.0012488365173339844, 0.01171731948852539, 0.015116453170776367, 0.05978822708129883, 0.09588313102722168, 0.5015995502471924, 0.5806550979614258]\n"
     ]
    }
   ],
   "source": [
    "filename = 'recursive_runtimes'\n",
    "with open (directory + filename, \"wb\") as container:\n",
    "    pickle.dump(runtimes_recursive, container)\n",
    "print(\"Runtimes for recursive algorithm\", runtimes_recursive)"
   ]
  },
  {
   "cell_type": "code",
   "execution_count": 26,
   "metadata": {},
   "outputs": [
    {
     "name": "stdout",
     "output_type": "stream",
     "text": [
      "Lattice sizes [15, 128, 953, 3712, 12435, 35072, 88273, 191104]\n"
     ]
    }
   ],
   "source": [
    "filename = 'lattice_sizes'\n",
    "with open (directory + filename, \"wb\") as container:\n",
    "    pickle.dump(lattice_size, container)\n",
    "print(\"Lattice sizes\", lattice_size)"
   ]
  },
  {
   "cell_type": "markdown",
   "metadata": {},
   "source": [
    "## Plots"
   ]
  },
  {
   "cell_type": "code",
   "execution_count": 4,
   "metadata": {},
   "outputs": [
    {
     "ename": "NameError",
     "evalue": "name 'num_points_min' is not defined",
     "output_type": "error",
     "traceback": [
      "\u001b[1;31m---------------------------------------------------------------------------\u001b[0m",
      "\u001b[1;31mNameError\u001b[0m                                 Traceback (most recent call last)",
      "\u001b[1;32m<ipython-input-4-acfbbde883d5>\u001b[0m in \u001b[0;36m<module>\u001b[1;34m()\u001b[0m\n\u001b[1;32m----> 1\u001b[1;33m \u001b[0mxcoordinate\u001b[0m \u001b[1;33m=\u001b[0m \u001b[0mrange\u001b[0m\u001b[1;33m(\u001b[0m\u001b[0mnum_points_min\u001b[0m\u001b[1;33m,\u001b[0m \u001b[0mnum_points_max\u001b[0m\u001b[1;33m)\u001b[0m\u001b[1;33m\u001b[0m\u001b[0m\n\u001b[0m",
      "\u001b[1;31mNameError\u001b[0m: name 'num_points_min' is not defined"
     ]
    }
   ],
   "source": [
    "xcoordinate = range(num_points_min, num_points_max)"
   ]
  },
  {
   "cell_type": "code",
   "execution_count": 31,
   "metadata": {
    "collapsed": true
   },
   "outputs": [],
   "source": [
    "# Make sure the vectors have the same length\n",
    "if len(runtimes_brute) < len(runtimes_recursive):\n",
    "    runtimes_brute = runtimes_brute + [0 for _ in range(len(runtimes_recursive) - len(runtimes_brute))]"
   ]
  },
  {
   "cell_type": "code",
   "execution_count": 38,
   "metadata": {},
   "outputs": [
    {
     "data": {
      "image/png": "[encoded data removed]",
      "text/plain": [
       "<Figure size 432x288 with 1 Axes>"
      ]
     },
     "metadata": {},
     "output_type": "display_data"
    },
    {
     "data": {
      "image/png": "[encoded data removed]",
      "text/plain": [
       "<Figure size 432x288 with 1 Axes>"
      ]
     },
     "metadata": {},
     "output_type": "display_data"
    }
   ],
   "source": [
    "plt.figure()\n",
    "plt.plot(xcoordinate, runtimes_brute, '--*') #, label = 'Brute force')\n",
    "plt.xticks(xcoordinate)\n",
    "plt.xlabel('Lattice density (points)', fontsize = 20)\n",
    "plt.ylabel('Runtime (s)', fontsize = 20)\n",
    "plt.grid(True)\n",
    "plt.figure()\n",
    "plt.plot(xcoordinate, runtimes_recursive, '--*') #, label = 'Recursive')\n",
    "plt.xticks(xcoordinate)\n",
    "plt.xlabel('Lattice density (points)', fontsize = 20)\n",
    "plt.ylabel('Runtime (s)', fontsize = 20)\n",
    "plt.grid(True)\n",
    "plt.show()"
   ]
  },
  {
   "cell_type": "code",
   "execution_count": 3,
   "metadata": {},
   "outputs": [
    {
     "ename": "NameError",
     "evalue": "name 'xcoordinate' is not defined",
     "output_type": "error",
     "traceback": [
      "\u001b[1;31m---------------------------------------------------------------------------\u001b[0m",
      "\u001b[1;31mNameError\u001b[0m                                 Traceback (most recent call last)",
      "\u001b[1;32m<ipython-input-3-a068d62b82cc>\u001b[0m in \u001b[0;36m<module>\u001b[1;34m()\u001b[0m\n\u001b[1;32m----> 1\u001b[1;33m \u001b[0mplt\u001b[0m\u001b[1;33m.\u001b[0m\u001b[0mplot\u001b[0m\u001b[1;33m(\u001b[0m\u001b[0mxcoordinate\u001b[0m\u001b[1;33m,\u001b[0m \u001b[0mlattice_sizes\u001b[0m\u001b[1;33m)\u001b[0m\u001b[1;33m\u001b[0m\u001b[0m\n\u001b[0m\u001b[0;32m      2\u001b[0m \u001b[0mplt\u001b[0m\u001b[1;33m.\u001b[0m\u001b[0mxlabel\u001b[0m\u001b[1;33m(\u001b[0m\u001b[1;34m'Lattice density (points)'\u001b[0m\u001b[1;33m,\u001b[0m \u001b[0mfontsize\u001b[0m \u001b[1;33m=\u001b[0m \u001b[1;36m16\u001b[0m\u001b[1;33m)\u001b[0m\u001b[1;33m\u001b[0m\u001b[0m\n\u001b[0;32m      3\u001b[0m \u001b[0mplt\u001b[0m\u001b[1;33m.\u001b[0m\u001b[0mylabel\u001b[0m\u001b[1;33m(\u001b[0m\u001b[1;34m'Lattice size'\u001b[0m\u001b[1;33m,\u001b[0m \u001b[0mfontsize\u001b[0m \u001b[1;33m=\u001b[0m \u001b[1;36m16\u001b[0m\u001b[1;33m)\u001b[0m\u001b[1;33m\u001b[0m\u001b[0m\n\u001b[0;32m      4\u001b[0m \u001b[0mplt\u001b[0m\u001b[1;33m.\u001b[0m\u001b[0mxticks\u001b[0m\u001b[1;33m(\u001b[0m\u001b[0mxcoordinate\u001b[0m\u001b[1;33m)\u001b[0m\u001b[1;33m\u001b[0m\u001b[0m\n",
      "\u001b[1;31mNameError\u001b[0m: name 'xcoordinate' is not defined"
     ]
    }
   ],
   "source": [
    "plt.plot(xcoordinate, lattice_sizes)\n",
    "plt.xlabel('Lattice density (points)', fontsize = 16)\n",
    "plt.ylabel('Lattice size', fontsize = 16)\n",
    "plt.xticks(xcoordinate)"
   ]
  },
  {
   "cell_type": "code",
   "execution_count": null,
   "metadata": {
    "collapsed": true
   },
   "outputs": [],
   "source": []
  }
 ],
 "metadata": {
  "kernelspec": {
   "display_name": "Python 3",
   "language": "python",
   "name": "python3"
  },
  "language_info": {
   "codemirror_mode": {
    "name": "ipython",
    "version": 3
   },
   "file_extension": ".py",
   "mimetype": "text/x-python",
   "name": "python",
   "nbconvert_exporter": "python",
   "pygments_lexer": "ipython3",
   "version": "3.6.1"
  }
 },
 "nbformat": 4,
 "nbformat_minor": 2
}
